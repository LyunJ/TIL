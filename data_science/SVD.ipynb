{
 "cells": [
  {
   "cell_type": "code",
   "execution_count": 1,
   "id": "29615b9c-a1a8-44f8-b8de-d041ae426d69",
   "metadata": {},
   "outputs": [],
   "source": [
    "import numpy as np"
   ]
  },
  {
   "cell_type": "code",
   "execution_count": null,
   "id": "cdca097f-301f-444b-b34a-afa4bc66a25a",
   "metadata": {},
   "outputs": [],
   "source": [
    "# Dataset"
   ]
  },
  {
   "cell_type": "code",
   "execution_count": 3,
   "id": "7fca036f-15a3-4ba5-8c8c-93c3c1429d48",
   "metadata": {},
   "outputs": [
    {
     "name": "stdout",
     "output_type": "stream",
     "text": [
      "X.shape: (60, 3)\n"
     ]
    }
   ],
   "source": [
    "np.random.seed(4)\n",
    "m = 60\n",
    "w1, w2 = 0.1, 0.3\n",
    "noise = 0.1\n",
    "\n",
    "angles = np.random.rand(m)*3*np.pi/2-0.5\n",
    "X = np.empty((m,3))\n",
    "X[:,0] = np.cos(angles) + np.sin(angles)/2 + noise * np.random.randn(m)/2\n",
    "X[:,1] = np.sin(angles)*0.7+noise*np.random.randn(m)/2\n",
    "X[:,2] = X[:,0]*w1+X[:,1]*w2+noise*np.random.randn(m)\n",
    "\n",
    "print('X.shape:',X.shape)"
   ]
  },
  {
   "cell_type": "code",
   "execution_count": 4,
   "id": "a64b3bcf-b961-4e5c-b1bd-53ae62b6db5e",
   "metadata": {},
   "outputs": [],
   "source": [
    "# eigen-decomposition을 이용한 PCA 구하기"
   ]
  },
  {
   "cell_type": "code",
   "execution_count": 5,
   "id": "d07dde85-b344-4754-9709-dfb1b774a445",
   "metadata": {},
   "outputs": [
    {
     "name": "stdout",
     "output_type": "stream",
     "text": [
      "[[0.69812855 0.17640539 0.12137931]\n",
      " [0.17640539 0.1801727  0.07253614]\n",
      " [0.12137931 0.07253614 0.04552382]]\n"
     ]
    }
   ],
   "source": [
    "# 공분산 구하기\n",
    "X_cen = X - X.mean(axis=0)\n",
    "X_cov = np.dot(X_cen.T,X_cen)/59\n",
    "print(X_cov)"
   ]
  },
  {
   "cell_type": "code",
   "execution_count": 12,
   "id": "c6ed768e-6beb-4657-9641-0eb88f4126ff",
   "metadata": {},
   "outputs": [
    {
     "name": "stdout",
     "output_type": "stream",
     "text": [
      "eigenvalue : [0.77830975 0.1351726  0.01034272]\n",
      "eigenvector :\n",
      " [[ 0.93636116  0.34027485 -0.08626012]\n",
      " [ 0.29854881 -0.90119108 -0.31420255]\n",
      " [ 0.18465208 -0.2684542   0.94542898]]\n"
     ]
    }
   ],
   "source": [
    "w, v = np.linalg.eig(X_cov)\n",
    "\n",
    "print('eigenvalue :',w)\n",
    "print('eigenvector :\\n',v)"
   ]
  },
  {
   "cell_type": "code",
   "execution_count": 16,
   "id": "2d9f0087-5979-432b-ba27-9d3e58586f5b",
   "metadata": {},
   "outputs": [
    {
     "name": "stdout",
     "output_type": "stream",
     "text": [
      "explained variance ratio : [0.84248607 0.14631839 0.01119554]\n"
     ]
    }
   ],
   "source": [
    "print('explained variance ratio :',w/w.sum())"
   ]
  },
  {
   "cell_type": "code",
   "execution_count": 7,
   "id": "327b8346-ba75-49ce-96d0-5825daa0c5ed",
   "metadata": {},
   "outputs": [],
   "source": [
    "# SVD를 이용한 PCA 구하기"
   ]
  },
  {
   "cell_type": "code",
   "execution_count": 8,
   "id": "c1ddc316-b030-41e5-8706-ac7cc686ab43",
   "metadata": {},
   "outputs": [
    {
     "name": "stdout",
     "output_type": "stream",
     "text": [
      "singular value : [6.77645005 2.82403671 0.78116597]\n",
      "singular vector :\n",
      " [[ 0.93636116 -0.34027485 -0.08626012]\n",
      " [ 0.29854881  0.90119108 -0.31420255]\n",
      " [ 0.18465208  0.2684542   0.94542898]]\n"
     ]
    }
   ],
   "source": [
    "U, D, V_t = np.linalg.svd(X_cen)\n",
    "print('singular value :', D)\n",
    "print('singular vector :\\n', V_t.T)\n"
   ]
  },
  {
   "cell_type": "code",
   "execution_count": 14,
   "id": "899454aa-960b-4729-b2ed-3e1989d1c228",
   "metadata": {},
   "outputs": [
    {
     "name": "stdout",
     "output_type": "stream",
     "text": [
      "explained variance ratio : [0.84248607 0.14631839 0.01119554]\n"
     ]
    }
   ],
   "source": [
    "# eigenvalue의 square root한 값이 singular value이기 때문에 제곱하여 계산해 준다\n",
    "print('explained variance ratio :',D**2/np.sum(D**2))"
   ]
  },
  {
   "cell_type": "code",
   "execution_count": 9,
   "id": "54d9474b-f1be-4679-ac81-0ab18f362331",
   "metadata": {},
   "outputs": [],
   "source": [
    "# Scikit-Learn을 이용한 PCA 구하기"
   ]
  },
  {
   "cell_type": "code",
   "execution_count": 10,
   "id": "ae4550c7-7f83-4f7b-8278-dc28e6acbf90",
   "metadata": {},
   "outputs": [
    {
     "data": {
      "text/plain": [
       "PCA(n_components=3)"
      ]
     },
     "execution_count": 10,
     "metadata": {},
     "output_type": "execute_result"
    }
   ],
   "source": [
    "from sklearn.decomposition import PCA\n",
    "\n",
    "pca = PCA(n_components=3)\n",
    "pca.fit(X)"
   ]
  },
  {
   "cell_type": "code",
   "execution_count": 11,
   "id": "401ae935-51f8-499a-acef-0985b55331f5",
   "metadata": {},
   "outputs": [
    {
     "name": "stdout",
     "output_type": "stream",
     "text": [
      "singular value : [6.77645005 2.82403671 0.78116597]\n",
      "singular vector :\n",
      " [[-0.93636116  0.34027485 -0.08626012]\n",
      " [-0.29854881 -0.90119108 -0.31420255]\n",
      " [-0.18465208 -0.2684542   0.94542898]]\n"
     ]
    }
   ],
   "source": [
    "print('singular value :', pca.singular_values_)\n",
    "print('singular vector :\\n', pca.components_.T)"
   ]
  },
  {
   "cell_type": "code",
   "execution_count": 15,
   "id": "7e364d7e-fc2f-438e-b483-528a5b4ded39",
   "metadata": {},
   "outputs": [
    {
     "name": "stdout",
     "output_type": "stream",
     "text": [
      "eigen_value : [0.77830975 0.1351726  0.01034272]\n",
      "explained variance ratio : [0.84248607 0.14631839 0.01119554]\n"
     ]
    }
   ],
   "source": [
    "print('eigen_value :', pca.explained_variance_)\n",
    "print('explained variance ratio :', pca.explained_variance_ratio_)"
   ]
  },
  {
   "cell_type": "markdown",
   "id": "d75cb659-7374-494b-9514-51f557ec3b36",
   "metadata": {},
   "source": [
    "### Explained Variance Ratio\n",
    "explained variance ratio는 각각의 주성분 벡터가 이루는 축에 투영한 결과의 분산의 비율이며, 각 eignevalue의 비율과 같다\n",
    "\n",
    "위의 결과의 의미는 원 데이터 셋 분산의 84.2%가 첫번째 주성분 축에 놓여있고, 14.6%가 두번째 주성분 축에 놓여있다는 것을 말한다.\n",
    "\n",
    "그리고 세번째 주성분 축에는 1.1% 정도로 매우 적은 양의 정보가 들어있다는 것을 알게 된다\n",
    "\n",
    "따라서 3차원 데이터셋을 2차원으로 투영할 경우 원래 데이터셋의 분산에서 1.1%를 잃게 된다"
   ]
  },
  {
   "cell_type": "code",
   "execution_count": null,
   "id": "a1914aac-0d7a-43e6-9275-7d2b4d093dea",
   "metadata": {},
   "outputs": [],
   "source": []
  }
 ],
 "metadata": {
  "kernelspec": {
   "display_name": "Python Multi",
   "language": "python",
   "name": "multi"
  },
  "language_info": {
   "codemirror_mode": {
    "name": "ipython",
    "version": 3
   },
   "file_extension": ".py",
   "mimetype": "text/x-python",
   "name": "python",
   "nbconvert_exporter": "python",
   "pygments_lexer": "ipython3",
   "version": "3.7.6"
  }
 },
 "nbformat": 4,
 "nbformat_minor": 5
}
