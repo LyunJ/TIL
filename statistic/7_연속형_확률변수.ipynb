{
 "cells": [
  {
   "cell_type": "code",
   "execution_count": 1,
   "id": "08df4518-7d71-49fb-849f-a895f32d4469",
   "metadata": {},
   "outputs": [],
   "source": [
    "import numpy as np\n",
    "import matplotlib.pyplot as plt\n",
    "\n",
    "%precision 3\n",
    "%matplotlib inline"
   ]
  },
  {
   "cell_type": "code",
   "execution_count": 2,
   "id": "4c20e3bc-12ce-439e-8e2e-52624f913330",
   "metadata": {},
   "outputs": [],
   "source": [
    "from scipy import integrate\n",
    "import warnings\n",
    "\n",
    "# 적분에 관한 warning을 출력하지 않도록 한다\n",
    "warnings.filterwarnings('ignore',category=integrate.IntegrationWarning)"
   ]
  },
  {
   "cell_type": "markdown",
   "id": "3aacaa65-d806-4595-b568-545c59102719",
   "metadata": {},
   "source": [
    "## 1차원 연속형 확률변수\n",
    "\n",
    "연속형 확률변수는 확률변수가 취할 수 있는 값이 연속적인 확률변수이다\n",
    "\n",
    "연속형 확률변수는 정확히 어떤 값을 나타낼 수 없으므로(물을 떴을 때 정확히 500.0000...g일 확률은 0) 특정한 범위에 들어가는 확률을 구한다\n",
    "\n",
    "### 1차원 연속형 확률변수의 정의\n",
    "\n",
    "#### 확률밀도함수\n",
    "\n",
    "이산형 확률변수와는 다르게 확률변수가 취할 수 있는 값은 구간 [a,b]로 정의되며, 확률은 **확률밀도함수(probability density function,PDF)** 또는 간단히 **밀도함수** 라고 부르는 $f(x)$ 에 의해 정의된다\n",
    "\n",
    "밀도함수는 확률함수에 가깝지만\n",
    "\n",
    "$$f(x) = P(X=x)$$\n",
    "\n",
    "는 되지 않는다는 점에 주의하자(위의 식은 이산형 확률변수 식이다)\n",
    "\n",
    "밀도함수에 의한 확률은 확률변수 X가 $x_{0}\\geq X \\geq x_{1}$ 의 구간에 들어갈 확률 $P(x_{0} \\geq X \\geq x_{1}$로 정의되고, 다음과 같이 적분으로 계산한다\n",
    "\n",
    "$$P(x_{0} \\geq X \\geq x_{1} = \\int_{x_{0}}^{x_{0}}f(x)dx$$\n",
    "\n",
    "이 적분은 밀도함수 $f(x)$와 x축, 그리고 두 직선 $x=x_{0},x=x_{1}$으로 둘러싸인 영역의 면적으로 해석할 수 있다.\n",
    "\n",
    "불공정한 룰렛을 예로들어 파이썬으로 구현해보자"
   ]
  },
  {
   "cell_type": "code",
   "execution_count": 3,
   "id": "6daf2937-35c2-4a34-8308-23d14339b797",
   "metadata": {},
   "outputs": [],
   "source": [
    "x_range = np.array([0,1])"
   ]
  },
  {
   "cell_type": "markdown",
   "id": "bf1ab989-3d79-4758-9ae0-10385d4186fc",
   "metadata": {},
   "source": [
    "밀도함수는 다음과 같다\n",
    "\n",
    "$$f(x) = 2x(0 \\geq x \\geq 1)$$\n",
    "\n",
    "$$f(x) = 0 (otherwise)$$"
   ]
  },
  {
   "cell_type": "code",
   "execution_count": 4,
   "id": "1c9c0315-78b1-4810-9975-b408c3508937",
   "metadata": {},
   "outputs": [],
   "source": [
    "def f(x) : \n",
    "    if x_range[0] <= x <= x_range[1]:\n",
    "        return 2*x\n",
    "    else:\n",
    "        return 0"
   ]
  },
  {
   "cell_type": "markdown",
   "id": "0be3d2e7-2712-4924-9145-e9b8ec5872b2",
   "metadata": {},
   "source": [
    "이 x_range와 f의 세트가 확률분포이다.\n",
    "\n",
    "따라서 X는 x_range와 f를 요소로 하는 리스트로 구현한다"
   ]
  },
  {
   "cell_type": "code",
   "execution_count": 5,
   "id": "cc1ecd4e-1f56-4725-bb72-616449a1c85c",
   "metadata": {},
   "outputs": [],
   "source": [
    "X = [x_range, f]"
   ]
  },
  {
   "cell_type": "code",
   "execution_count": 6,
   "id": "5d3d0aaa-c899-4bfa-b457-2e59761a9e60",
   "metadata": {},
   "outputs": [
    {
     "data": {
      "image/png": "[encoded data removed]",
      "text/plain": [
       "<Figure size 720x432 with 1 Axes>"
      ]
     },
     "metadata": {
      "needs_background": "light"
     },
     "output_type": "display_data"
    }
   ],
   "source": [
    "# 0.4~0.6의 범위의 확률을 구한다\n",
    "\n",
    "xs = np.linspace(x_range[0], x_range[1], 100)\n",
    "\n",
    "fig = plt.figure(figsize=(10,6))\n",
    "ax = fig.add_subplot(111)\n",
    "\n",
    "ax.plot(xs,[f(x) for x in xs], label='f(x)', color='gray')\n",
    "ax.hlines(0,-0.2,1.2,alpha=0.3)\n",
    "ax.vlines(0,-0.2,2.2,alpha=0.3)\n",
    "ax.vlines(xs.max(), 0, 2.2, linestyles=':', color='gray')\n",
    "\n",
    "# 0.4부터 0.6까지 x좌표를 준비\n",
    "xs = np.linspace(0.4,0.6,100)\n",
    "# xs읩 범위로 f(x)와 x축으로 둘러싸인 영역에 색을 적용\n",
    "ax.fill_between(xs, [f(x) for x in xs], label='prob')\n",
    "\n",
    "ax.set_xticks(np.arange(-0.2,1.3,0.1))\n",
    "ax.set_xlim(-0.1,1.1)\n",
    "ax.set_ylim(-0.2,2.1)\n",
    "\n",
    "plt.show()"
   ]
  },
  {
   "cell_type": "code",
   "execution_count": null,
   "id": "89b337a2-e981-47a9-88ed-085f47061f22",
   "metadata": {},
   "outputs": [],
   "source": []
  }
 ],
 "metadata": {
  "kernelspec": {
   "display_name": "Python Multi",
   "language": "python",
   "name": "multi"
  },
  "language_info": {
   "codemirror_mode": {
    "name": "ipython",
    "version": 3
   },
   "file_extension": ".py",
   "mimetype": "text/x-python",
   "name": "python",
   "nbconvert_exporter": "python",
   "pygments_lexer": "ipython3",
   "version": "3.7.6"
  }
 },
 "nbformat": 4,
 "nbformat_minor": 5
}
