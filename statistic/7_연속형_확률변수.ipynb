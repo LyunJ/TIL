{
 "cells": [
  {
   "cell_type": "code",
   "execution_count": 1,
   "id": "08df4518-7d71-49fb-849f-a895f32d4469",
   "metadata": {},
   "outputs": [],
   "source": [
    "import numpy as np\n",
    "import matplotlib.pyplot as plt\n",
    "\n",
    "%precision 3\n",
    "%matplotlib inline"
   ]
  },
  {
   "cell_type": "code",
   "execution_count": 2,
   "id": "4c20e3bc-12ce-439e-8e2e-52624f913330",
   "metadata": {},
   "outputs": [],
   "source": [
    "from scipy import integrate\n",
    "# import warnings\n",
    "\n",
    "# 적분에 관한 warning을 출력하지 않도록 한다\n",
    "# warnings.filterwarnings('ignore',category=integrate.IntegrationWarning)"
   ]
  },
  {
   "cell_type": "markdown",
   "id": "3aacaa65-d806-4595-b568-545c59102719",
   "metadata": {},
   "source": [
    "## 1차원 연속형 확률변수\n",
    "\n",
    "연속형 확률변수는 확률변수가 취할 수 있는 값이 연속적인 확률변수이다\n",
    "\n",
    "연속형 확률변수는 정확히 어떤 값을 나타낼 수 없으므로(물을 떴을 때 정확히 500.0000...g일 확률은 0) 특정한 범위에 들어가는 확률을 구한다\n",
    "\n",
    "### 1차원 연속형 확률변수의 정의\n",
    "\n",
    "#### 확률밀도함수\n",
    "\n",
    "이산형 확률변수와는 다르게 확률변수가 취할 수 있는 값은 구간 [a,b]로 정의되며, 확률은 **확률밀도함수(probability density function,PDF)** 또는 간단히 **밀도함수** 라고 부르는 $f(x)$ 에 의해 정의된다\n",
    "\n",
    "밀도함수는 확률함수에 가깝지만\n",
    "\n",
    "$$f(x) = P(X=x)$$\n",
    "\n",
    "는 되지 않는다는 점에 주의하자(위의 식은 이산형 확률변수 식이다)\n",
    "\n",
    "밀도함수에 의한 확률은 확률변수 X가 $x_{0}\\geq X \\geq x_{1}$ 의 구간에 들어갈 확률 $P(x_{0} \\geq X \\geq x_{1}$로 정의되고, 다음과 같이 적분으로 계산한다\n",
    "\n",
    "$$P(x_{0} \\geq X \\geq x_{1} = \\int_{x_{0}}^{x_{0}}f(x)dx$$\n",
    "\n",
    "이 적분은 밀도함수 $f(x)$와 x축, 그리고 두 직선 $x=x_{0},x=x_{1}$으로 둘러싸인 영역의 면적으로 해석할 수 있다.\n",
    "\n",
    "불공정한 룰렛을 예로들어 파이썬으로 구현해보자"
   ]
  },
  {
   "cell_type": "code",
   "execution_count": 3,
   "id": "6daf2937-35c2-4a34-8308-23d14339b797",
   "metadata": {},
   "outputs": [],
   "source": [
    "x_range = np.array([0,1])"
   ]
  },
  {
   "cell_type": "markdown",
   "id": "bf1ab989-3d79-4758-9ae0-10385d4186fc",
   "metadata": {},
   "source": [
    "밀도함수는 다음과 같다\n",
    "\n",
    "$$f(x) = 2x(0 \\geq x \\geq 1)$$\n",
    "\n",
    "$$f(x) = 0 (otherwise)$$"
   ]
  },
  {
   "cell_type": "code",
   "execution_count": 4,
   "id": "1c9c0315-78b1-4810-9975-b408c3508937",
   "metadata": {},
   "outputs": [],
   "source": [
    "def f(x) : \n",
    "    if x_range[0] <= x <= x_range[1]:\n",
    "        return 2*x\n",
    "    else:\n",
    "        return 0"
   ]
  },
  {
   "cell_type": "markdown",
   "id": "0be3d2e7-2712-4924-9145-e9b8ec5872b2",
   "metadata": {},
   "source": [
    "이 x_range와 f의 세트가 확률분포이다.\n",
    "\n",
    "따라서 X는 x_range와 f를 요소로 하는 리스트로 구현한다"
   ]
  },
  {
   "cell_type": "code",
   "execution_count": 5,
   "id": "cc1ecd4e-1f56-4725-bb72-616449a1c85c",
   "metadata": {},
   "outputs": [],
   "source": [
    "X = [x_range, f]"
   ]
  },
  {
   "cell_type": "code",
   "execution_count": 6,
   "id": "5d3d0aaa-c899-4bfa-b457-2e59761a9e60",
   "metadata": {},
   "outputs": [
    {
     "data": {
      "image/png": "[encoded data removed]",
      "text/plain": [
       "<Figure size 720x432 with 1 Axes>"
      ]
     },
     "metadata": {
      "needs_background": "light"
     },
     "output_type": "display_data"
    }
   ],
   "source": [
    "# 0.4~0.6의 범위의 확률을 구한다\n",
    "\n",
    "xs = np.linspace(x_range[0], x_range[1], 100)\n",
    "\n",
    "fig = plt.figure(figsize=(10,6))\n",
    "ax = fig.add_subplot(111)\n",
    "\n",
    "ax.plot(xs,[f(x) for x in xs], label='f(x)', color='gray')\n",
    "ax.hlines(0,-0.2,1.2,alpha=0.3)\n",
    "ax.vlines(0,-0.2,2.2,alpha=0.3)\n",
    "ax.vlines(xs.max(), 0, 2.2, linestyles=':', color='gray')\n",
    "\n",
    "# 0.4부터 0.6까지 x좌표를 준비\n",
    "xs = np.linspace(0.4,0.6,100)\n",
    "# xs읩 범위로 f(x)와 x축으로 둘러싸인 영역에 색을 적용\n",
    "ax.fill_between(xs, [f(x) for x in xs], label='prob')\n",
    "\n",
    "ax.set_xticks(np.arange(-0.2,1.3,0.1))\n",
    "ax.set_xlim(-0.1,1.1)\n",
    "ax.set_ylim(-0.2,2.1)\n",
    "\n",
    "plt.show()"
   ]
  },
  {
   "cell_type": "markdown",
   "id": "790f28fe-7d35-4049-9aa9-ab9ee6fa65c0",
   "metadata": {},
   "source": [
    "둘러싸인 영역의 면적을 구해보자\n",
    "\n",
    "$$P(0.4 \\leq X \\leq 0.6) = \\int_{0.4}^{0.6}2x$$"
   ]
  },
  {
   "cell_type": "code",
   "execution_count": 7,
   "id": "5253f60f-9847-4b97-9a04-3c4a17b464e9",
   "metadata": {},
   "outputs": [
    {
     "data": {
      "text/plain": [
       "(0.200, 0.000)"
      ]
     },
     "execution_count": 7,
     "metadata": {},
     "output_type": "execute_result"
    }
   ],
   "source": [
    "# quad함수는 적반값과 추정오차를 반환한다\n",
    "\n",
    "integrate.quad(f,0.4,0.6)"
   ]
  },
  {
   "cell_type": "markdown",
   "id": "6d2ca416-0c98-4272-aa7a-8c345e85e0a8",
   "metadata": {},
   "source": [
    "**확률의 성질**\n",
    "\n",
    "연속형 확률변수에서는 확률의 성질로 다음 두 식을 만족해야한다\n",
    "\n",
    "$$f(x) \\geq 0$$\n",
    "\n",
    "$$\\int_{-\\infty}^{\\infty}f(x)dx=1$$\n",
    "\n",
    "첫번째 성질은 scipy.optimize의 minimize_scalar(함수의 최솟값을 구하는 함수)를 사용하여 검증한다"
   ]
  },
  {
   "cell_type": "code",
   "execution_count": 8,
   "id": "1dbbfcdc-c5cc-4393-b297-e7526e2e6cde",
   "metadata": {},
   "outputs": [
    {
     "data": {
      "text/plain": [
       "0"
      ]
     },
     "execution_count": 8,
     "metadata": {},
     "output_type": "execute_result"
    }
   ],
   "source": [
    "from scipy.optimize import minimize_scalar\n",
    "\n",
    "res = minimize_scalar(f)\n",
    "# 함수의 최솟값은 fun이라는 인스턴스 변수에 할당된다\n",
    "res.fun"
   ]
  },
  {
   "cell_type": "markdown",
   "id": "7b9c8956-fb2e-40da-a719-f01c5712d435",
   "metadata": {},
   "source": [
    "첫번째 성질은 만족했고, 두번째 성질은 전체 면적이 1이라는 것이다(모든 확률의 합은 1이므로)"
   ]
  },
  {
   "cell_type": "code",
   "execution_count": 9,
   "id": "79c22d63-1202-41d5-8213-1760bdf19f68",
   "metadata": {},
   "outputs": [
    {
     "data": {
      "text/plain": [
       "1.000"
      ]
     },
     "execution_count": 9,
     "metadata": {},
     "output_type": "execute_result"
    }
   ],
   "source": [
    "integrate.quad(f,-np.inf,np.inf)[0]"
   ]
  },
  {
   "cell_type": "markdown",
   "id": "1c6cfec3-8099-420b-9cc3-d20f947d0d6b",
   "metadata": {},
   "source": [
    "#### 누적분포함수\n",
    "\n",
    "확률변수 X가 x이하가 될 때의 확률을 반환하는 함수를 $F(x)$로 표기하고, 이산형 확률분포의 경우와 마찬가지로 **누적분포함수(cumulative distribution function,CDF)** 또는 간단히 **분포함수** 라고 부른다\n",
    "\n",
    "분포함수는 다음과 같다\n",
    "\n",
    "$$F(x) = P(X \\leq x) = \\int_{-\\infty}^{x}f(x)dx$$"
   ]
  },
  {
   "cell_type": "code",
   "execution_count": 10,
   "id": "06cd4798-bd1d-42a2-96f0-914e6c3a7223",
   "metadata": {},
   "outputs": [],
   "source": [
    "def F(x):\n",
    "    return integrate.quad(f,-np.inf,x)[0]"
   ]
  },
  {
   "cell_type": "code",
   "execution_count": 11,
   "id": "8eff11e8-c60a-4ee4-b42f-4394a42d6238",
   "metadata": {},
   "outputs": [
    {
     "data": {
      "text/plain": [
       "0.200"
      ]
     },
     "execution_count": 11,
     "metadata": {},
     "output_type": "execute_result"
    }
   ],
   "source": [
    "# 분포함수로 0.4에서 0.6사이의 확률을 구하는 법\n",
    "F(0.6) - F(0.4)"
   ]
  },
  {
   "cell_type": "code",
   "execution_count": 12,
   "id": "f125607d-6b9b-40a8-b997-ac0f9cde9742",
   "metadata": {},
   "outputs": [
    {
     "data": {
      "image/png": "[encoded data removed]",
      "text/plain": [
       "<Figure size 720x432 with 1 Axes>"
      ]
     },
     "metadata": {
      "needs_background": "light"
     },
     "output_type": "display_data"
    }
   ],
   "source": [
    "xs = np.linspace(x_range[0],x_range[1],100)\n",
    "\n",
    "fig = plt.figure(figsize=(10,6))\n",
    "ax = fig.add_subplot(111)\n",
    "\n",
    "ax.plot(xs,[F(x) for x in xs], label='F(x)',color = 'gray')\n",
    "ax.hlines(0,-0.1,1.1,alpha=0.3)\n",
    "ax.vlines(0,-0.1,1.1,alpha=0.3)\n",
    "ax.vlines(xs.max(),0,1,linestyles=':',color='gray')\n",
    "\n",
    "ax.set_xticks(np.arange(-0.1,1.2,0.1))\n",
    "ax.set_xlim(-0.1,1.1)\n",
    "ax.set_ylim(-0.1,1.1)\n",
    "ax.legend()\n",
    "\n",
    "plt.show()"
   ]
  },
  {
   "cell_type": "markdown",
   "id": "6a919b9f-4e1b-43e4-af16-35da18d20d67",
   "metadata": {},
   "source": [
    "#### 확률변수의 변환\n",
    "\n",
    "2X+3을 Y라고 하면 Y도 연속형 확률변수가 된다\n",
    "\n",
    "밀도함수를 $g(y)$라고 하면 다음과 같다\n",
    "\n",
    "$$g(y) = \\frac{(y-3)}{2}(3 \\leq y \\leq 5)$$\n",
    "\n",
    "$$g(y) = 0(otherwise)$$\n",
    "\n",
    "분포함수는 G(y)라고 하자\n",
    "\n",
    "$$G(y) = P(Y \\leq y) = \\int_{-\\infty}^{y}g(y)dy$$"
   ]
  },
  {
   "cell_type": "code",
   "execution_count": 13,
   "id": "b6bd270f-0247-4e4b-b264-5984d2b1abb2",
   "metadata": {},
   "outputs": [],
   "source": [
    "y_range = [3,5]\n",
    "\n",
    "def g(y):\n",
    "    if y_range[0] <= y <= y_range[1]:\n",
    "        return (y-3)/2\n",
    "    else:\n",
    "        return 0\n",
    "    \n",
    "def G(y):\n",
    "    return integrate.quad(g,-np.inf,y)[0]"
   ]
  },
  {
   "cell_type": "code",
   "execution_count": 14,
   "id": "06308044-c1fa-4850-a990-6e22b8192e51",
   "metadata": {},
   "outputs": [
    {
     "data": {
      "image/png": "[encoded data removed]",
      "text/plain": [
       "<Figure size 720x432 with 1 Axes>"
      ]
     },
     "metadata": {
      "needs_background": "light"
     },
     "output_type": "display_data"
    }
   ],
   "source": [
    "ys = np.linspace(y_range[0],y_range[1],100)\n",
    "\n",
    "fig=plt.figure(figsize=(10,6))\n",
    "ax = fig.add_subplot(111)\n",
    "\n",
    "ax.plot(ys,[g(y) for y in ys],label='g(y)',color='gray')\n",
    "ax.plot(ys,[G(y) for y in ys],label='G(y)',ls='--',color='gray')\n",
    "ax.hlines(0,2.8,5.2,alpha=0.3)\n",
    "ax.vlines(ys.max(),0,1,linestyles=':',color='gray')\n",
    "\n",
    "ax.set_xticks(np.arange(2.8,5.2,0.2))\n",
    "ax.set_xlim(2.8,5.2)\n",
    "ax.set_ylim(-0.1,1.1)\n",
    "ax.legend()\n",
    "\n",
    "plt.show()"
   ]
  },
  {
   "cell_type": "markdown",
   "id": "d47177bd-b84d-44f9-b7ea-c360100df7be",
   "metadata": {},
   "source": [
    "### 1차원 연속형 확률변수의 지표\n",
    "\n",
    "#### 기댓값\n",
    "\n",
    "$$\\mu = E(X) = \\int_{-\\infty}^{\\infty}xf(x)dx$$"
   ]
  },
  {
   "cell_type": "code",
   "execution_count": 15,
   "id": "dd8f6534-04ab-46b9-8a2b-22ebb9d733b2",
   "metadata": {},
   "outputs": [
    {
     "data": {
      "text/plain": [
       "0.667"
      ]
     },
     "execution_count": 15,
     "metadata": {},
     "output_type": "execute_result"
    }
   ],
   "source": [
    "def integrand(x):\n",
    "    return x*f(x)\n",
    "\n",
    "integrate.quad(integrand,-np.inf,np.inf)[0]"
   ]
  },
  {
   "cell_type": "markdown",
   "id": "24c044d9-e5e8-418f-9d5d-8e92f8794e71",
   "metadata": {},
   "source": [
    "변환한 확률변수의 기댓값\n",
    "\n",
    "$$E(g(X)) = \\int_{-\\infty}^{\\infty}g(x)f(x)dx$$"
   ]
  },
  {
   "cell_type": "code",
   "execution_count": 16,
   "id": "33617468-ef49-4eb8-ae74-05a23d0ac9dc",
   "metadata": {},
   "outputs": [],
   "source": [
    "def E(X,g=lambda x:x):\n",
    "    x_range, f = X\n",
    "    def integrand(x):\n",
    "        return g(x)*f(x)\n",
    "    return integrate.quad(integrand, -np.inf,np.inf)[0]"
   ]
  },
  {
   "cell_type": "code",
   "execution_count": 17,
   "id": "25975d75-1a29-4d6f-b507-d178c244cab9",
   "metadata": {},
   "outputs": [
    {
     "data": {
      "text/plain": [
       "0.667"
      ]
     },
     "execution_count": 17,
     "metadata": {},
     "output_type": "execute_result"
    }
   ],
   "source": [
    "E(X)"
   ]
  },
  {
   "cell_type": "code",
   "execution_count": 18,
   "id": "12ff5e85-3ceb-4bb3-a185-2c8c6c9033a4",
   "metadata": {},
   "outputs": [
    {
     "data": {
      "text/plain": [
       "4.333"
      ]
     },
     "execution_count": 18,
     "metadata": {},
     "output_type": "execute_result"
    }
   ],
   "source": [
    "E(X,g=lambda x: 2*x+3)"
   ]
  },
  {
   "cell_type": "code",
   "execution_count": 19,
   "id": "59d84715-ac93-4bfc-8045-4c78193a68cb",
   "metadata": {},
   "outputs": [
    {
     "data": {
      "text/plain": [
       "4.333"
      ]
     },
     "execution_count": 19,
     "metadata": {},
     "output_type": "execute_result"
    }
   ],
   "source": [
    "# 위와 같은 결과를 보인다\n",
    "2*E(X)+3"
   ]
  },
  {
   "cell_type": "markdown",
   "id": "6b7ad9ff-3bce-4c2a-9b8a-8c1763ed034d",
   "metadata": {},
   "source": [
    "#### 분산\n",
    "\n",
    "$$\\sigma^{2} = V(X) = \\int_{-\\infty}^{\\infty}(x-\\mu)^{2}f(x)dx$$"
   ]
  },
  {
   "cell_type": "code",
   "execution_count": 20,
   "id": "74eac37b-6544-4d5d-a8f3-6fc2e6943447",
   "metadata": {},
   "outputs": [
    {
     "data": {
      "text/plain": [
       "0.056"
      ]
     },
     "execution_count": 20,
     "metadata": {},
     "output_type": "execute_result"
    }
   ],
   "source": [
    "mean = E(X)\n",
    "def integrand(x):\n",
    "    return (x-mean)**2*f(x)\n",
    "integrate.quad(integrand,-np.inf,np.inf)[0]"
   ]
  },
  {
   "cell_type": "markdown",
   "id": "82fb6fec-5c20-4507-a2a1-a2d234a3c369",
   "metadata": {},
   "source": [
    "변환한 확률변수의 분산\n",
    "\n",
    "$$V(g(X)) = \\int_{-\\infty}^{\\infty}(g(x)-E(g(X)))^{2}f(x)dx$$"
   ]
  },
  {
   "cell_type": "code",
   "execution_count": 21,
   "id": "a3df1164-17d2-4df8-b2f6-3972472472a2",
   "metadata": {},
   "outputs": [],
   "source": [
    "def V(X,g=lambda x:x):\n",
    "    x_range, f=X\n",
    "    mean = E(X,g)\n",
    "    def integrand(x):\n",
    "        return (g(x) - mean)**2*f(x)\n",
    "    return integrate.quad(integrand,-np.inf,np.inf)[0]"
   ]
  },
  {
   "cell_type": "code",
   "execution_count": 22,
   "id": "74b60eab-993f-4a6f-9e9f-eefeb2088a36",
   "metadata": {},
   "outputs": [
    {
     "data": {
      "text/plain": [
       "0.056"
      ]
     },
     "execution_count": 22,
     "metadata": {},
     "output_type": "execute_result"
    }
   ],
   "source": [
    "V(X)"
   ]
  },
  {
   "cell_type": "code",
   "execution_count": 23,
   "id": "773cd167-5268-488e-b4fa-f95abf67546c",
   "metadata": {},
   "outputs": [
    {
     "data": {
      "text/plain": [
       "0.222"
      ]
     },
     "execution_count": 23,
     "metadata": {},
     "output_type": "execute_result"
    }
   ],
   "source": [
    "V(X,lambda x:2*x + 3)"
   ]
  },
  {
   "cell_type": "code",
   "execution_count": 24,
   "id": "37c45416-3f3a-4439-b570-84fbd45e251b",
   "metadata": {},
   "outputs": [
    {
     "data": {
      "text/plain": [
       "0.222"
      ]
     },
     "execution_count": 24,
     "metadata": {},
     "output_type": "execute_result"
    }
   ],
   "source": [
    "2**2*V(X)"
   ]
  },
  {
   "cell_type": "markdown",
   "id": "5f8f7fd0-0eca-4d44-a2f4-33aa5a513c0c",
   "metadata": {},
   "source": [
    "## 2차원 연속형 확률변수\n",
    "\n",
    "### 2차원 연속형 확률변수의 정의\n",
    "\n",
    "#### 결합확률밀도함수\n",
    "\n",
    "2차원 연속형 확률변수(X,Y)는 확률변수가 취할 수 있는 값의 조합\n",
    "\n",
    "$$\\{(x,y)|a\\leq x\\leq b;c\\leq y\\leq d\\}$$\n",
    "\n",
    "와 이것을 정의역으로 하는 함수\n",
    "\n",
    "$$f(x,y)$$\n",
    "\n",
    "에 의해 정의된다\n",
    "\n",
    "이 함수 f(x,y)를 **결합확률밀도함수** 라 하고, $x_{0} \\leq X \\leq x_{1}$ 및 $y_{0} \\leq Y \\leq y_{1}$ 이 되는 확률은 다음과 같다\n",
    "\n",
    "$$P(x_{0} \\leq X \\leq x_{1},y_{0} \\leq Y \\leq y_{1})=\\int_{x_{0}}^{x_{1}}\\int_{y_{0}}^{y_{1}}f(x,y)dxdy$$\n",
    "\n",
    "\n",
    "불공정한 룰렛 A,B 두 가지를 돌려, A의 값과 B의 값을 더한 것을 확률변수 X, A의 값을 확률변수 Y로 한 2차원 확률변수(X,Y)가 있다\n",
    "\n",
    "이 확률변수 (X,Y)가 취할 수 있는값은\n",
    "\n",
    "$$\\{ 0 \\leq X \\leq 2, 0 \\leq Y \\leq 1 \\}$$\n",
    "\n",
    "이고, 결합확률밀도함수는 다음과 같다\n",
    "\n",
    "$$f(x,y) = 4y(x-y)(0 \\leq y \\leq 1 및 0 \\leq x-y \\leq 1$$\n",
    "\n",
    "$$f(x,y) = 0 (otherwise)$$\n",
    "\n",
    "#### 확률의 성질\n",
    "\n",
    "2차원 연속형 확률변수는 확률의 성질로서 다음의 두 가지를 만족해야 한다\n",
    "\n",
    "$$f(x,y) \\geq 0$$\n",
    "\n",
    "$$\\int_{-\\infty}^{\\infty}\\int_{-\\infty}^{\\infty}f(x,y)=1$$"
   ]
  },
  {
   "cell_type": "code",
   "execution_count": 25,
   "id": "c7ddfafb-ef7a-44b1-8c11-27065d800447",
   "metadata": {},
   "outputs": [],
   "source": [
    "x_range = [0,2]\n",
    "y_range = [0,1]"
   ]
  },
  {
   "cell_type": "code",
   "execution_count": 26,
   "id": "03241943-0458-4b00-b133-e8236aa1d6ce",
   "metadata": {},
   "outputs": [],
   "source": [
    "def f_xy (x, y):\n",
    "    if (0 <= y <= 1) and (0 <= x - y <= 1):\n",
    "        return 4 * y * (x - y)\n",
    "    else:\n",
    "        return 0"
   ]
  },
  {
   "cell_type": "code",
   "execution_count": 27,
   "id": "8ab75061-c833-44cc-a907-cbf355248609",
   "metadata": {},
   "outputs": [
    {
     "data": {
      "text/plain": [
       "4"
      ]
     },
     "execution_count": 27,
     "metadata": {},
     "output_type": "execute_result"
    }
   ],
   "source": [
    "f_xy(2,1)"
   ]
  },
  {
   "cell_type": "code",
   "execution_count": 28,
   "id": "04940811-1dda-41db-861c-4e02dc2b6c0e",
   "metadata": {},
   "outputs": [],
   "source": [
    "XY = [x_range,y_range,f_xy]"
   ]
  },
  {
   "cell_type": "code",
   "execution_count": 48,
   "id": "53d4a4da-9c9f-4c74-adad-77fdf48ceda3",
   "metadata": {},
   "outputs": [
    {
     "data": {
      "image/png": "[encoded data removed]",
      "text/plain": [
       "<Figure size 864x288 with 3 Axes>"
      ]
     },
     "metadata": {
      "needs_background": "light"
     },
     "output_type": "display_data"
    }
   ],
   "source": [
    "# f(x,y) >= 0\n",
    "xs = np.linspace(x_range[0],x_range[1],200)\n",
    "ys = np.linspace(y_range[0],y_range[1],200)\n",
    "pd = np.array([[f_xy(x,y) for y in ys] for x in xs])\n",
    "\n",
    "fig = plt.figure(figsize=(12,4))\n",
    "ax=fig.add_subplot(121)\n",
    "ax2=fig.add_subplot(122)\n",
    "\n",
    "c = ax.pcolor(pd)\n",
    "ax2.plot(xs,[[f_xy(x,y) for y in ys] for x in xs],color='gray')\n",
    "ax.set_xticks(np.linspace(0,200,3),minor=False)\n",
    "ax.set_yticks(np.linspace(0,200,3),minor=False)\n",
    "ax.set_xticklabels(np.linspace(0,2,3))\n",
    "ax.set_yticklabels(np.linspace(0,1,3))\n",
    "ax.invert_yaxis()\n",
    "ax.xaxis.tick_top()\n",
    "fig.colorbar(c,ax=ax)\n",
    "plt.show()"
   ]
  },
  {
   "cell_type": "code",
   "execution_count": 62,
   "id": "86c5b8a4-aa25-4f63-98c2-3436fb4e05de",
   "metadata": {},
   "outputs": [
    {
     "data": {
      "text/plain": [
       "1.326"
      ]
     },
     "execution_count": 62,
     "metadata": {},
     "output_type": "execute_result"
    }
   ],
   "source": [
    "# 적분결과가 1 ????????????????\n",
    "\n",
    "integrate.nquad(f_xy, [[-np.inf, np.inf], [-np.inf, np.inf]], full_output=1)[0]"
   ]
  },
  {
   "cell_type": "markdown",
   "id": "faaa7eab-7508-4044-bc54-3600413f0ee4",
   "metadata": {},
   "source": [
    "#### 주변확률밀도함수\n",
    "\n",
    "확률변수 (X,Y)는 결합확률밀도함수에 의해 X와 Y가 동시에 정의되지만, 각각의 확률변수에만 흥미가 있을 수 있다.\n",
    "\n",
    "이 때 확률변수 X의 밀도함수를 $f_{X}(x)$라고 하면\n",
    "\n",
    "$$f_{X}(x)=\\int_{-\\infty}^{\\infty}f(x,y)dy$$\n",
    "\n",
    "가 성립한다.\n",
    "\n",
    "이와 같이 해서 구한 $f_{X}(x)$ 를 X의 **주변확률밀도함수** 라 하고, 간단히 **주변밀도함수**  라고도 한다"
   ]
  },
  {
   "cell_type": "code",
   "execution_count": 31,
   "id": "7761606f-c5f8-453a-8c25-7e8f558d9f63",
   "metadata": {},
   "outputs": [],
   "source": [
    "# integrate에는 2변수 함수 중 1변수만 적분하는 함수가 구현되어있지 않다\n",
    "\n",
    "from functools import partial\n",
    "\n",
    "def f_X(x):\n",
    "    return integrate.quad(partial(f_xy,x),-np.inf,np.inf)[0]\n",
    "def f_Y(y):\n",
    "    return integrate.quad(partial(f_xy,y=y),-np.inf,np.inf)[0]"
   ]
  },
  {
   "cell_type": "code",
   "execution_count": 32,
   "id": "ae67cda3-cd67-4c40-a65c-ba7bb77cd3f8",
   "metadata": {},
   "outputs": [],
   "source": [
    "X = [x_range,f_X]\n",
    "Y = [y_range,f_Y]"
   ]
  },
  {
   "cell_type": "code",
   "execution_count": 42,
   "id": "ac433c71-a406-4e04-89d1-62255dadc648",
   "metadata": {},
   "outputs": [
    {
     "data": {
      "image/png": "[encoded data removed]",
      "text/plain": [
       "<Figure size 864x288 with 2 Axes>"
      ]
     },
     "metadata": {
      "needs_background": "light"
     },
     "output_type": "display_data"
    }
   ],
   "source": [
    "xs = np.linspace(*x_range,100)\n",
    "ys = np.linspace(*y_range,100)\n",
    "\n",
    "fig=plt.figure(figsize=(12,4))\n",
    "ax1 = fig.add_subplot(121)\n",
    "ax2 = fig.add_subplot(122)\n",
    "ax1.plot(xs,[f_X(x) for x in xs], color='gray')\n",
    "ax2.plot(ys,[f_Y(y) for y in ys],color='gray')\n",
    "ax1.set_title('X_marginal density function')\n",
    "ax2.set_title('Y_marginal density function')\n",
    "\n",
    "plt.show()"
   ]
  },
  {
   "cell_type": "markdown",
   "id": "05a6dbca-c962-408a-b132-101085cb8800",
   "metadata": {},
   "source": [
    "### 2차원 연속형 확률변수의 지표\n",
    "\n",
    "#### 기댓값\n",
    "\n",
    "$$\\mu_{X} = E(X) = \\int_{-\\infty}^{\\infty}\\int_{-\\infty}^{\\infty}xf(x,y)dxdy$$"
   ]
  },
  {
   "cell_type": "code",
   "execution_count": 34,
   "id": "de1be38a-0408-4d03-8959-ab5f82fe74e5",
   "metadata": {},
   "outputs": [
    {
     "data": {
      "text/plain": [
       "0.863"
      ]
     },
     "execution_count": 34,
     "metadata": {},
     "output_type": "execute_result"
    }
   ],
   "source": [
    "def integrand(x,y):\n",
    "    return x*f_xy(x,y)\n",
    "\n",
    "integrate.nquad(integrand,[[-np.inf,np.inf],[-np.inf,np.inf]])[0]"
   ]
  },
  {
   "cell_type": "code",
   "execution_count": 35,
   "id": "312c6598-c174-4bd7-9cdb-b0d64d43bc52",
   "metadata": {},
   "outputs": [],
   "source": [
    "def E(XY,g):\n",
    "    x_range, y_range, f_xy = XY\n",
    "    def integrand(x,y):\n",
    "        return g(x,y)*f_xy(x,y)\n",
    "    \n",
    "    return integrate.nquad(integrand,[[-np.inf,np.inf],[-np.inf,np.inf]])[0]"
   ]
  },
  {
   "cell_type": "code",
   "execution_count": 36,
   "id": "665118f6-2517-4e63-b16a-921e1c178a6a",
   "metadata": {},
   "outputs": [
    {
     "data": {
      "text/plain": [
       "0.863"
      ]
     },
     "execution_count": 36,
     "metadata": {},
     "output_type": "execute_result"
    }
   ],
   "source": [
    "mean_X = E(XY,lambda x,y:x)\n",
    "mean_X"
   ]
  },
  {
   "cell_type": "code",
   "execution_count": 37,
   "id": "c6af233b-b465-4c2b-ac7d-6e23ed1f4713",
   "metadata": {},
   "outputs": [
    {
     "name": "stderr",
     "output_type": "stream",
     "text": [
      "C:\\Users\\tedle\\anaconda3\\envs\\multi\\lib\\site-packages\\scipy\\integrate\\quadpack.py:880: IntegrationWarning: The integral is probably divergent, or slowly convergent.\n",
      "  **opt)\n"
     ]
    },
    {
     "data": {
      "text/plain": [
       "0.000"
      ]
     },
     "execution_count": 37,
     "metadata": {},
     "output_type": "execute_result"
    }
   ],
   "source": [
    "mean_Y = E(XY,lambda x,y:y)\n",
    "mean_Y"
   ]
  },
  {
   "cell_type": "markdown",
   "id": "f135db75-45b1-4f91-898e-d864da2f7e33",
   "metadata": {},
   "source": [
    "#### 분산\n",
    "\n",
    "X의 분산은 다음 식으로 구할 수 있다\n",
    "\n",
    "$$\\sigma^{2}_{x} = V(X) = \\int_{-\\infty}^{\\infty}\\int_{-\\infty}^{\\infty}(x-\\mu_{X})^2f(x,y)dxdy$$"
   ]
  },
  {
   "cell_type": "code",
   "execution_count": 54,
   "id": "5b13c771-266c-4e4a-a3a4-088a2fe28641",
   "metadata": {},
   "outputs": [
    {
     "data": {
      "text/plain": [
       "0.006"
      ]
     },
     "execution_count": 54,
     "metadata": {},
     "output_type": "execute_result"
    }
   ],
   "source": [
    "def integrand(x, y):\n",
    "    return (x - mean_X)**2 * f_xy(x, y)\n",
    "\n",
    "integrate.nquad(integrand,\n",
    "                [[-np.inf, np.inf],\n",
    "                 [-np.inf, np.inf]])[0]"
   ]
  },
  {
   "cell_type": "code",
   "execution_count": 55,
   "id": "d2fa4711-3330-46dd-8a72-1671ce45f442",
   "metadata": {},
   "outputs": [],
   "source": [
    "def V(XY, g):\n",
    "    x_range, y_range, f_xy = XY\n",
    "    mean = E(XY, g)\n",
    "    def integrand(x, y):\n",
    "        return (g(x, y) - mean)**2 * f_xy(x, y)\n",
    "\n",
    "    return integrate.nquad(integrand,\n",
    "                           [[-np.inf, np.inf],\n",
    "                            [-np.inf, np.inf]])[0]"
   ]
  },
  {
   "cell_type": "code",
   "execution_count": 56,
   "id": "ce1773ad-43cb-4bc4-90d0-df5342cec0c2",
   "metadata": {},
   "outputs": [
    {
     "data": {
      "text/plain": [
       "0.006"
      ]
     },
     "execution_count": 56,
     "metadata": {},
     "output_type": "execute_result"
    }
   ],
   "source": [
    "var_X = V(XY, lambda x, y: x)\n",
    "var_X"
   ]
  },
  {
   "cell_type": "code",
   "execution_count": 57,
   "id": "6b4029f4-a72b-4d29-8dfb-d3fe844ae160",
   "metadata": {},
   "outputs": [
    {
     "name": "stderr",
     "output_type": "stream",
     "text": [
      "C:\\Users\\tedle\\anaconda3\\envs\\multi\\lib\\site-packages\\scipy\\integrate\\quadpack.py:880: IntegrationWarning: The integral is probably divergent, or slowly convergent.\n",
      "  **opt)\n"
     ]
    },
    {
     "data": {
      "text/plain": [
       "1.689"
      ]
     },
     "execution_count": 57,
     "metadata": {},
     "output_type": "execute_result"
    }
   ],
   "source": [
    "var_Y = V(XY, lambda x, y: y)\n",
    "var_Y"
   ]
  },
  {
   "cell_type": "markdown",
   "id": "a2cd0c76-8ada-4fc4-b9e7-8061ea582b60",
   "metadata": {},
   "source": [
    "#### 공분산\n",
    "\n",
    "$$\\sigma^{XY} = Cov(X,Y) = \\int_{-\\infty}^{\\infty}\\int_{-\\infty}^{\\infty}(x-\\mu_{X})(y-\\mu_{Y})f(x,y)dxdy$$"
   ]
  },
  {
   "cell_type": "code",
   "execution_count": 58,
   "id": "605d0e95-878c-402c-a26a-979458ca57c3",
   "metadata": {},
   "outputs": [],
   "source": [
    "def Cov(XY):\n",
    "    x_range, y_range, f_xy = XY\n",
    "    mean_X = E(XY, lambda x, y: x)\n",
    "    mean_Y = E(XY, lambda x, y: y)\n",
    "    def integrand(x, y):\n",
    "        return (x-mean_X) * (y-mean_Y) * f_xy(x, y)\n",
    "\n",
    "    return integrate.nquad(integrand,\n",
    "                           [[-np.inf, np.inf],\n",
    "                            [-np.inf, np.inf]])[0]"
   ]
  },
  {
   "cell_type": "code",
   "execution_count": 59,
   "id": "f24d1053-7958-4d67-abc6-1fd3ba4f4f46",
   "metadata": {},
   "outputs": [
    {
     "data": {
      "text/plain": [
       "-0.000"
      ]
     },
     "execution_count": 59,
     "metadata": {},
     "output_type": "execute_result"
    }
   ],
   "source": [
    "cov_xy = Cov(XY)\n",
    "cov_xy"
   ]
  },
  {
   "cell_type": "markdown",
   "id": "cc53a1a4-af14-4740-af81-cc415eeaa6af",
   "metadata": {},
   "source": [
    "#### 상관계수"
   ]
  },
  {
   "cell_type": "code",
   "execution_count": 61,
   "id": "edc0b270-21b5-406b-b54d-6a632644ce75",
   "metadata": {},
   "outputs": [
    {
     "data": {
      "text/plain": [
       "-0.0005592310657045"
      ]
     },
     "execution_count": 61,
     "metadata": {},
     "output_type": "execute_result"
    }
   ],
   "source": [
    "cov_xy/np.sqrt(var_X*var_Y)"
   ]
  },
  {
   "cell_type": "code",
   "execution_count": null,
   "id": "06d19235-8cd2-44e0-88f6-7d6be13562ca",
   "metadata": {},
   "outputs": [],
   "source": []
  }
 ],
 "metadata": {
  "kernelspec": {
   "display_name": "Python Multi",
   "language": "python",
   "name": "multi"
  },
  "language_info": {
   "codemirror_mode": {
    "name": "ipython",
    "version": 3
   },
   "file_extension": ".py",
   "mimetype": "text/x-python",
   "name": "python",
   "nbconvert_exporter": "python",
   "pygments_lexer": "ipython3",
   "version": "3.7.6"
  }
 },
 "nbformat": 4,
 "nbformat_minor": 5
}
