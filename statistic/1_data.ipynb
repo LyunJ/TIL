{
 "cells": [
  {
   "cell_type": "markdown",
   "id": "08b62902-2c87-4147-aa54-c9b80de05292",
   "metadata": {},
   "source": [
    "## 질적 변수와 양적 변수\n",
    "\n",
    "### 질적 변수\n",
    "종류를 구분하기 위한 변수\n",
    "\n",
    "``` 1. 매우좋음 2. 좋음 3. 보통 4. 나쁨 5. 매우 나쁨```\n",
    "\n",
    "``` A형 B형 O형 AB형 ```\n",
    "\n",
    "#### 2진변수\n",
    "흡연여부나 남성과 여성등 선택지가 2개인 경우\n",
    "\n",
    "### 양적 변수\n",
    "시험 점수나 신장과 같이 양을 표현하는 변수\n",
    "\n",
    "## 척도 수준\n",
    "\n",
    "### 명의 척도\n",
    "단순히 분류하기 위한 변수\n",
    "예를 들어 학생번호와 전화번호, 성별등\n",
    "DB의 주식별자와 코드속성과 비슷\n",
    "\n",
    "- 대소관계 의미 없음\n",
    "- 계산 불가\n",
    "- 비(rate) 의미 없음\n",
    "\n",
    "### 순서 척도\n",
    "순서 관계나 대소 관계에 의미가 있는 변수\n",
    "예를 들어 성적 순위, 설문조사의 만족도\n",
    "\n",
    "- 비교 가능\n",
    "- 계산 불가\n",
    "- 비(rate) 의미 없음\n",
    "\n",
    "### 간격 척도\n",
    "대소 관게와 함께 그 차이에도 의미를 두는 변수\n",
    "예를 들어 연도나 온도\n",
    "\n",
    "- 비(rate) 의미 없음\n",
    "\n",
    "### 비례 척도\n",
    "대소관계, 차이, 비 모두에 의미가 있는 변수\n",
    "예를 들어 길이나 무게\n",
    "\n",
    "## 이산형 변수와 연속형 변수\n",
    "\n",
    "### 이산형 변수\n",
    "0,1,2...처럼 하나하나의 값을 취하는 변수로 연속된 값 사이에 값이 존재하지 않음\n",
    "예를 들어 주사위의 눈\n",
    "\n",
    "### 연속형 변수\n",
    "연속적인 값을 취할 수 있는 변수로 어떤 두 숫자 사이에도 반드시 숫자가 존재\n",
    "예를들어 길이, 무게, 시간"
   ]
  },
  {
   "cell_type": "code",
   "execution_count": null,
   "id": "605f64a0-3169-4bdd-9d42-5f2288a59632",
   "metadata": {},
   "outputs": [],
   "source": []
  }
 ],
 "metadata": {
  "kernelspec": {
   "display_name": "Python Multi",
   "language": "python",
   "name": "multi"
  },
  "language_info": {
   "codemirror_mode": {
    "name": "ipython",
    "version": 3
   },
   "file_extension": ".py",
   "mimetype": "text/x-python",
   "name": "python",
   "nbconvert_exporter": "python",
   "pygments_lexer": "ipython3",
   "version": "3.7.6"
  }
 },
 "nbformat": 4,
 "nbformat_minor": 5
}
