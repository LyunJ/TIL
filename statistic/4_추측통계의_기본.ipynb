{
 "cells": [
  {
   "cell_type": "code",
   "execution_count": 1,
   "id": "2b32cc84-1ca8-4a37-9af8-b806bbe7fcda",
   "metadata": {},
   "outputs": [],
   "source": [
    "import numpy as np\n",
    "import pandas as pd\n",
    "import matplotlib.pyplot as plt\n",
    "\n",
    "%precision 3\n",
    "%matplotlib inline"
   ]
  },
  {
   "cell_type": "code",
   "execution_count": 2,
   "id": "5f0364a8-8664-40b5-98ea-1138214374cd",
   "metadata": {},
   "outputs": [
    {
     "data": {
      "text/plain": [
       "array([76, 55, 80, 80, 74, 61, 81, 76, 23, 80], dtype=int64)"
      ]
     },
     "execution_count": 2,
     "metadata": {},
     "output_type": "execute_result"
    }
   ],
   "source": [
    "df = pd.read_csv('./python_stat_sample-master/data/ch4_scores400.csv')\n",
    "scores = np.array(df['score'])\n",
    "scores[:10]"
   ]
  },
  {
   "cell_type": "markdown",
   "id": "d8ffa032-3d75-43d8-ba90-6636797f44a8",
   "metadata": {},
   "source": [
    "## 모집단과 표본\n",
    "추측통계에서는 관측대상 전체의 통계적 성질을 그 관측 대상의 일부분만 사용하여 추측한다.\n",
    "\n",
    "이 때, 추측하고 싶은 관측 대상 전체를 **모집단(population)** 이라 하고, 추측에 사용하는 관측 대상의 일부분을 **표본(sample)** 이라 한다.\n",
    "\n",
    "모집단에서 표본을 골라내는 일을 **표본추출(sampling)** 이라 하고, 골라낸 표본의 수를 표본 크기 또는 **샘플 사이즈** 라고 한다.\n",
    "\n",
    "그리고 표본을 바탕으로 계산한 평균이나 분산, 상관계수 등을 **표본통계량** 이라 하고, 모집단의 평균이나 분산, 상관계수 등을 **모수** 라고 한다.\n",
    "\n",
    "예를들어 표본평균으로 모평균을 추측하면, 표본평균은 모평균의 **추정량(estimator)** 이라고 한다.\n",
    "\n",
    "그리고 실제로 표본의 데이터를 이용하여 계산한 결과를 **추정값(estimate)** 이라고 한다"
   ]
  },
  {
   "cell_type": "markdown",
   "id": "8d206935-6d8f-431e-bb58-a00a5bf99dc1",
   "metadata": {},
   "source": [
    "### 표본 추출 방법\n",
    "조금이라도 편향적인 데이터 추출을 막기위해 임의로 표본을 추출하는 방법을 **무작위추출(random sampling)** 이라고 한다\n",
    "\n",
    "하지만 무작위 추출의 결과로 편향된 데이터가 포함될 수 있기 때문에 주의를 기울여야 한다\n",
    "\n",
    "여러차례 동일한 표본을 선택하는 추출 방법을 **복원추출(sampling with replacement)** 이라고 하고, 동일한 표본은 한 번만 선택하는 방법을 **비복원추출(sampling without replacement)** 라고 한다"
   ]
  },
  {
   "cell_type": "code",
   "execution_count": 3,
   "id": "845067bf-969d-4227-a5cb-9918ec87b9e3",
   "metadata": {},
   "outputs": [
    {
     "data": {
      "text/plain": [
       "array([2, 1, 1])"
      ]
     },
     "execution_count": 3,
     "metadata": {},
     "output_type": "execute_result"
    }
   ],
   "source": [
    "# 같은 숫자가 나올 수 있으므로 기본적으로 np.random.choice는 복원추출이다\n",
    "np.random.choice([1,2,3],3)"
   ]
  },
  {
   "cell_type": "code",
   "execution_count": 4,
   "id": "7a4e54e8-7cf7-4d2f-bcc0-b83c6e444293",
   "metadata": {},
   "outputs": [
    {
     "data": {
      "text/plain": [
       "array([2, 3, 1])"
      ]
     },
     "execution_count": 4,
     "metadata": {},
     "output_type": "execute_result"
    }
   ],
   "source": [
    "# 비복원 추출\n",
    "np.random.choice([1,2,3],3,replace=False)"
   ]
  },
  {
   "cell_type": "code",
   "execution_count": 5,
   "id": "60afef2e-5bf3-4d1c-b7f8-6baa3ab0754c",
   "metadata": {},
   "outputs": [
    {
     "data": {
      "text/plain": [
       "array([1, 2, 1])"
      ]
     },
     "execution_count": 5,
     "metadata": {},
     "output_type": "execute_result"
    }
   ],
   "source": [
    "# 시드를 미리 정해두면 동일한 난수를 얻을 수 있다\n",
    "np.random.seed(0)\n",
    "np.random.choice([1,2,3],3)"
   ]
  },
  {
   "cell_type": "code",
   "execution_count": 6,
   "id": "f6d7c4d8-a7c0-4a37-85f1-2c5a7d7dda1a",
   "metadata": {},
   "outputs": [
    {
     "data": {
      "text/plain": [
       "70.4"
      ]
     },
     "execution_count": 6,
     "metadata": {},
     "output_type": "execute_result"
    }
   ],
   "source": [
    "# 모집단에서 20명의 성적을 표본추출하여 표본평균을 구함\n",
    "np.random.seed(0)\n",
    "sample = np.random.choice(scores,20)\n",
    "sample.mean()"
   ]
  },
  {
   "cell_type": "code",
   "execution_count": 7,
   "id": "85beeee5-0aff-4fc8-a2b0-c02804930434",
   "metadata": {},
   "outputs": [
    {
     "data": {
      "text/plain": [
       "69.53"
      ]
     },
     "execution_count": 7,
     "metadata": {},
     "output_type": "execute_result"
    }
   ],
   "source": [
    "scores.mean()"
   ]
  },
  {
   "cell_type": "code",
   "execution_count": 8,
   "id": "d8272457-712f-4a06-8fc8-8203d5981074",
   "metadata": {},
   "outputs": [
    {
     "name": "stdout",
     "output_type": "stream",
     "text": [
      "1번째 무작위 추출로 얻은 표본평균 72.45\n",
      "2번째 무작위 추출로 얻은 표본평균 63.7\n",
      "3번째 무작위 추출로 얻은 표본평균 66.05\n",
      "4번째 무작위 추출로 얻은 표본평균 71.7\n",
      "5번째 무작위 추출로 얻은 표본평균 74.15\n"
     ]
    }
   ],
   "source": [
    "# 표본평균은 대체로 70점 전후이지만, 나름대로 산포도도 나타낸다\n",
    "for i in range(5):\n",
    "    sample = np.random.choice(scores,20)\n",
    "    print(f'{i+1}번째 무작위 추출로 얻은 표본평균',sample.mean())"
   ]
  },
  {
   "cell_type": "markdown",
   "id": "8b0a7699-3e1c-4b1a-a7ad-72f4afdf30a8",
   "metadata": {},
   "source": [
    "## 확률모형(probability model)\n",
    "\n",
    "무작위 추출로 인한 불확정성을 수반한 현상을 해석하기 위해 **확률(probability)** 를 사용한다.\n",
    "\n",
    "확률을 사용한 무작위 추출 혹은 주사위를 모델링 한 것을 **확률 모형(probability model)**"
   ]
  },
  {
   "cell_type": "markdown",
   "id": "20db65ab-5659-4f18-a4e1-87171af91395",
   "metadata": {},
   "source": [
    "### 확률의 기본\n",
    "\n",
    "결과를 알아맞힐 수는 없지만, 취하는 값과 그 값이 나올 확률이 결정되어 있는 것을 **확률변수(ramdomvariable)** 라고 한다\n",
    "\n",
    "주사위를 굴릴 때까지 어떤 눈이 나올지 알 수 없지만, 주사위를 굴리면 눈은 하나씩 확정된다.\n",
    "\n",
    "이와같이 확률변수의 결과를 관측하는 것을 **시행(trial)** 이라 하고, 시행에 의해 관측되는 값을 **실현값(realization)** 이라고 한다. 또한 '눈이 1'이나 '눈이 홀수'처럼 시행 결과로 나타날 수 있는 일을 **사건(event)** 이라 한다\n",
    "\n",
    "특히 '눈이 1'처럼 더 세부적으로 분해할 수 없는 사건을 **근원사건(elementary event)** 이라고 한다\n",
    "\n",
    "사건이 **상호배반(mutually exclusive)** 이라는 것은 각 사건이 동시에는 일어날 수 없다는 말이다.\n",
    "\n",
    "예를들어 '눈이 1 또는 2 또는 3'이라는 사건과 '눈이 6' 이라는 사건은 동시에 일어날 수 없기 때문에 상호배반이다"
   ]
  },
  {
   "cell_type": "markdown",
   "id": "60ab7120-425c-4753-b41e-704da45c0420",
   "metadata": {},
   "source": [
    "### 확률분포(Probability Distribution)\n",
    "\n",
    "확률변수가 어떻게 움직이는지를 나타낸 것.\n",
    "\n",
    "전체 확률이 1인 확률변수가 취할 수 있는 값이 어떻게 분포하고 있는지 나타낸다.\n",
    "\n",
    "주사위를 예로 들면 확률분포는 모두 1/6인 균일한 확률분포를 가지는데 이 때, 주사위의 눈을 확률변수 X, 확률분포를 A라고 하면 '확률변수 X는 확률분포 A를 따른다' 라고 한다."
   ]
  },
  {
   "cell_type": "code",
   "execution_count": 9,
   "id": "8f3bc36d-a8d2-4dc4-a124-938e78600892",
   "metadata": {},
   "outputs": [],
   "source": [
    "# 불안정한 주사위를 예로 확률분포를 구해보자\n",
    "dice = [1,2,3,4,5,6]\n",
    "prob = [1/21,2/21,3/21,4/21,5/21,6/21]"
   ]
  },
  {
   "cell_type": "code",
   "execution_count": 10,
   "id": "ae646d42-7f66-4b8f-a7d2-ebba8bfde28d",
   "metadata": {},
   "outputs": [
    {
     "data": {
      "text/plain": [
       "1"
      ]
     },
     "execution_count": 10,
     "metadata": {},
     "output_type": "execute_result"
    }
   ],
   "source": [
    "np.random.choice(dice,p=prob)"
   ]
  },
  {
   "cell_type": "code",
   "execution_count": 11,
   "id": "1c49e521-9bb4-415b-801a-88b0b2ebfced",
   "metadata": {},
   "outputs": [
    {
     "data": {
      "text/plain": [
       "array([4, 6, 4, 5, 5, 6, 6, 3, 5, 6, 5, 6, 6, 2, 3, 1, 6, 5, 6, 3, 4, 5,\n",
       "       3, 4, 3, 5, 5, 4, 4, 6, 4, 6, 5, 6, 5, 4, 6, 2, 6, 4, 5, 3, 4, 6,\n",
       "       5, 5, 5, 3, 4, 5, 4, 4, 6, 4, 4, 6, 6, 2, 2, 4, 5, 1, 6, 4, 3, 2,\n",
       "       2, 6, 3, 5, 4, 2, 4, 4, 6, 6, 1, 5, 3, 6, 6, 4, 2, 1, 6, 4, 4, 2,\n",
       "       4, 1, 3, 6, 6, 6, 4, 5, 4, 3, 3, 4])"
      ]
     },
     "execution_count": 11,
     "metadata": {},
     "output_type": "execute_result"
    }
   ],
   "source": [
    "num_trial = 100\n",
    "sample = np.random.choice(dice,num_trial,p=prob)\n",
    "sample"
   ]
  },
  {
   "cell_type": "code",
   "execution_count": 12,
   "id": "92fd75db-d19b-42f0-a632-b096d478275d",
   "metadata": {},
   "outputs": [
    {
     "data": {
      "text/html": [
       "<div>\n",
       "<style scoped>\n",
       "    .dataframe tbody tr th:only-of-type {\n",
       "        vertical-align: middle;\n",
       "    }\n",
       "\n",
       "    .dataframe tbody tr th {\n",
       "        vertical-align: top;\n",
       "    }\n",
       "\n",
       "    .dataframe thead th {\n",
       "        text-align: right;\n",
       "    }\n",
       "</style>\n",
       "<table border=\"1\" class=\"dataframe\">\n",
       "  <thead>\n",
       "    <tr style=\"text-align: right;\">\n",
       "      <th></th>\n",
       "      <th>frequency</th>\n",
       "      <th>relative frequency</th>\n",
       "    </tr>\n",
       "    <tr>\n",
       "      <th>dice</th>\n",
       "      <th></th>\n",
       "      <th></th>\n",
       "    </tr>\n",
       "  </thead>\n",
       "  <tbody>\n",
       "    <tr>\n",
       "      <th>1</th>\n",
       "      <td>5</td>\n",
       "      <td>0.05</td>\n",
       "    </tr>\n",
       "    <tr>\n",
       "      <th>2</th>\n",
       "      <td>9</td>\n",
       "      <td>0.09</td>\n",
       "    </tr>\n",
       "    <tr>\n",
       "      <th>3</th>\n",
       "      <td>13</td>\n",
       "      <td>0.13</td>\n",
       "    </tr>\n",
       "    <tr>\n",
       "      <th>4</th>\n",
       "      <td>27</td>\n",
       "      <td>0.27</td>\n",
       "    </tr>\n",
       "    <tr>\n",
       "      <th>5</th>\n",
       "      <td>19</td>\n",
       "      <td>0.19</td>\n",
       "    </tr>\n",
       "    <tr>\n",
       "      <th>6</th>\n",
       "      <td>27</td>\n",
       "      <td>0.27</td>\n",
       "    </tr>\n",
       "  </tbody>\n",
       "</table>\n",
       "</div>"
      ],
      "text/plain": [
       "      frequency  relative frequency\n",
       "dice                               \n",
       "1             5                0.05\n",
       "2             9                0.09\n",
       "3            13                0.13\n",
       "4            27                0.27\n",
       "5            19                0.19\n",
       "6            27                0.27"
      ]
     },
     "execution_count": 12,
     "metadata": {},
     "output_type": "execute_result"
    }
   ],
   "source": [
    "freq,_=np.histogram(sample,bins=6,range=(1,7))\n",
    "pd.DataFrame({'frequency':freq,\n",
    "             'relative frequency':freq/num_trial},\n",
    "            index = pd.Index(np.arange(1,7),name='dice'))"
   ]
  },
  {
   "cell_type": "code",
   "execution_count": 16,
   "id": "b4b57278-e55f-47b6-b407-c8635b3cbb4a",
   "metadata": {},
   "outputs": [
    {
     "data": {
      "image/png": "[encoded data removed]",
      "text/plain": [
       "<Figure size 720x432 with 1 Axes>"
      ]
     },
     "metadata": {
      "needs_background": "light"
     },
     "output_type": "display_data"
    }
   ],
   "source": [
    "fig = plt.figure(figsize=(10,6))\n",
    "ax = fig.add_subplot(111)\n",
    "ax.hist(sample, bins=6, range=(1,7), density=True, rwidth=0.8)\n",
    "#실제의 확률분포를 가로선으로 표시\n",
    "ax.hlines(prob,np.arange(1,7),np.arange(2,8),colors='gray')\n",
    "#막대그래프의 [1.5,2.5,...,6.5] 에 눈금을 표시\n",
    "ax.set_xticks(np.linspace(1.5,6.5,6))\n",
    "# 주사위 눈의 값은 [1,2,3,4,5,6]\n",
    "ax.set_xticklabels(np.arange(1,7))\n",
    "ax.set_xlabel('dice')\n",
    "ax.set_ylabel('relative frequency')\n",
    "plt.show()"
   ]
  },
  {
   "cell_type": "markdown",
   "id": "2f4edf45-52a1-471c-8287-1623384d3210",
   "metadata": {},
   "source": [
    "100번의 시행횟수로는 오차가 크기 때문에 10000회로 늘린 결과를 보자"
   ]
  },
  {
   "cell_type": "code",
   "execution_count": 17,
   "id": "a91495ed-1869-440c-903e-268c42353eda",
   "metadata": {},
   "outputs": [
    {
     "data": {
      "image/png": "[encoded data removed]",
      "text/plain": [
       "<Figure size 720x432 with 1 Axes>"
      ]
     },
     "metadata": {
      "needs_background": "light"
     },
     "output_type": "display_data"
    }
   ],
   "source": [
    "num_trial = 10000\n",
    "sample = np.random.choice(dice,num_trial,p=prob)\n",
    "\n",
    "fig = plt.figure(figsize=(10,6))\n",
    "ax = fig.add_subplot(111)\n",
    "ax.hist(sample, bins=6, range=(1,7), density=True, rwidth=0.8)\n",
    "#실제의 확률분포를 가로선으로 표시\n",
    "ax.hlines(prob,np.arange(1,7),np.arange(2,8),colors='gray')\n",
    "#막대그래프의 [1.5,2.5,...,6.5] 에 눈금을 표시\n",
    "ax.set_xticks(np.linspace(1.5,6.5,6))\n",
    "# 주사위 눈의 값은 [1,2,3,4,5,6]\n",
    "ax.set_xticklabels(np.arange(1,7))\n",
    "ax.set_xlabel('dice')\n",
    "ax.set_ylabel('relative frequency')\n",
    "plt.show()"
   ]
  },
  {
   "cell_type": "markdown",
   "id": "445e7717-a647-4957-ba7b-987b2983a576",
   "metadata": {},
   "source": [
    "## 추측통계의 확률"
   ]
  },
  {
   "cell_type": "code",
   "execution_count": 18,
   "id": "6a1a44e7-325d-475a-a8a4-9ce0826bdfcd",
   "metadata": {},
   "outputs": [
    {
     "data": {
      "image/png": "[encoded data removed]",
      "text/plain": [
       "<Figure size 720x432 with 1 Axes>"
      ]
     },
     "metadata": {
      "needs_background": "light"
     },
     "output_type": "display_data"
    }
   ],
   "source": [
    "fig = plt.figure(figsize=(10,6))\n",
    "ax = fig.add_subplot(111)\n",
    "ax.hist(scores,bins=100,range=(0,100),density=True)\n",
    "ax.set_xlim(20,100)\n",
    "ax.set_ylim(0,0.042)\n",
    "ax.set_xlabel('score')\n",
    "ax.set_ylabel('relative frequency')\n",
    "plt.show()"
   ]
  },
  {
   "cell_type": "markdown",
   "id": "ea516a5e-1a3f-43e6-a9c9-00ed308cfec1",
   "metadata": {},
   "source": [
    "상대도수는 해당 점수를 얻는 확률에 대응한다.\n",
    "\n",
    "따라서 이 히스토그램은 모집단의 확률분포로 간주할 수 있다"
   ]
  },
  {
   "cell_type": "code",
   "execution_count": 20,
   "id": "03c516d9-eead-4b60-bdfc-e602bce749f9",
   "metadata": {},
   "outputs": [
    {
     "data": {
      "image/png": "[encoded data removed]",
      "text/plain": [
       "<Figure size 720x432 with 1 Axes>"
      ]
     },
     "metadata": {
      "needs_background": "light"
     },
     "output_type": "display_data"
    }
   ],
   "source": [
    "sample = np.random.choice(scores,10000)\n",
    "\n",
    "fig = plt.figure(figsize=(10,6))\n",
    "ax = fig.add_subplot(111)\n",
    "ax.hist(sample,bins=100,range=(0,100),density=True)\n",
    "ax.set_xlim(20,100)\n",
    "ax.set_ylim(0,0.042)\n",
    "ax.set_xlabel('score')\n",
    "ax.set_ylabel('relative frequency')\n",
    "plt.show()"
   ]
  },
  {
   "cell_type": "markdown",
   "id": "52a47c45-d0c1-4801-947f-fffb89891fee",
   "metadata": {},
   "source": [
    "히스토그램이 실제의 점수 분포에 매우 가까운 형태임을 알 수 있다."
   ]
  },
  {
   "cell_type": "markdown",
   "id": "c3351a02-5101-4917-802c-0fbfa435480c",
   "metadata": {},
   "source": [
    "표본 하나하나가 확률변수이므로, 표본들의 평균으로 계산되는 표본평균도 역시 확률변수이다.\n",
    "\n",
    "표본 크기가 20인 표본을 추출하여 표본평균을 계산하는 작업을 10000번 수행한 뒤 히스토그램으로 그려보자"
   ]
  },
  {
   "cell_type": "code",
   "execution_count": 21,
   "id": "2fce231d-8322-46dc-b44e-66923ef34a26",
   "metadata": {},
   "outputs": [
    {
     "data": {
      "image/png": "[encoded data removed]",
      "text/plain": [
       "<Figure size 720x432 with 1 Axes>"
      ]
     },
     "metadata": {
      "needs_background": "light"
     },
     "output_type": "display_data"
    }
   ],
   "source": [
    "sample_means = [np.random.choice(scores,20).mean() for _ in range(10000)]\n",
    "\n",
    "fig = plt.figure(figsize=(10,6))\n",
    "ax = fig.add_subplot(111)\n",
    "ax.hist(sample_means,bins=100,range=(0,100),density=True)\n",
    "# 모평균을 세로선으로 표시\n",
    "ax.vlines(np.mean(scores),0,1,'gray')\n",
    "ax.set_xlim(50,90)\n",
    "ax.set_ylim(0,0.13)\n",
    "ax.set_xlabel('score')\n",
    "ax.set_ylabel('relative frequency')\n",
    "plt.show()"
   ]
  },
  {
   "cell_type": "code",
   "execution_count": null,
   "id": "e6f02c55-73e2-4508-bd31-ddb13090a810",
   "metadata": {},
   "outputs": [],
   "source": []
  }
 ],
 "metadata": {
  "kernelspec": {
   "display_name": "Python Multi",
   "language": "python",
   "name": "multi"
  },
  "language_info": {
   "codemirror_mode": {
    "name": "ipython",
    "version": 3
   },
   "file_extension": ".py",
   "mimetype": "text/x-python",
   "name": "python",
   "nbconvert_exporter": "python",
   "pygments_lexer": "ipython3",
   "version": "3.7.6"
  }
 },
 "nbformat": 4,
 "nbformat_minor": 5
}
