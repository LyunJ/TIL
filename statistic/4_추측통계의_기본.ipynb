{
 "cells": [
  {
   "cell_type": "code",
   "execution_count": 1,
   "id": "2b32cc84-1ca8-4a37-9af8-b806bbe7fcda",
   "metadata": {},
   "outputs": [],
   "source": [
    "import numpy as np\n",
    "import pandas as pd\n",
    "import matplotlib.pyplot as plt\n",
    "\n",
    "%precision 3\n",
    "%matplotlib inline"
   ]
  },
  {
   "cell_type": "code",
   "execution_count": 2,
   "id": "5f0364a8-8664-40b5-98ea-1138214374cd",
   "metadata": {},
   "outputs": [
    {
     "data": {
      "text/plain": [
       "array([76, 55, 80, 80, 74, 61, 81, 76, 23, 80], dtype=int64)"
      ]
     },
     "execution_count": 2,
     "metadata": {},
     "output_type": "execute_result"
    }
   ],
   "source": [
    "df = pd.read_csv('./python_stat_sample-master/data/ch4_scores400.csv')\n",
    "scores = np.array(df['score'])\n",
    "scores[:10]"
   ]
  },
  {
   "cell_type": "markdown",
   "id": "d8ffa032-3d75-43d8-ba90-6636797f44a8",
   "metadata": {},
   "source": [
    "## 모집단과 표본\n",
    "추측통계에서는 관측대상 전체의 통계적 성질을 그 관측 대상의 일부분만 사용하여 추측한다.\n",
    "\n",
    "이 때, 추측하고 싶은 관측 대상 전체를 **모집단(population)** 이라 하고, 추측에 사용하는 관측 대상의 일부분을 **표본(sample)** 이라 한다.\n",
    "\n",
    "모집단에서 표본을 골라내는 일을 **표본추출(sampling)** 이라 하고, 골라낸 표본의 수를 표본 크기 또는 **샘플 사이즈** 라고 한다.\n",
    "\n",
    "그리고 표본을 바탕으로 계산한 평균이나 분산, 상관계수 등을 **표본통계량** 이라 하고, 모집단의 평균이나 분산, 상관계수 등을 **모수** 라고 한다.\n",
    "\n",
    "예를들어 표본평균으로 모평균을 추측하면, 표본평균은 모평균의 **추정량(estimator)** 이라고 한다.\n",
    "\n",
    "그리고 실제로 표본의 데이터를 이용하여 계산한 결과를 **추정값(estimate)** 이라고 한다"
   ]
  },
  {
   "cell_type": "markdown",
   "id": "8d206935-6d8f-431e-bb58-a00a5bf99dc1",
   "metadata": {},
   "source": [
    "### 표본 추출 방법\n",
    "조금이라도 편향적인 데이터 추출을 막기위해 임의로 표본을 추출하는 방법을 **무작위추출(random sampling)** 이라고 한다\n",
    "\n",
    "하지만 무작위 추출의 결과로 편향된 데이터가 포함될 수 있기 때문에 주의를 기울여야 한다\n",
    "\n",
    "여러차례 동일한 표본을 선택하는 추출 방법을 **복원추출(sampling with replacement)** 이라고 하고, 동일한 표본은 한 번만 선택하는 방법을 **비복원추출(sampling without replacement)** 라고 한다"
   ]
  },
  {
   "cell_type": "code",
   "execution_count": 4,
   "id": "845067bf-969d-4227-a5cb-9918ec87b9e3",
   "metadata": {},
   "outputs": [
    {
     "data": {
      "text/plain": [
       "array([1, 2, 2])"
      ]
     },
     "execution_count": 4,
     "metadata": {},
     "output_type": "execute_result"
    }
   ],
   "source": [
    "# 같은 숫자가 나올 수 있으므로 기본적으로 np.random.choice는 복원추출이다\n",
    "np.random.choice([1,2,3],3)"
   ]
  },
  {
   "cell_type": "code",
   "execution_count": 6,
   "id": "7a4e54e8-7cf7-4d2f-bcc0-b83c6e444293",
   "metadata": {},
   "outputs": [
    {
     "data": {
      "text/plain": [
       "array([2, 3, 1])"
      ]
     },
     "execution_count": 6,
     "metadata": {},
     "output_type": "execute_result"
    }
   ],
   "source": [
    "# 비복원 추출\n",
    "np.random.choice([1,2,3],3,replace=False)"
   ]
  },
  {
   "cell_type": "code",
   "execution_count": 8,
   "id": "60afef2e-5bf3-4d1c-b7f8-6baa3ab0754c",
   "metadata": {},
   "outputs": [
    {
     "data": {
      "text/plain": [
       "array([1, 2, 1])"
      ]
     },
     "execution_count": 8,
     "metadata": {},
     "output_type": "execute_result"
    }
   ],
   "source": [
    "# 시드를 미리 정해두면 동일한 난수를 얻을 수 있다\n",
    "np.random.seed(0)\n",
    "np.random.choice([1,2,3],3)"
   ]
  },
  {
   "cell_type": "code",
   "execution_count": 9,
   "id": "f6d7c4d8-a7c0-4a37-85f1-2c5a7d7dda1a",
   "metadata": {},
   "outputs": [
    {
     "data": {
      "text/plain": [
       "70.4"
      ]
     },
     "execution_count": 9,
     "metadata": {},
     "output_type": "execute_result"
    }
   ],
   "source": [
    "# 모집단에서 20명의 성적을 표본추출하여 표본평균을 구함\n",
    "np.random.seed(0)\n",
    "sample = np.random.choice(scores,20)\n",
    "sample.mean()"
   ]
  },
  {
   "cell_type": "code",
   "execution_count": 10,
   "id": "85beeee5-0aff-4fc8-a2b0-c02804930434",
   "metadata": {},
   "outputs": [
    {
     "data": {
      "text/plain": [
       "69.53"
      ]
     },
     "execution_count": 10,
     "metadata": {},
     "output_type": "execute_result"
    }
   ],
   "source": [
    "scores.mean()"
   ]
  },
  {
   "cell_type": "code",
   "execution_count": 11,
   "id": "d8272457-712f-4a06-8fc8-8203d5981074",
   "metadata": {},
   "outputs": [
    {
     "name": "stdout",
     "output_type": "stream",
     "text": [
      "1번째 무작위 추출로 얻은 표본평균 72.45\n",
      "2번째 무작위 추출로 얻은 표본평균 63.7\n",
      "3번째 무작위 추출로 얻은 표본평균 66.05\n",
      "4번째 무작위 추출로 얻은 표본평균 71.7\n",
      "5번째 무작위 추출로 얻은 표본평균 74.15\n"
     ]
    }
   ],
   "source": [
    "# 표본평균은 대체로 70점 전후이지만, 나름대로 산포도도 나타낸다\n",
    "for i in range(5):\n",
    "    sample = np.random.choice(scores,20)\n",
    "    print(f'{i+1}번째 무작위 추출로 얻은 표본평균',sample.mean())"
   ]
  },
  {
   "cell_type": "markdown",
   "id": "8b0a7699-3e1c-4b1a-a7ad-72f4afdf30a8",
   "metadata": {},
   "source": [
    "## 확률모형(probability model)\n",
    "\n",
    "무작위 추출로 인한 불확정성을 수반한 현상을 해석하기 위해 **확률(probability)** 를 사용한다.\n",
    "\n",
    "확률을 사용한 무작위 추출 혹은 주사위를 모델링 한 것을 **확률 모형(probability model)**"
   ]
  },
  {
   "cell_type": "markdown",
   "id": "20db65ab-5659-4f18-a4e1-87171af91395",
   "metadata": {},
   "source": [
    "### 확률의 기본\n",
    "\n",
    "결과를 알아맞힐 수는 없지만, 취하는 값과 그 값이 나올 확률이 결정되어 있는 것을 **확률변수(ramdomvariable)** 라고 한다\n",
    "\n",
    "주사위를 굴릴 때까지 어떤 눈이 나올지 알 수 없지만, 주사위를 굴리면 눈은 하나씩 확정된다.\n",
    "\n",
    "이와같이 확률변수의 결과를 관측하는 것을 **시행(trial)** 이라 하고, 시행에 의해 관측되는 값을 **실현값(realization)** 이라고 한다. 또한 '눈이 1'이나 '눈이 홀수'처럼 시행 결과로 나타날 수 있는 일을 **사건(event)** 이라 한다\n",
    "\n",
    "특히 '눈이 1'처럼 더 세부적으로 분해할 수 없는 사건을 **근원사건(elementary event)** 이라고 한다\n",
    "\n",
    "사건이 **상호배반(mutually exclusive)"
   ]
  }
 ],
 "metadata": {
  "kernelspec": {
   "display_name": "Python Multi",
   "language": "python",
   "name": "multi"
  },
  "language_info": {
   "codemirror_mode": {
    "name": "ipython",
    "version": 3
   },
   "file_extension": ".py",
   "mimetype": "text/x-python",
   "name": "python",
   "nbconvert_exporter": "python",
   "pygments_lexer": "ipython3",
   "version": "3.7.6"
  }
 },
 "nbformat": 4,
 "nbformat_minor": 5
}
