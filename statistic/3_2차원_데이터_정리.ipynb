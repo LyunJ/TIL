{
 "cells": [
  {
   "cell_type": "code",
   "execution_count": 1,
   "id": "380b4ceb-97df-4467-a811-61760cfe23b9",
   "metadata": {},
   "outputs": [],
   "source": [
    "import numpy as np\n",
    "import pandas as pd\n",
    "\n",
    "%precision 3\n",
    "pd.set_option('precision',3)"
   ]
  },
  {
   "cell_type": "code",
   "execution_count": 2,
   "id": "53feddb0-6526-4cd7-a67c-3b1b22d02fbd",
   "metadata": {},
   "outputs": [],
   "source": [
    "df = pd.read_csv('./python_stat_sample-master/data/ch2_scores_em.csv',index_col='student number')"
   ]
  },
  {
   "cell_type": "code",
   "execution_count": 7,
   "id": "f407ef2c-cf5c-4197-8d26-69578e686029",
   "metadata": {},
   "outputs": [
    {
     "data": {
      "text/html": [
       "<div>\n",
       "<style scoped>\n",
       "    .dataframe tbody tr th:only-of-type {\n",
       "        vertical-align: middle;\n",
       "    }\n",
       "\n",
       "    .dataframe tbody tr th {\n",
       "        vertical-align: top;\n",
       "    }\n",
       "\n",
       "    .dataframe thead th {\n",
       "        text-align: right;\n",
       "    }\n",
       "</style>\n",
       "<table border=\"1\" class=\"dataframe\">\n",
       "  <thead>\n",
       "    <tr style=\"text-align: right;\">\n",
       "      <th></th>\n",
       "      <th>english</th>\n",
       "      <th>mathematics</th>\n",
       "    </tr>\n",
       "    <tr>\n",
       "      <th>student</th>\n",
       "      <th></th>\n",
       "      <th></th>\n",
       "    </tr>\n",
       "  </thead>\n",
       "  <tbody>\n",
       "    <tr>\n",
       "      <th>A</th>\n",
       "      <td>42</td>\n",
       "      <td>65</td>\n",
       "    </tr>\n",
       "    <tr>\n",
       "      <th>B</th>\n",
       "      <td>69</td>\n",
       "      <td>80</td>\n",
       "    </tr>\n",
       "    <tr>\n",
       "      <th>C</th>\n",
       "      <td>56</td>\n",
       "      <td>63</td>\n",
       "    </tr>\n",
       "    <tr>\n",
       "      <th>D</th>\n",
       "      <td>41</td>\n",
       "      <td>63</td>\n",
       "    </tr>\n",
       "    <tr>\n",
       "      <th>E</th>\n",
       "      <td>57</td>\n",
       "      <td>76</td>\n",
       "    </tr>\n",
       "    <tr>\n",
       "      <th>F</th>\n",
       "      <td>48</td>\n",
       "      <td>60</td>\n",
       "    </tr>\n",
       "    <tr>\n",
       "      <th>G</th>\n",
       "      <td>65</td>\n",
       "      <td>81</td>\n",
       "    </tr>\n",
       "    <tr>\n",
       "      <th>H</th>\n",
       "      <td>49</td>\n",
       "      <td>66</td>\n",
       "    </tr>\n",
       "    <tr>\n",
       "      <th>I</th>\n",
       "      <td>65</td>\n",
       "      <td>78</td>\n",
       "    </tr>\n",
       "    <tr>\n",
       "      <th>J</th>\n",
       "      <td>58</td>\n",
       "      <td>82</td>\n",
       "    </tr>\n",
       "  </tbody>\n",
       "</table>\n",
       "</div>"
      ],
      "text/plain": [
       "         english  mathematics\n",
       "student                      \n",
       "A             42           65\n",
       "B             69           80\n",
       "C             56           63\n",
       "D             41           63\n",
       "E             57           76\n",
       "F             48           60\n",
       "G             65           81\n",
       "H             49           66\n",
       "I             65           78\n",
       "J             58           82"
      ]
     },
     "execution_count": 7,
     "metadata": {},
     "output_type": "execute_result"
    }
   ],
   "source": [
    "en_scores = np.array(df['english'])[:10]\n",
    "ma_scores = np.array(df['mathematics'])[:10]\n",
    "\n",
    "scores_df = pd.DataFrame({'english':en_scores,\n",
    "                         'mathematics':ma_scores},\n",
    "                        index=pd.Index(['A','B','C','D','E','F','G','H','I','J'],name='student'))\n",
    "scores_df"
   ]
  },
  {
   "cell_type": "markdown",
   "id": "bd5afe11-f62d-4229-a107-b68ff2db56a4",
   "metadata": {},
   "source": [
    "## 두 데이터 사이의 관계를 나타내는 지표\n",
    "\n",
    "양의 상관관계 : A가 높은 수치를 나타낼 때 B도 높은 수치를 나타내는 관계\n",
    "음의 상관관계 : A가 높은 수치를 나타낼 때 B는 반대의 수치를 나타내는 관계\n",
    "무상관 : A와 B가 아무 관계가 없는 관계\n",
    "\n",
    "### 공분산\n",
    "$$cov(X,Y) = E[(X-\\mu_{x})(Y-\\mu_{y})]$$\n",
    "\n",
    "\n",
    "분산은 편차들의 분산정도만 나타낼 수 있어 항상 양의 값을 갖는다. 따라서 양의 상관관계와 음의 상관관계를 구분할 수 없는 특징이 있다\n",
    "\n",
    "하지만 공분산은 편차들의 분산정도 뿐만 아니라 양의 상관관계와 음의 상관관계 또한 나타낼 수 있다.\n",
    "\n",
    "- 공분산이 양의 값이면 양의 상관관계\n",
    "- 공분산이 음의 값이면 음의 상관관계\n",
    "- 공분산이 0에 가까우면 무관계에 가깝다"
   ]
  },
  {
   "cell_type": "code",
   "execution_count": 8,
   "id": "f6095f90-599a-4cba-86d2-cdc7187af383",
   "metadata": {},
   "outputs": [
    {
     "data": {
      "text/html": [
       "<div>\n",
       "<style scoped>\n",
       "    .dataframe tbody tr th:only-of-type {\n",
       "        vertical-align: middle;\n",
       "    }\n",
       "\n",
       "    .dataframe tbody tr th {\n",
       "        vertical-align: top;\n",
       "    }\n",
       "\n",
       "    .dataframe thead th {\n",
       "        text-align: right;\n",
       "    }\n",
       "</style>\n",
       "<table border=\"1\" class=\"dataframe\">\n",
       "  <thead>\n",
       "    <tr style=\"text-align: right;\">\n",
       "      <th></th>\n",
       "      <th>english</th>\n",
       "      <th>mathematics</th>\n",
       "      <th>english_deviation</th>\n",
       "      <th>mathematics_deviation</th>\n",
       "      <th>product of deviations</th>\n",
       "    </tr>\n",
       "    <tr>\n",
       "      <th>student</th>\n",
       "      <th></th>\n",
       "      <th></th>\n",
       "      <th></th>\n",
       "      <th></th>\n",
       "      <th></th>\n",
       "    </tr>\n",
       "  </thead>\n",
       "  <tbody>\n",
       "    <tr>\n",
       "      <th>A</th>\n",
       "      <td>42</td>\n",
       "      <td>65</td>\n",
       "      <td>-13.0</td>\n",
       "      <td>-6.4</td>\n",
       "      <td>83.2</td>\n",
       "    </tr>\n",
       "    <tr>\n",
       "      <th>B</th>\n",
       "      <td>69</td>\n",
       "      <td>80</td>\n",
       "      <td>14.0</td>\n",
       "      <td>8.6</td>\n",
       "      <td>120.4</td>\n",
       "    </tr>\n",
       "    <tr>\n",
       "      <th>C</th>\n",
       "      <td>56</td>\n",
       "      <td>63</td>\n",
       "      <td>1.0</td>\n",
       "      <td>-8.4</td>\n",
       "      <td>-8.4</td>\n",
       "    </tr>\n",
       "    <tr>\n",
       "      <th>D</th>\n",
       "      <td>41</td>\n",
       "      <td>63</td>\n",
       "      <td>-14.0</td>\n",
       "      <td>-8.4</td>\n",
       "      <td>117.6</td>\n",
       "    </tr>\n",
       "    <tr>\n",
       "      <th>E</th>\n",
       "      <td>57</td>\n",
       "      <td>76</td>\n",
       "      <td>2.0</td>\n",
       "      <td>4.6</td>\n",
       "      <td>9.2</td>\n",
       "    </tr>\n",
       "    <tr>\n",
       "      <th>F</th>\n",
       "      <td>48</td>\n",
       "      <td>60</td>\n",
       "      <td>-7.0</td>\n",
       "      <td>-11.4</td>\n",
       "      <td>79.8</td>\n",
       "    </tr>\n",
       "    <tr>\n",
       "      <th>G</th>\n",
       "      <td>65</td>\n",
       "      <td>81</td>\n",
       "      <td>10.0</td>\n",
       "      <td>9.6</td>\n",
       "      <td>96.0</td>\n",
       "    </tr>\n",
       "    <tr>\n",
       "      <th>H</th>\n",
       "      <td>49</td>\n",
       "      <td>66</td>\n",
       "      <td>-6.0</td>\n",
       "      <td>-5.4</td>\n",
       "      <td>32.4</td>\n",
       "    </tr>\n",
       "    <tr>\n",
       "      <th>I</th>\n",
       "      <td>65</td>\n",
       "      <td>78</td>\n",
       "      <td>10.0</td>\n",
       "      <td>6.6</td>\n",
       "      <td>66.0</td>\n",
       "    </tr>\n",
       "    <tr>\n",
       "      <th>J</th>\n",
       "      <td>58</td>\n",
       "      <td>82</td>\n",
       "      <td>3.0</td>\n",
       "      <td>10.6</td>\n",
       "      <td>31.8</td>\n",
       "    </tr>\n",
       "  </tbody>\n",
       "</table>\n",
       "</div>"
      ],
      "text/plain": [
       "         english  mathematics  english_deviation  mathematics_deviation  \\\n",
       "student                                                                   \n",
       "A             42           65              -13.0                   -6.4   \n",
       "B             69           80               14.0                    8.6   \n",
       "C             56           63                1.0                   -8.4   \n",
       "D             41           63              -14.0                   -8.4   \n",
       "E             57           76                2.0                    4.6   \n",
       "F             48           60               -7.0                  -11.4   \n",
       "G             65           81               10.0                    9.6   \n",
       "H             49           66               -6.0                   -5.4   \n",
       "I             65           78               10.0                    6.6   \n",
       "J             58           82                3.0                   10.6   \n",
       "\n",
       "         product of deviations  \n",
       "student                         \n",
       "A                         83.2  \n",
       "B                        120.4  \n",
       "C                         -8.4  \n",
       "D                        117.6  \n",
       "E                          9.2  \n",
       "F                         79.8  \n",
       "G                         96.0  \n",
       "H                         32.4  \n",
       "I                         66.0  \n",
       "J                         31.8  "
      ]
     },
     "execution_count": 8,
     "metadata": {},
     "output_type": "execute_result"
    }
   ],
   "source": [
    "summary_df = scores_df.copy()\n",
    "summary_df['english_deviation'] = summary_df['english'] - summary_df['english'].mean()\n",
    "summary_df['mathematics_deviation'] = summary_df['mathematics'] - summary_df['mathematics'].mean()\n",
    "summary_df['product of deviations'] = summary_df['english_deviation'] * summary_df['mathematics_deviation']\n",
    "summary_df"
   ]
  },
  {
   "cell_type": "code",
   "execution_count": 9,
   "id": "4884abf8-5798-43e8-836b-e8b65ac660ec",
   "metadata": {},
   "outputs": [
    {
     "data": {
      "text/plain": [
       "62.8"
      ]
     },
     "execution_count": 9,
     "metadata": {},
     "output_type": "execute_result"
    }
   ],
   "source": [
    "# 공분산은 62.8\n",
    "# 따라서 영어점수와 수학 점수는 양의 상관관계에 있다고 할 수 있다\n",
    "summary_df['product of deviations'].mean()"
   ]
  },
  {
   "cell_type": "markdown",
   "id": "563659ea-a7c9-4fda-b07d-7ef5700ba327",
   "metadata": {},
   "source": [
    "Numpy의 경우, 공분산은 cov 함수로 구할 수 있다. 다만, 반환값은 공분산값이 아닌 **공분산 행렬(covariance matrix)** 또는 **분산 공분산 행렬(variance-covariance matrix)** 라고 부르는 행렬이다\n",
    "\n",
    "np.cov(a,b)라고 했을 때,\n",
    "- 반환행렬의 (0,0)값은 a와 a의 공분산 (a의 분산)\n",
    "- (0,1)값은 a와 b의 공분산\n",
    "- (1,0)값은 b와 a의 공분산\n",
    "- (1,1)값은 b와 b의 공분산 (b의 분산)"
   ]
  },
  {
   "cell_type": "code",
   "execution_count": 11,
   "id": "85bcd170-4b43-428d-b7fa-6dd1b3ec95c3",
   "metadata": {},
   "outputs": [
    {
     "data": {
      "text/plain": [
       "array([[86.  , 62.8 ],\n",
       "       [62.8 , 68.44]])"
      ]
     },
     "execution_count": 11,
     "metadata": {},
     "output_type": "execute_result"
    }
   ],
   "source": [
    "cov_mat = np.cov(en_scores,ma_scores,ddof=0)\n",
    "cov_mat"
   ]
  },
  {
   "cell_type": "code",
   "execution_count": 13,
   "id": "74756e66-cf50-4a0b-84ca-02c023a19c0e",
   "metadata": {},
   "outputs": [
    {
     "data": {
      "text/plain": [
       "(62.800000000000004, 62.800000000000004)"
      ]
     },
     "execution_count": 13,
     "metadata": {},
     "output_type": "execute_result"
    }
   ],
   "source": []
  },
  {
   "cell_type": "code",
   "execution_count": 15,
   "id": "da466c42-d93b-45a0-bca2-49dc92bf6f03",
   "metadata": {},
   "outputs": [
    {
     "data": {
      "text/html": [
       "<div>\n",
       "<style scoped>\n",
       "    .dataframe tbody tr th:only-of-type {\n",
       "        vertical-align: middle;\n",
       "    }\n",
       "\n",
       "    .dataframe tbody tr th {\n",
       "        vertical-align: top;\n",
       "    }\n",
       "\n",
       "    .dataframe thead th {\n",
       "        text-align: right;\n",
       "    }\n",
       "</style>\n",
       "<table border=\"1\" class=\"dataframe\">\n",
       "  <thead>\n",
       "    <tr style=\"text-align: right;\">\n",
       "      <th></th>\n",
       "      <th>english</th>\n",
       "      <th>mathematics</th>\n",
       "    </tr>\n",
       "  </thead>\n",
       "  <tbody>\n",
       "    <tr>\n",
       "      <th>english</th>\n",
       "      <td>95.556</td>\n",
       "      <td>69.778</td>\n",
       "    </tr>\n",
       "    <tr>\n",
       "      <th>mathematics</th>\n",
       "      <td>69.778</td>\n",
       "      <td>76.044</td>\n",
       "    </tr>\n",
       "  </tbody>\n",
       "</table>\n",
       "</div>"
      ],
      "text/plain": [
       "             english  mathematics\n",
       "english       95.556       69.778\n",
       "mathematics   69.778       76.044"
      ]
     },
     "execution_count": 15,
     "metadata": {},
     "output_type": "execute_result"
    }
   ],
   "source": [
    "scores_df.cov()"
   ]
  },
  {
   "cell_type": "markdown",
   "id": "287efd92-2a15-412a-9003-561cc6cdd845",
   "metadata": {},
   "source": [
    "### 상관계수\n",
    "시험 점수끼리의 공분산은(점수,점수)라는 단위를 사용한다. 학생의 키와 시험 점수의 상관관계는 (cm,점수)라는 단위가 되어 직감적으로 이해하기 힘듬\n",
    "\n",
    "단위에 의존하는 공분산과는 달리 단위에 의존하지 않는 상관을 나타내는 지표가 상관계수이다\n",
    "\n",
    "공분산을 각 데이터의 표준편차로 나누어 단위에 의존하지 않는 지표를 정의할 수 있다\n",
    "\n",
    "$$r_{xy} = \\frac{S_{xy}}{S_{x}S_{y}}= \\frac{1}{n}\\sum_{i=1}^n(\\frac{x_{i} - \\bar{x}}{S_{x}})(\\frac{y_{i} - \\bar{y}}{S_{y}})$$\n",
    "\n",
    "이와 같이 정의된 지표 $r_{xy}$를 **상관계수(correlation coefficient)** 라고 한다\n",
    "\n",
    "- 상관계수는 반드시 -1과 1 사이의 값을 취한다\n",
    "- 데이터가 양의 상관관계에 놓여 있을수록 1에 가까워진다\n",
    "- 음의 상관관계에 놓여 있을수록 -1에 가까워진다.\n",
    "- 무상관이면 0이된다\n",
    "- 상관계수가 -1일 때와 1일 때에는 데이터가 완전히 직선상에 놓인다"
   ]
  },
  {
   "cell_type": "code",
   "execution_count": 16,
   "id": "82a49d7d-b8f4-4401-a915-32a7473d0d2b",
   "metadata": {},
   "outputs": [
    {
     "data": {
      "text/plain": [
       "0.8185692341186713"
      ]
     },
     "execution_count": 16,
     "metadata": {},
     "output_type": "execute_result"
    }
   ],
   "source": [
    "np.cov(en_scores,ma_scores,ddof=0)[0,1]/(np.std(en_scores)*np.std(ma_scores))"
   ]
  },
  {
   "cell_type": "code",
   "execution_count": 17,
   "id": "a9104dae-2028-4cd1-a5d5-b975f8de8722",
   "metadata": {},
   "outputs": [
    {
     "data": {
      "text/plain": [
       "array([[1.   , 0.819],\n",
       "       [0.819, 1.   ]])"
      ]
     },
     "execution_count": 17,
     "metadata": {},
     "output_type": "execute_result"
    }
   ],
   "source": [
    "np.corrcoef(en_scores,ma_scores)"
   ]
  },
  {
   "cell_type": "code",
   "execution_count": 18,
   "id": "578f2058-6105-4358-9a00-07792926ccb5",
   "metadata": {},
   "outputs": [
    {
     "data": {
      "text/html": [
       "<div>\n",
       "<style scoped>\n",
       "    .dataframe tbody tr th:only-of-type {\n",
       "        vertical-align: middle;\n",
       "    }\n",
       "\n",
       "    .dataframe tbody tr th {\n",
       "        vertical-align: top;\n",
       "    }\n",
       "\n",
       "    .dataframe thead th {\n",
       "        text-align: right;\n",
       "    }\n",
       "</style>\n",
       "<table border=\"1\" class=\"dataframe\">\n",
       "  <thead>\n",
       "    <tr style=\"text-align: right;\">\n",
       "      <th></th>\n",
       "      <th>english</th>\n",
       "      <th>mathematics</th>\n",
       "    </tr>\n",
       "  </thead>\n",
       "  <tbody>\n",
       "    <tr>\n",
       "      <th>english</th>\n",
       "      <td>1.000</td>\n",
       "      <td>0.819</td>\n",
       "    </tr>\n",
       "    <tr>\n",
       "      <th>mathematics</th>\n",
       "      <td>0.819</td>\n",
       "      <td>1.000</td>\n",
       "    </tr>\n",
       "  </tbody>\n",
       "</table>\n",
       "</div>"
      ],
      "text/plain": [
       "             english  mathematics\n",
       "english        1.000        0.819\n",
       "mathematics    0.819        1.000"
      ]
     },
     "execution_count": 18,
     "metadata": {},
     "output_type": "execute_result"
    }
   ],
   "source": [
    "scores_df.corr()"
   ]
  },
  {
   "cell_type": "markdown",
   "id": "b058075d-bf66-4176-9a4b-895bcd070f36",
   "metadata": {},
   "source": [
    "## 2차원 데이터의 시각화"
   ]
  },
  {
   "cell_type": "code",
   "execution_count": 19,
   "id": "c69b7d05-cbd1-46da-a83d-8179f7c52d44",
   "metadata": {},
   "outputs": [],
   "source": [
    "import matplotlib.pyplot as plt\n",
    "\n",
    "%matplotlib inline"
   ]
  },
  {
   "cell_type": "markdown",
   "id": "563347b2-1440-468b-90cb-84f07c31ae39",
   "metadata": {},
   "source": [
    "### 산점도\n",
    "\n",
    "scatter 메서드를 사용하여 산점도를 그릴 수 있다. scatter 의 첫번째 인수가 x축의 데이터, 두 번째 인수가 y축의 데이터"
   ]
  },
  {
   "cell_type": "code",
   "execution_count": 21,
   "id": "3fbc1ab4-ef90-485e-9edc-038f676d2959",
   "metadata": {},
   "outputs": [
    {
     "data": {
      "image/png": "[encoded data removed]",
      "text/plain": [
       "<Figure size 576x576 with 1 Axes>"
      ]
     },
     "metadata": {
      "needs_background": "light"
     },
     "output_type": "display_data"
    }
   ],
   "source": [
    "english_scores = np.array(df['english'])\n",
    "math_scores = np.array(df['mathematics'])\n",
    "\n",
    "fig = plt.figure(figsize=(8,8))\n",
    "ax = fig.add_subplot(111)\n",
    "#산점도\n",
    "ax.scatter(english_scores,math_scores)\n",
    "ax.set_xlabel('english')\n",
    "ax.set_ylabel('mathematics')\n",
    "\n",
    "plt.show()"
   ]
  },
  {
   "cell_type": "markdown",
   "id": "1bf5fb2d-b888-4956-a40c-407c5108a86b",
   "metadata": {},
   "source": [
    "### 회귀직선(Regression line)\n",
    "\n",
    "두 데이터간의 관계와 가장 유사한 직선"
   ]
  },
  {
   "cell_type": "code",
   "execution_count": 24,
   "id": "43df3765-9e9d-4145-bf90-e0ca7e50d04d",
   "metadata": {},
   "outputs": [
    {
     "data": {
      "image/png": "[encoded data removed]",
      "text/plain": [
       "<Figure size 576x576 with 1 Axes>"
      ]
     },
     "metadata": {
      "needs_background": "light"
     },
     "output_type": "display_data"
    }
   ],
   "source": [
    "poly_fit = np.polyfit(english_scores,math_scores,1)\n",
    "poly_1d = np.poly1d(poly_fit)\n",
    "xs = np.linspace(english_scores.min(), english_scores.max())\n",
    "ys=poly_1d(xs)\n",
    "\n",
    "fig = plt.figure(figsize=(8,8))\n",
    "ax = fig.add_subplot(111)\n",
    "ax.scatter(english_scores, math_scores, label='score')\n",
    "ax.plot(xs,ys,color='gray',label=f'{poly_fit[1]:.2f}+{poly_fit[0]:.2f}x')\n",
    "ax.set_xlabel('english')\n",
    "ax.set_ylabel('mathematics')\n",
    "ax.legend(loc='upper left')\n",
    "\n",
    "plt.show()"
   ]
  },
  {
   "cell_type": "markdown",
   "id": "8399f911-45a3-4839-b8e1-a27301fdbbc1",
   "metadata": {},
   "source": [
    "### 히트맵(Heat Map)"
   ]
  },
  {
   "cell_type": "code",
   "execution_count": 27,
   "id": "da643079-5dc3-4897-91da-03b426a96432",
   "metadata": {},
   "outputs": [
    {
     "data": {
      "image/png": "[encoded data removed]",
      "text/plain": [
       "<Figure size 720x576 with 2 Axes>"
      ]
     },
     "metadata": {
      "needs_background": "light"
     },
     "output_type": "display_data"
    }
   ],
   "source": [
    "fig = plt.figure(figsize=(10,8))\n",
    "ax = fig.add_subplot(111)\n",
    "\n",
    "# x축과 y축이 각각 5점 간격이 되도록 bins을 설정\n",
    "c = ax.hist2d(english_scores, math_scores, bins=[9,8],range=[(25,80),(55,95)])\n",
    "\n",
    "ax.set_xlabel('english')\n",
    "ax.set_ylabel('mathematics')\n",
    "ax.set_xticks(c[1])\n",
    "ax.set_yticks(c[2])\n",
    "fig.colorbar(c[3],ax=ax)\n",
    "plt.show()"
   ]
  },
  {
   "cell_type": "markdown",
   "id": "0d646cc1-9638-470a-8e03-09ba73a7fd03",
   "metadata": {},
   "source": [
    "## 앤스컴의 예\n",
    "앤스컴 콰르텟은 평균, 표본분산, 상관, 선형회귀선, 결정계수 등의 기술통계량은 동일하지만, 분포나 그래프를 이요하여 시각화하면 전혀 다른 4개의 데이터 세트를 의미한다\n",
    "시각화의 중요성을 강조하는 이론"
   ]
  },
  {
   "cell_type": "code",
   "execution_count": 36,
   "id": "3f07a4be-3223-4104-8a85-42673420a883",
   "metadata": {},
   "outputs": [
    {
     "name": "stdout",
     "output_type": "stream",
     "text": [
      "(4, 11, 2)\n"
     ]
    },
    {
     "data": {
      "text/plain": [
       "array([[[10.  ,  8.04],\n",
       "        [ 8.  ,  6.95],\n",
       "        [13.  ,  7.58],\n",
       "        [ 9.  ,  8.81],\n",
       "        [11.  ,  8.33],\n",
       "        [14.  ,  9.96],\n",
       "        [ 6.  ,  7.24],\n",
       "        [ 4.  ,  4.26],\n",
       "        [12.  , 10.84],\n",
       "        [ 7.  ,  4.82],\n",
       "        [ 5.  ,  5.68]],\n",
       "\n",
       "       [[10.  ,  9.14],\n",
       "        [ 8.  ,  8.14],\n",
       "        [13.  ,  8.74],\n",
       "        [ 9.  ,  8.77],\n",
       "        [11.  ,  9.26],\n",
       "        [14.  ,  8.1 ],\n",
       "        [ 6.  ,  6.13],\n",
       "        [ 4.  ,  3.1 ],\n",
       "        [12.  ,  9.13],\n",
       "        [ 7.  ,  7.26],\n",
       "        [ 5.  ,  4.74]],\n",
       "\n",
       "       [[10.  ,  7.46],\n",
       "        [ 8.  ,  6.77],\n",
       "        [13.  , 12.74],\n",
       "        [ 9.  ,  7.11],\n",
       "        [11.  ,  7.81],\n",
       "        [14.  ,  8.84],\n",
       "        [ 6.  ,  6.08],\n",
       "        [ 4.  ,  5.39],\n",
       "        [12.  ,  8.15],\n",
       "        [ 7.  ,  6.42],\n",
       "        [ 5.  ,  5.73]],\n",
       "\n",
       "       [[ 8.  ,  6.58],\n",
       "        [ 8.  ,  5.76],\n",
       "        [ 8.  ,  7.71],\n",
       "        [ 8.  ,  8.84],\n",
       "        [ 8.  ,  8.47],\n",
       "        [ 8.  ,  7.04],\n",
       "        [ 8.  ,  5.25],\n",
       "        [19.  , 12.5 ],\n",
       "        [ 8.  ,  5.56],\n",
       "        [ 8.  ,  7.91],\n",
       "        [ 8.  ,  6.89]]])"
      ]
     },
     "execution_count": 36,
     "metadata": {},
     "output_type": "execute_result"
    }
   ],
   "source": [
    "anscombe_data = np.load('./python_stat_sample-master/data/ch3_anscombe.npy')\n",
    "print(anscombe_data.shape)\n",
    "anscombe_data"
   ]
  },
  {
   "cell_type": "code",
   "execution_count": 38,
   "id": "5cfcb438-b047-47f1-8d66-72a2932fc1d0",
   "metadata": {},
   "outputs": [
    {
     "name": "stdout",
     "output_type": "stream",
     "text": [
      "[10.  8. 13.  9. 11. 14.  6.  4. 12.  7.  5.]\n",
      "[10.  8. 13.  9. 11. 14.  6.  4. 12.  7.  5.]\n",
      "[10.  8. 13.  9. 11. 14.  6.  4. 12.  7.  5.]\n",
      "[ 8.  8.  8.  8.  8.  8.  8. 19.  8.  8.  8.]\n"
     ]
    },
    {
     "data": {
      "text/html": [
       "<div>\n",
       "<style scoped>\n",
       "    .dataframe tbody tr th:only-of-type {\n",
       "        vertical-align: middle;\n",
       "    }\n",
       "\n",
       "    .dataframe tbody tr th {\n",
       "        vertical-align: top;\n",
       "    }\n",
       "\n",
       "    .dataframe thead th {\n",
       "        text-align: right;\n",
       "    }\n",
       "</style>\n",
       "<table border=\"1\" class=\"dataframe\">\n",
       "  <thead>\n",
       "    <tr style=\"text-align: right;\">\n",
       "      <th></th>\n",
       "      <th>data1</th>\n",
       "      <th>data2</th>\n",
       "      <th>data3</th>\n",
       "      <th>data4</th>\n",
       "    </tr>\n",
       "  </thead>\n",
       "  <tbody>\n",
       "    <tr>\n",
       "      <th>X_mean</th>\n",
       "      <td>9.00</td>\n",
       "      <td>9.00</td>\n",
       "      <td>9.00</td>\n",
       "      <td>9.00</td>\n",
       "    </tr>\n",
       "    <tr>\n",
       "      <th>X_variance</th>\n",
       "      <td>10.00</td>\n",
       "      <td>10.00</td>\n",
       "      <td>10.00</td>\n",
       "      <td>10.00</td>\n",
       "    </tr>\n",
       "    <tr>\n",
       "      <th>Y_mean</th>\n",
       "      <td>7.50</td>\n",
       "      <td>7.50</td>\n",
       "      <td>7.50</td>\n",
       "      <td>7.50</td>\n",
       "    </tr>\n",
       "    <tr>\n",
       "      <th>Y_variance</th>\n",
       "      <td>3.75</td>\n",
       "      <td>3.75</td>\n",
       "      <td>3.75</td>\n",
       "      <td>3.75</td>\n",
       "    </tr>\n",
       "    <tr>\n",
       "      <th>X&amp;Y_correlation</th>\n",
       "      <td>0.82</td>\n",
       "      <td>0.82</td>\n",
       "      <td>0.82</td>\n",
       "      <td>0.82</td>\n",
       "    </tr>\n",
       "    <tr>\n",
       "      <th>X&amp;Y_regression line</th>\n",
       "      <td>3.00+0.50x</td>\n",
       "      <td>3.00+0.50x</td>\n",
       "      <td>3.00+0.50x</td>\n",
       "      <td>3.00+0.50x</td>\n",
       "    </tr>\n",
       "  </tbody>\n",
       "</table>\n",
       "</div>"
      ],
      "text/plain": [
       "                          data1       data2       data3       data4\n",
       "X_mean                     9.00        9.00        9.00        9.00\n",
       "X_variance                10.00       10.00       10.00       10.00\n",
       "Y_mean                     7.50        7.50        7.50        7.50\n",
       "Y_variance                 3.75        3.75        3.75        3.75\n",
       "X&Y_correlation            0.82        0.82        0.82        0.82\n",
       "X&Y_regression line  3.00+0.50x  3.00+0.50x  3.00+0.50x  3.00+0.50x"
      ]
     },
     "execution_count": 38,
     "metadata": {},
     "output_type": "execute_result"
    }
   ],
   "source": [
    "# 각 데이터의 평균, 분산 , 상관계수, 회귀직선을 계산하여 DataFrame으로 정리한다\n",
    "stats_df = pd.DataFrame(index=['X_mean','X_variance','Y_mean','Y_variance','X&Y_correlation','X&Y_regression line'])\n",
    "\n",
    "for i, data in enumerate(anscombe_data):\n",
    "    dataX = data[:,0]\n",
    "    print(dataX)\n",
    "    dataY = data[:,1]\n",
    "    poly_fit = np.polyfit(dataX,dataY,1)\n",
    "    stats_df[f'data{i+1}'] = [f'{np.mean(dataX):.2f}',\n",
    "                             f'{np.var(dataX):.2f}',\n",
    "                             f'{np.mean(dataY):.2f}',\n",
    "                             f'{np.var(dataY):.2f}',\n",
    "                             f'{np.corrcoef(dataX,dataY)[0,1]:.2f}',\n",
    "                             f'{poly_fit[1]:.2f}+{poly_fit[0]:.2f}x']\n",
    "\n",
    "# 모든 데이터가 일치한다    \n",
    "stats_df"
   ]
  },
  {
   "cell_type": "code",
   "execution_count": 42,
   "id": "e21ac403-380d-442f-a226-4f08b16354a2",
   "metadata": {},
   "outputs": [
    {
     "data": {
      "image/png": "[encoded data removed]",
      "text/plain": [
       "<Figure size 720x720 with 4 Axes>"
      ]
     },
     "metadata": {
      "needs_background": "light"
     },
     "output_type": "display_data"
    }
   ],
   "source": [
    "fig, axes = plt.subplots(nrows=2,ncols=2,figsize=(10,10),sharex=True,sharey=True)\n",
    "\n",
    "xs = np.linspace(0,30,100)\n",
    "for i, data in enumerate(anscombe_data):\n",
    "    poly_fit = np.polyfit(data[:,0],data[:,1],1)\n",
    "    poly_1d = np.poly1d(poly_fit)\n",
    "    ys = poly_1d(xs)\n",
    "    # 그리는 영역을 선택\n",
    "    ax = axes[i//2,i%2]\n",
    "    ax.set_xlim([4,20])\n",
    "    ax.set_ylim([3,13])\n",
    "    #타이틀을 부여\n",
    "    ax.set_title(f'data{i+1}')\n",
    "    ax.scatter(data[:,0],data[:,1])\n",
    "    ax.plot(xs,ys,color='gray')\n",
    "\n",
    "#그래프 사이의 간격을 좁힌다\n",
    "plt.tight_layout()\n",
    "plt.show()"
   ]
  },
  {
   "cell_type": "markdown",
   "id": "9ee2f731-b52f-4f76-a007-4221fed38943",
   "metadata": {},
   "source": [
    "**그림에서 볼 수 있듯이 같은 회귀직선을 갖고, 평균, 분산, 상관계수등 같은 값이 많았지만 데이터의 분포는 전혀 다르다.**\n",
    "\n",
    "**앤스컴의 예는 데이터를 분석할 때는 가능하면 그림을 그려야 한다는 것을 알려주고 있다**"
   ]
  },
  {
   "cell_type": "code",
   "execution_count": null,
   "id": "0c24b736-5a46-4e99-a42e-4181a6406977",
   "metadata": {},
   "outputs": [],
   "source": []
  }
 ],
 "metadata": {
  "kernelspec": {
   "display_name": "Python Multi",
   "language": "python",
   "name": "multi"
  },
  "language_info": {
   "codemirror_mode": {
    "name": "ipython",
    "version": 3
   },
   "file_extension": ".py",
   "mimetype": "text/x-python",
   "name": "python",
   "nbconvert_exporter": "python",
   "pygments_lexer": "ipython3",
   "version": "3.7.6"
  }
 },
 "nbformat": 4,
 "nbformat_minor": 5
}
