{
 "cells": [
  {
   "cell_type": "code",
   "execution_count": 1,
   "id": "7c00745c-eaf4-4837-b66e-83045591f24b",
   "metadata": {},
   "outputs": [],
   "source": [
    "import numpy as np\n",
    "import pandas as pd\n",
    "\n",
    "# 출력을 소수점 이하 3자리로 제한\n",
    "%precision 3\n",
    "# DataFrame의 출력을 소수점 이하 3자리로 제한\n",
    "pd.set_option('precision',3)"
   ]
  },
  {
   "cell_type": "markdown",
   "id": "7cb76577-ce67-4449-9f55-90dce45cbd32",
   "metadata": {},
   "source": [
    "## 변수 초기화"
   ]
  },
  {
   "cell_type": "code",
   "execution_count": 2,
   "id": "aa6ef9da-65d9-4f48-96e4-dcce42ca0496",
   "metadata": {},
   "outputs": [
    {
     "data": {
      "text/html": [
       "<div>\n",
       "<style scoped>\n",
       "    .dataframe tbody tr th:only-of-type {\n",
       "        vertical-align: middle;\n",
       "    }\n",
       "\n",
       "    .dataframe tbody tr th {\n",
       "        vertical-align: top;\n",
       "    }\n",
       "\n",
       "    .dataframe thead th {\n",
       "        text-align: right;\n",
       "    }\n",
       "</style>\n",
       "<table border=\"1\" class=\"dataframe\">\n",
       "  <thead>\n",
       "    <tr style=\"text-align: right;\">\n",
       "      <th></th>\n",
       "      <th>english</th>\n",
       "      <th>mathematics</th>\n",
       "    </tr>\n",
       "    <tr>\n",
       "      <th>student number</th>\n",
       "      <th></th>\n",
       "      <th></th>\n",
       "    </tr>\n",
       "  </thead>\n",
       "  <tbody>\n",
       "    <tr>\n",
       "      <th>1</th>\n",
       "      <td>42</td>\n",
       "      <td>65</td>\n",
       "    </tr>\n",
       "    <tr>\n",
       "      <th>2</th>\n",
       "      <td>69</td>\n",
       "      <td>80</td>\n",
       "    </tr>\n",
       "    <tr>\n",
       "      <th>3</th>\n",
       "      <td>56</td>\n",
       "      <td>63</td>\n",
       "    </tr>\n",
       "    <tr>\n",
       "      <th>4</th>\n",
       "      <td>41</td>\n",
       "      <td>63</td>\n",
       "    </tr>\n",
       "    <tr>\n",
       "      <th>5</th>\n",
       "      <td>57</td>\n",
       "      <td>76</td>\n",
       "    </tr>\n",
       "  </tbody>\n",
       "</table>\n",
       "</div>"
      ],
      "text/plain": [
       "                english  mathematics\n",
       "student number                      \n",
       "1                    42           65\n",
       "2                    69           80\n",
       "3                    56           63\n",
       "4                    41           63\n",
       "5                    57           76"
      ]
     },
     "execution_count": 2,
     "metadata": {},
     "output_type": "execute_result"
    }
   ],
   "source": [
    "df = pd.read_csv('python_stat_sample-master/data/ch2_scores_em.csv',index_col = 'student number')\n",
    "\n",
    "# df의 처음 5행을 표시\n",
    "df.head()"
   ]
  },
  {
   "cell_type": "code",
   "execution_count": 3,
   "id": "6143a99f-dbf2-4209-ad6c-124f9fd4fe97",
   "metadata": {},
   "outputs": [
    {
     "data": {
      "text/plain": [
       "array([42, 69, 56, 41, 57, 48, 65, 49, 65, 58], dtype=int64)"
      ]
     },
     "execution_count": 3,
     "metadata": {},
     "output_type": "execute_result"
    }
   ],
   "source": [
    "scores = np.array(df['english'])[:10]\n",
    "scores"
   ]
  },
  {
   "cell_type": "code",
   "execution_count": 4,
   "id": "7d16d3a9-5a7e-4e42-8cb7-391a08b7cb2d",
   "metadata": {},
   "outputs": [
    {
     "data": {
      "text/html": [
       "<div>\n",
       "<style scoped>\n",
       "    .dataframe tbody tr th:only-of-type {\n",
       "        vertical-align: middle;\n",
       "    }\n",
       "\n",
       "    .dataframe tbody tr th {\n",
       "        vertical-align: top;\n",
       "    }\n",
       "\n",
       "    .dataframe thead th {\n",
       "        text-align: right;\n",
       "    }\n",
       "</style>\n",
       "<table border=\"1\" class=\"dataframe\">\n",
       "  <thead>\n",
       "    <tr style=\"text-align: right;\">\n",
       "      <th></th>\n",
       "      <th>scores</th>\n",
       "    </tr>\n",
       "    <tr>\n",
       "      <th>student</th>\n",
       "      <th></th>\n",
       "    </tr>\n",
       "  </thead>\n",
       "  <tbody>\n",
       "    <tr>\n",
       "      <th>A</th>\n",
       "      <td>42</td>\n",
       "    </tr>\n",
       "    <tr>\n",
       "      <th>B</th>\n",
       "      <td>69</td>\n",
       "    </tr>\n",
       "    <tr>\n",
       "      <th>C</th>\n",
       "      <td>56</td>\n",
       "    </tr>\n",
       "    <tr>\n",
       "      <th>D</th>\n",
       "      <td>41</td>\n",
       "    </tr>\n",
       "    <tr>\n",
       "      <th>E</th>\n",
       "      <td>57</td>\n",
       "    </tr>\n",
       "    <tr>\n",
       "      <th>F</th>\n",
       "      <td>48</td>\n",
       "    </tr>\n",
       "    <tr>\n",
       "      <th>G</th>\n",
       "      <td>65</td>\n",
       "    </tr>\n",
       "    <tr>\n",
       "      <th>H</th>\n",
       "      <td>49</td>\n",
       "    </tr>\n",
       "    <tr>\n",
       "      <th>I</th>\n",
       "      <td>65</td>\n",
       "    </tr>\n",
       "    <tr>\n",
       "      <th>J</th>\n",
       "      <td>58</td>\n",
       "    </tr>\n",
       "  </tbody>\n",
       "</table>\n",
       "</div>"
      ],
      "text/plain": [
       "         scores\n",
       "student        \n",
       "A            42\n",
       "B            69\n",
       "C            56\n",
       "D            41\n",
       "E            57\n",
       "F            48\n",
       "G            65\n",
       "H            49\n",
       "I            65\n",
       "J            58"
      ]
     },
     "execution_count": 4,
     "metadata": {},
     "output_type": "execute_result"
    }
   ],
   "source": [
    "scores_df = pd.DataFrame({'scores':scores},index = pd.Index(['A','B','C','D','E','F','G','H','I','J'], name = 'student'))\n",
    "scores_df"
   ]
  },
  {
   "cell_type": "markdown",
   "id": "b93345b1-ec6d-4115-bd0f-ddef915168ba",
   "metadata": {},
   "source": [
    "## 중앙값\n",
    "데이터를 크기 순서대로 나열할 때 정확하게 중앙에 위치한 값\n",
    "\n",
    "- 중앙값은 평균값에 비해 이상값에 강하다(크게 튀는 값이 있으면 평균값은 대표값이 될 수 없음)\n",
    "- 데이터의 개수 n이 홀수라면 (n+1)/2번째 데이터가 중앙값\n",
    "- 데이터의 개수 n이 짝수라면 n/2번째와 n/2+1번째 데이터의 평균이 중앙값"
   ]
  },
  {
   "cell_type": "code",
   "execution_count": 5,
   "id": "4b647aa1-16ac-44e9-95c1-13ad16abf3c0",
   "metadata": {},
   "outputs": [
    {
     "data": {
      "text/plain": [
       "array([41, 42, 48, 49, 56, 57, 58, 65, 65, 69], dtype=int64)"
      ]
     },
     "execution_count": 5,
     "metadata": {},
     "output_type": "execute_result"
    }
   ],
   "source": [
    "# 순서대로 나열\n",
    "sorted_scores = np.sort(scores)\n",
    "sorted_scores"
   ]
  },
  {
   "cell_type": "code",
   "execution_count": 6,
   "id": "d57f0e45-58b0-46ea-b65f-f8a3de3124af",
   "metadata": {},
   "outputs": [
    {
     "data": {
      "text/plain": [
       "56.5"
      ]
     },
     "execution_count": 6,
     "metadata": {},
     "output_type": "execute_result"
    }
   ],
   "source": [
    "np.median(scores)"
   ]
  },
  {
   "cell_type": "code",
   "execution_count": 7,
   "id": "9e8b28ad-f5a9-4d52-bae3-689cd3fe7f32",
   "metadata": {},
   "outputs": [
    {
     "data": {
      "text/plain": [
       "scores    56.5\n",
       "dtype: float64"
      ]
     },
     "execution_count": 7,
     "metadata": {},
     "output_type": "execute_result"
    }
   ],
   "source": [
    "scores_df.median()"
   ]
  },
  {
   "cell_type": "markdown",
   "id": "b0137699-6d96-45d8-9710-c2199d9463d6",
   "metadata": {},
   "source": [
    "## 최빈값\n",
    "데이터에서 가장 많이 나타나는 값\n",
    "질적 데이터의 대푯값을 구할 때 사용되는 지표\n",
    "\n",
    "* 도수분포표를 도입하면 양적 데이터에서도 최빈값을 자연스럽게 정의할 수 있다"
   ]
  },
  {
   "cell_type": "code",
   "execution_count": 8,
   "id": "c1d445cb-140f-42f6-a7ff-9337aba1e584",
   "metadata": {},
   "outputs": [
    {
     "data": {
      "text/plain": [
       "0    1\n",
       "dtype: int64"
      ]
     },
     "execution_count": 8,
     "metadata": {},
     "output_type": "execute_result"
    }
   ],
   "source": [
    "pd.Series([1,1,1,2,2,3]).mode()"
   ]
  },
  {
   "cell_type": "markdown",
   "id": "b989baf8-d1fd-43d7-a8a6-bcdd5ce5cea2",
   "metadata": {},
   "source": [
    "# 데이터의 산포도 지표\n",
    "\n",
    "## 분산과 표준편차\n",
    "\n",
    "### 편차(Deviation)\n",
    "편차는 각 데이터가 평균으로 부터 얼마나 떨어져 있는가를 나타내는 지표이다"
   ]
  },
  {
   "cell_type": "code",
   "execution_count": 9,
   "id": "9da0170a-2c79-4e87-8cf6-87d870d17388",
   "metadata": {},
   "outputs": [
    {
     "data": {
      "text/plain": [
       "array([-13.,  14.,   1., -14.,   2.,  -7.,  10.,  -6.,  10.,   3.])"
      ]
     },
     "execution_count": 9,
     "metadata": {},
     "output_type": "execute_result"
    }
   ],
   "source": [
    "mean = np.mean(scores)\n",
    "deviation = scores - mean\n",
    "deviation"
   ]
  },
  {
   "cell_type": "code",
   "execution_count": 10,
   "id": "a4a74d2c-0397-4270-9688-79facdda031c",
   "metadata": {},
   "outputs": [
    {
     "data": {
      "text/plain": [
       "array([-5.,  5.,  3., -1., -4.,  1.,  2., -2., -3.,  4.])"
      ]
     },
     "execution_count": 10,
     "metadata": {},
     "output_type": "execute_result"
    }
   ],
   "source": [
    "another_scores = [50,60,58,54,51,56,57,53,52,59]\n",
    "another_mean = np.mean(another_scores)\n",
    "another_deviation = another_scores-another_mean\n",
    "another_deviation"
   ]
  },
  {
   "cell_type": "markdown",
   "id": "fdabb0d5-b3a2-42ea-9efc-980ce1bb7b58",
   "metadata": {},
   "source": [
    "### 분산(variance)\n",
    "편차를 이용하는 것은 바람직한 생각이지만, 편차의 평군이 항상 0이 되므로 잘 사용하지 않음\n",
    "따라서 편차의 제곱의 평균을 사용함\n",
    "\n",
    "표본분산은 n으로 나누는 것이고 불편분산은 n-1로 나눈다\n",
    "\n",
    "모집단의 분산값은 불편분산과 같으므로 통계에서 대부분은 불편분산이다\n"
   ]
  },
  {
   "cell_type": "code",
   "execution_count": 12,
   "id": "9bf1e6d4-fe5d-44a5-8d98-902ae0bd65a2",
   "metadata": {},
   "outputs": [
    {
     "data": {
      "text/plain": [
       "86.0"
      ]
     },
     "execution_count": 12,
     "metadata": {},
     "output_type": "execute_result"
    }
   ],
   "source": [
    "np.mean(deviation ** 2)"
   ]
  },
  {
   "cell_type": "code",
   "execution_count": 13,
   "id": "14344cd5-9f5b-4d7f-b84e-23fe3276cf3a",
   "metadata": {},
   "outputs": [
    {
     "data": {
      "text/plain": [
       "86.0"
      ]
     },
     "execution_count": 13,
     "metadata": {},
     "output_type": "execute_result"
    }
   ],
   "source": [
    "# numpy는 표본분산\n",
    "np.var(scores)\n"
   ]
  },
  {
   "cell_type": "code",
   "execution_count": 18,
   "id": "ee163544-25ee-4700-bdd0-2e9212cf0b5e",
   "metadata": {},
   "outputs": [
    {
     "data": {
      "text/plain": [
       "scores    95.556\n",
       "dtype: float64"
      ]
     },
     "execution_count": 18,
     "metadata": {},
     "output_type": "execute_result"
    }
   ],
   "source": [
    "# pandas는 불편분산\n",
    "scores_df.var()"
   ]
  },
  {
   "cell_type": "code",
   "execution_count": 17,
   "id": "cfb6e63d-4705-417a-a05c-ff8eff7a8da5",
   "metadata": {},
   "outputs": [
    {
     "data": {
      "text/plain": [
       "scores    86.0\n",
       "dtype: float64"
      ]
     },
     "execution_count": 17,
     "metadata": {},
     "output_type": "execute_result"
    }
   ],
   "source": [
    "# ddof 파라미터를 0으로 바꾸면 표본분산을 계산할 수 있다\n",
    "scores_df.var(ddof=0)"
   ]
  },
  {
   "cell_type": "markdown",
   "id": "99c3e36c-6bed-4d13-a8bf-154a8e422c30",
   "metadata": {},
   "source": [
    "### 표준편차(standard deviation)\n",
    "분산은 평균이나 원 데이터와 같은 단위를 사용하지 않는다\n",
    "\n",
    "예를 들면 시험점수는 몇 점, 시험점수의 평균은 평균 몇 점처럼 표현을 하지만 분산은 (원 점수 - 평균점수)^2 이기 때문에 같은 단위를 사용할 수 없다\n",
    "\n",
    "원래의 데이터와 동일한 단위를 쓰는 산포도의 지표를 얻기 위해 분산에 제곱근을 취한 표준편차를 사용한다"
   ]
  },
  {
   "cell_type": "code",
   "execution_count": 19,
   "id": "bd4878f2-ebcf-4477-8f4f-6fd2913875db",
   "metadata": {},
   "outputs": [
    {
     "data": {
      "text/plain": [
       "9.273618495495704"
      ]
     },
     "execution_count": 19,
     "metadata": {},
     "output_type": "execute_result"
    }
   ],
   "source": [
    "np.sqrt(np.var(scores,ddof=0))"
   ]
  },
  {
   "cell_type": "code",
   "execution_count": 20,
   "id": "4192f324-87f1-48f8-833c-1786b42089bc",
   "metadata": {},
   "outputs": [
    {
     "data": {
      "text/plain": [
       "9.273618495495704"
      ]
     },
     "execution_count": 20,
     "metadata": {},
     "output_type": "execute_result"
    }
   ],
   "source": [
    "np.std(scores,ddof=0)"
   ]
  },
  {
   "cell_type": "markdown",
   "id": "752c608d-2350-48e9-8209-43b8d2d1d37d",
   "metadata": {},
   "source": [
    "표준편차는 1 시그마라는 단위가 되어 평균에 더하거나 뺌으로서 시그마 구간을 만든다\n",
    "- 평균 +- 1시그마 == 1시그마 구간\n",
    "- 평균 +- 2시그마 == 2시그마 구간\n",
    "- 평균 +- 3시그마 == 3시그마 구간\n"
   ]
  },
  {
   "cell_type": "markdown",
   "id": "67c2e91e-36db-4363-bbb4-6a641f0762dc",
   "metadata": {},
   "source": [
    "## 범위와 사분위 범위\n",
    "\n",
    "### 사분위 범위(Interquartile range)\n",
    "범위는 최대값과 최소값만 보기 때문에 큰 이상값이 하나라도 있으면 범위도 크게 변화한다.\n",
    "\n",
    "따라서 데이터의 상위소%에 위치하는 값과 하위수%에 위치하는 값의 차이를 취하는 방법을 사용한다\n",
    "\n",
    "- Q1 == 25%\n",
    "- Q2 == 50%\n",
    "- Q3 == 75%\n",
    "- IQR == Q3 - Q1"
   ]
  },
  {
   "cell_type": "code",
   "execution_count": 21,
   "id": "b9b3e2a9-f156-4b4b-a6f0-d5eee90d0af6",
   "metadata": {},
   "outputs": [
    {
     "data": {
      "text/plain": [
       "15.0"
      ]
     },
     "execution_count": 21,
     "metadata": {},
     "output_type": "execute_result"
    }
   ],
   "source": [
    "scores_Q1 = np.percentile(scores,25)\n",
    "scores_Q3 = np.percentile(scores,75)\n",
    "scores_IQR = scores_Q3 - scores_Q1\n",
    "scores_IQR"
   ]
  },
  {
   "cell_type": "markdown",
   "id": "24b7b8bd-fc11-4cf0-8fbd-a5efa49c69f8",
   "metadata": {},
   "source": [
    "## 데이터의 지표 정리"
   ]
  },
  {
   "cell_type": "code",
   "execution_count": 22,
   "id": "1f422f60-34f0-4138-8792-ed4ef3b18782",
   "metadata": {},
   "outputs": [
    {
     "data": {
      "text/plain": [
       "count    10.000\n",
       "mean     55.000\n",
       "std       9.775\n",
       "min      41.000\n",
       "25%      48.250\n",
       "50%      56.500\n",
       "75%      63.250\n",
       "max      69.000\n",
       "dtype: float64"
      ]
     },
     "execution_count": 22,
     "metadata": {},
     "output_type": "execute_result"
    }
   ],
   "source": [
    "pd.Series(scores).describe()"
   ]
  },
  {
   "cell_type": "markdown",
   "id": "8fc24cb9-b9bf-423c-8d91-d6bc7cd88342",
   "metadata": {},
   "source": [
    "## 데이터의 정규화\n",
    "\n",
    "### 표준화\n",
    "데이터에서 평균을 빼고 표준편차로 나누는 작업을 표준화(standardization)라고 하며 , 표준화된 데이터를 표준화 변량(standardized data)이나 Z점수(z-score) 라고 한다\n",
    "\n",
    "$z_i=\\frac{x_{i}-\\overline{x}}{S}$"
   ]
  },
  {
   "cell_type": "code",
   "execution_count": 24,
   "id": "f9ed16d1-f8da-490a-8867-69cb24517caa",
   "metadata": {},
   "outputs": [
    {
     "data": {
      "text/plain": [
       "array([-1.402,  1.51 ,  0.108, -1.51 ,  0.216, -0.755,  1.078, -0.647,\n",
       "        1.078,  0.323])"
      ]
     },
     "execution_count": 24,
     "metadata": {},
     "output_type": "execute_result"
    }
   ],
   "source": [
    "z = (scores - np.mean(scores))/np.std(scores)\n",
    "z"
   ]
  },
  {
   "cell_type": "code",
   "execution_count": 26,
   "id": "9b143c7a-4a45-42a9-b10d-3ac31853b349",
   "metadata": {},
   "outputs": [
    {
     "data": {
      "text/plain": [
       "(-1.6653345369377347e-17, 0.9999999999999999)"
      ]
     },
     "execution_count": 26,
     "metadata": {},
     "output_type": "execute_result"
    }
   ],
   "source": [
    "# 표준화된 데이터는 평균이 0, 표준편차가 1\n",
    "np.mean(z),np.std(z)"
   ]
  },
  {
   "cell_type": "markdown",
   "id": "779852da-2a44-4c5c-9f9d-b0a413676171",
   "metadata": {},
   "source": [
    "### 편찻값\n",
    "평균이 50, 표준편차가 10이 되도록 정규화한 값을 말한다\n",
    "\n",
    "$z_{i} = 50 + 10*\\frac{x_{i}-\\overline{x}}{S}$"
   ]
  },
  {
   "cell_type": "code",
   "execution_count": 28,
   "id": "203a5dc2-b13c-4c1a-acda-e35868e93a9e",
   "metadata": {},
   "outputs": [
    {
     "data": {
      "text/plain": [
       "array([35.982, 65.097, 51.078, 34.903, 52.157, 42.452, 60.783, 43.53 ,\n",
       "       60.783, 53.235])"
      ]
     },
     "execution_count": 28,
     "metadata": {},
     "output_type": "execute_result"
    }
   ],
   "source": [
    "z = 50 + 10*(scores - np.mean(scores))/np.std(scores)\n",
    "z"
   ]
  },
  {
   "cell_type": "code",
   "execution_count": 30,
   "id": "8c4177c0-a209-458a-acf2-adef519bd74e",
   "metadata": {},
   "outputs": [
    {
     "data": {
      "text/html": [
       "<div>\n",
       "<style scoped>\n",
       "    .dataframe tbody tr th:only-of-type {\n",
       "        vertical-align: middle;\n",
       "    }\n",
       "\n",
       "    .dataframe tbody tr th {\n",
       "        vertical-align: top;\n",
       "    }\n",
       "\n",
       "    .dataframe thead th {\n",
       "        text-align: right;\n",
       "    }\n",
       "</style>\n",
       "<table border=\"1\" class=\"dataframe\">\n",
       "  <thead>\n",
       "    <tr style=\"text-align: right;\">\n",
       "      <th></th>\n",
       "      <th>scores</th>\n",
       "      <th>deviation value</th>\n",
       "    </tr>\n",
       "    <tr>\n",
       "      <th>student</th>\n",
       "      <th></th>\n",
       "      <th></th>\n",
       "    </tr>\n",
       "  </thead>\n",
       "  <tbody>\n",
       "    <tr>\n",
       "      <th>A</th>\n",
       "      <td>42</td>\n",
       "      <td>35.982</td>\n",
       "    </tr>\n",
       "    <tr>\n",
       "      <th>B</th>\n",
       "      <td>69</td>\n",
       "      <td>65.097</td>\n",
       "    </tr>\n",
       "    <tr>\n",
       "      <th>C</th>\n",
       "      <td>56</td>\n",
       "      <td>51.078</td>\n",
       "    </tr>\n",
       "    <tr>\n",
       "      <th>D</th>\n",
       "      <td>41</td>\n",
       "      <td>34.903</td>\n",
       "    </tr>\n",
       "    <tr>\n",
       "      <th>E</th>\n",
       "      <td>57</td>\n",
       "      <td>52.157</td>\n",
       "    </tr>\n",
       "    <tr>\n",
       "      <th>F</th>\n",
       "      <td>48</td>\n",
       "      <td>42.452</td>\n",
       "    </tr>\n",
       "    <tr>\n",
       "      <th>G</th>\n",
       "      <td>65</td>\n",
       "      <td>60.783</td>\n",
       "    </tr>\n",
       "    <tr>\n",
       "      <th>H</th>\n",
       "      <td>49</td>\n",
       "      <td>43.530</td>\n",
       "    </tr>\n",
       "    <tr>\n",
       "      <th>I</th>\n",
       "      <td>65</td>\n",
       "      <td>60.783</td>\n",
       "    </tr>\n",
       "    <tr>\n",
       "      <th>J</th>\n",
       "      <td>58</td>\n",
       "      <td>53.235</td>\n",
       "    </tr>\n",
       "  </tbody>\n",
       "</table>\n",
       "</div>"
      ],
      "text/plain": [
       "         scores  deviation value\n",
       "student                         \n",
       "A            42           35.982\n",
       "B            69           65.097\n",
       "C            56           51.078\n",
       "D            41           34.903\n",
       "E            57           52.157\n",
       "F            48           42.452\n",
       "G            65           60.783\n",
       "H            49           43.530\n",
       "I            65           60.783\n",
       "J            58           53.235"
      ]
     },
     "execution_count": 30,
     "metadata": {},
     "output_type": "execute_result"
    }
   ],
   "source": [
    "scores_df['deviation value'] = z\n",
    "scores_df"
   ]
  },
  {
   "cell_type": "code",
   "execution_count": null,
   "id": "df30b79a-5c8e-469b-9ee4-c76d9019660a",
   "metadata": {},
   "outputs": [],
   "source": []
  }
 ],
 "metadata": {
  "kernelspec": {
   "display_name": "Python Multi",
   "language": "python",
   "name": "multi"
  },
  "language_info": {
   "codemirror_mode": {
    "name": "ipython",
    "version": 3
   },
   "file_extension": ".py",
   "mimetype": "text/x-python",
   "name": "python",
   "nbconvert_exporter": "python",
   "pygments_lexer": "ipython3",
   "version": "3.7.6"
  }
 },
 "nbformat": 4,
 "nbformat_minor": 5
}
