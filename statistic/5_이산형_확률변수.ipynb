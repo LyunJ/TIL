{
 "cells": [
  {
   "cell_type": "code",
   "execution_count": 1,
   "id": "0acb1f18-9f8b-4795-bafc-0911f7113701",
   "metadata": {},
   "outputs": [],
   "source": [
    "import numpy as np\n",
    "import matplotlib.pyplot as plt\n",
    "\n",
    "%precision 3\n",
    "%matplotlib inline"
   ]
  },
  {
   "cell_type": "markdown",
   "id": "449da446-9769-4e23-a3d1-8b8a1959a094",
   "metadata": {},
   "source": [
    "## 1차원 이산형 확률변수\n",
    "이산형 확률변수는 취할 수 있는 값이 이산적인 확률변수이다.\n",
    "\n",
    "### 1차원 이산형 확률변수의 정의\n",
    "\n",
    "#### 확률질량함수\n",
    "\n",
    "이산형 확률변수일 때 확률변수 X가 취할 수 있는 값에 대한 집합을 ${x_{1},x_{2},...}$ 로, 확률변수 x가 $x_{k}$라는 값을 취하는 확률을\n",
    "\n",
    "$P(X=x_{k})=p_{k} (k=1,2,...)$\n",
    "\n",
    "로 정의할 수 있다\n",
    "\n",
    "이때 확률은 변수가 취할 수 있는 값 x를 인수로 하는 함수로 볼 수 있기 때문에\n",
    "\n",
    "$f(x)=P(X=x)$\n",
    "\n",
    "로 하는 함수 f(x)를 생각할 수 있고, 이를 **확률질량함수(probability mass function,PMF) 또는 확률함수** 라고 부른다\n",
    "\n",
    "확률변수가 취할 수 있는 값과 그 확률의 구체적인 대응을 **확률분포(probability distribution)** 라고 한다.\n",
    "\n",
    "따라서 확률변수의 확률분포가 결정되면 그 확률변수의 움직임이 정해진다"
   ]
  },
  {
   "cell_type": "code",
   "execution_count": 2,
   "id": "d7e96675-1c52-4162-b203-cc21fc7b7823",
   "metadata": {},
   "outputs": [],
   "source": [
    "# 주사위의 눈을 정의한다\n",
    "x_set = np.array([1,2,3,4,5,6])"
   ]
  },
  {
   "cell_type": "markdown",
   "id": "f4307331-2308-411c-b6af-d7f3df9f9b11",
   "metadata": {},
   "source": [
    "불공정한 주사위의 확률분포가 1/21,2/21 ... 으로 정해져 있다면 불공정한 주사위의 확률 변수는 다음과 같이 정의할 수 있다\n",
    "\n",
    "$$ f(x)= \\left\\{\n",
    "    \\begin{array}\\\\\n",
    "        \\frac{x}{21} &  (x \\in {1,2,3,4,5,6}) \\\\\n",
    "        0 & \\mbox{otherwise}\n",
    "    \\end{array}\n",
    "\\right.$$"
   ]
  },
  {
   "cell_type": "code",
   "execution_count": 3,
   "id": "50e92311-94f8-49e4-a8a4-b43cd714adab",
   "metadata": {},
   "outputs": [],
   "source": [
    "def f(x):\n",
    "    if x in x_set:\n",
    "        return x/21\n",
    "    else:\n",
    "        return 0"
   ]
  },
  {
   "cell_type": "markdown",
   "id": "5d9972f6-6dce-475e-8680-338a8745219b",
   "metadata": {},
   "source": [
    "확률변수가 취할 수 있는 값의 집합과 확률변수의 세트가 확률분포이다. 이 확률분포에 의해 확률변수 X의 동작이 결정된다.\n",
    "\n",
    "따라서 X는 x_set과 f를 요소로 하는 리스트로 구현된다"
   ]
  },
  {
   "cell_type": "code",
   "execution_count": 4,
   "id": "afeda830-fe88-4b2c-a710-b7eb79cc1e2f",
   "metadata": {},
   "outputs": [],
   "source": [
    "X = [x_set,f]"
   ]
  },
  {
   "cell_type": "code",
   "execution_count": 5,
   "id": "cf029a66-6bd1-493d-b3ab-7de438940834",
   "metadata": {},
   "outputs": [
    {
     "data": {
      "text/plain": [
       "{1: 0.047619047619047616,\n",
       " 2: 0.09523809523809523,\n",
       " 3: 0.14285714285714285,\n",
       " 4: 0.19047619047619047,\n",
       " 5: 0.23809523809523808,\n",
       " 6: 0.2857142857142857}"
      ]
     },
     "execution_count": 5,
     "metadata": {},
     "output_type": "execute_result"
    }
   ],
   "source": [
    "prob = np.array([f(x_k) for x_k in x_set])\n",
    "\n",
    "dict(zip(x_set,prob))"
   ]
  },
  {
   "cell_type": "code",
   "execution_count": 6,
   "id": "8837d177-c31b-464d-bc32-bc7e7b3ae6d5",
   "metadata": {},
   "outputs": [
    {
     "data": {
      "image/png": "[encoded data removed]",
      "text/plain": [
       "<Figure size 720x432 with 1 Axes>"
      ]
     },
     "metadata": {
      "needs_background": "light"
     },
     "output_type": "display_data"
    }
   ],
   "source": [
    "fig = plt.figure(figsize=(10,6))\n",
    "ax = fig.add_subplot(111)\n",
    "ax.bar(x_set,prob)\n",
    "ax.set_xlabel('value')\n",
    "ax.set_ylabel('probability')\n",
    "\n",
    "plt.show()"
   ]
  },
  {
   "cell_type": "markdown",
   "id": "922c4b8b-5f20-4334-a7f4-005831a37ca3",
   "metadata": {},
   "source": [
    "#### 누적분포함수\n",
    "\n",
    "확률함수는 확률변수 X가 x가 될 때의 확률을 반환하는 함수이지만, 확률변수 X가 x 이하가 될 때의 확률을 반환하는 함수로도 사용된다\n",
    "\n",
    "이와 같은 함수 F(x)를 **누적분포함수(cumulative distribution function,CDF)** 또는 간단히 **분포함수** 라 하고, 다음과 같이 정의한다\n",
    "\n",
    "$$F(x) = P(X\\leq x) = \\sum_{x_{k}\\leq x}{f(x_{k})}$$"
   ]
  },
  {
   "cell_type": "code",
   "execution_count": 7,
   "id": "b8e1622f-2d9c-4560-8236-51a118b09f51",
   "metadata": {},
   "outputs": [],
   "source": [
    "def F(x):\n",
    "    return np.sum([f(x_k) for x_k in x_set if x_k <= x])"
   ]
  },
  {
   "cell_type": "code",
   "execution_count": 8,
   "id": "35c134ab-d1dc-48fe-ab1c-c75aa35266c4",
   "metadata": {},
   "outputs": [
    {
     "data": {
      "text/plain": [
       "0.2857142857142857"
      ]
     },
     "execution_count": 8,
     "metadata": {},
     "output_type": "execute_result"
    }
   ],
   "source": [
    "F(3)"
   ]
  },
  {
   "cell_type": "markdown",
   "id": "5db40323-362b-4d53-a602-481a6e183202",
   "metadata": {},
   "source": [
    "### 1차원 이산형 확률변수의 지표\n",
    "\n",
    "#### 기댓값\n",
    "\n",
    "확률변수의 평균은 확률변수를 몇 번이나 (무제한으로) 시행하여 얻어진 실현값의 평균을 가리킨다\n",
    "\n",
    "무제한으로 시행할 수 없기 대문에 이산형 확률변수의 경우, 확률변수의 평균은 확률변수가 취할 수 있는 값과 그 확률의 곱의 총합으로 정의된다.\n",
    "\n",
    "$$E(X) = \\sum_{k}{x_{k}f(x_{k})}$$\n",
    "\n",
    "확률변수의 평균은 **기댓값(expected value)** 라고도 부른다\n",
    "\n",
    "기호로는 $\\mu$나 E(X)라는 표기를 주로 사용한다"
   ]
  },
  {
   "cell_type": "code",
   "execution_count": 9,
   "id": "3964e31d-b96e-42fd-ad52-a8f879e12d48",
   "metadata": {},
   "outputs": [
    {
     "data": {
      "text/plain": [
       "4.333333333333333"
      ]
     },
     "execution_count": 9,
     "metadata": {},
     "output_type": "execute_result"
    }
   ],
   "source": [
    "# 불공정한 주사위\n",
    "np.sum([x_k* f(x_k) for x_k in x_set])"
   ]
  },
  {
   "cell_type": "markdown",
   "id": "b61c2657-414a-4a09-9707-deb29400c098",
   "metadata": {},
   "source": [
    "앞에서 설명했듯이, 확률변수의 기댓값은 확률변수를 무제한 시행하여 얻은 실현값의 평균이다\n",
    "\n",
    "무제한 시행은 불가능하기 때문에 100만번 주사위를 굴려 나온 평균과 비교해 보자"
   ]
  },
  {
   "cell_type": "code",
   "execution_count": 10,
   "id": "de47fdb0-7478-405d-9e6c-713812b8c40b",
   "metadata": {},
   "outputs": [
    {
     "data": {
      "text/plain": [
       "4.334982"
      ]
     },
     "execution_count": 10,
     "metadata": {},
     "output_type": "execute_result"
    }
   ],
   "source": [
    "sample = np.random.choice(x_set,int(1e6),p=prob)\n",
    "np.mean(sample)"
   ]
  },
  {
   "cell_type": "markdown",
   "id": "88b8c693-2be1-497c-a383-cb088ec2946c",
   "metadata": {},
   "source": [
    "### 이산형 확률변수의 기댓값\n",
    "\n",
    "$$E(g(X)) = \\sum_{k}{g(x_{k})f(x_{k})}$$\n",
    "\n",
    "### 기댓값의 선형성\n",
    "\n",
    "a,b를 실수, X를 확률변수로 했을 때\n",
    "\n",
    "$$E(aX + b) = aE(X) + b$$"
   ]
  },
  {
   "cell_type": "markdown",
   "id": "b9131a0f-0aad-4145-a853-fdf292ffc1e5",
   "metadata": {},
   "source": [
    "#### 분산\n",
    "\n",
    "확률변수의 분산도 데이터의 분산과 마찬가지로 산포도를 나타내는 지표가 된다\n",
    "\n",
    "이산형 확률변수의 경우, 분산은 다음 식과 같이 편차 제곱의 기댓값으로 정의된다.\n",
    "\n",
    "여기서 $\\mu$는 확률변수 X의 기댓값으로 E(X)이다.\n",
    "\n",
    "$$V(X) = \\sum_{k}{(x_{k}-\\mu)^{2}f(x_{k})}$$\n",
    "\n",
    "분산은 기호로 $\\sigma$를 사용하고 $\\sigma^{2}$이나 V(X)로 흔히 표기한다.\n",
    "\n",
    "다만, $\\sigma$는 확률변수 X의 표준편차를 나타낸다"
   ]
  },
  {
   "cell_type": "code",
   "execution_count": 11,
   "id": "fcfbb24d-c973-4220-9e95-e89b343541cf",
   "metadata": {},
   "outputs": [
    {
     "data": {
      "text/plain": [
       "2.2222222222222223"
      ]
     },
     "execution_count": 11,
     "metadata": {},
     "output_type": "execute_result"
    }
   ],
   "source": [
    "# 확률변수의 기댓값 구하는 함수\n",
    "# 변환한 확률변수의 기댓값도 구할 수 있음\n",
    "def E(X,g=lambda x:x):\n",
    "    x_set,f = X\n",
    "    return np.sum([g(x_k)*f(x_k) for x_k in x_set])\n",
    "# 확률변수의 분산\n",
    "mean = E(X)\n",
    "np.sum([(x_k-mean)**2 * f(x_k) for x_k in x_set])"
   ]
  },
  {
   "cell_type": "code",
   "execution_count": 12,
   "id": "932f680b-34a5-4a6f-bf55-267dc5d77de2",
   "metadata": {},
   "outputs": [],
   "source": [
    "# 확률변수의 분산 구하는 함수\n",
    "# 변환한 확률변수의 분산도 구할 수 있음\n",
    "def V(X, g=lambda x:x):\n",
    "    x_set, f = X\n",
    "    mean = E(X,g)\n",
    "    return np.sum([(g(x_k)-mean)**2*f(x_k) for x_k in x_set])"
   ]
  },
  {
   "cell_type": "markdown",
   "id": "76e6784f-b3a6-4780-8676-54c192d86375",
   "metadata": {},
   "source": [
    "## 2차원 이산형 확률변수\n",
    "2개의 불공정한 주사위를 사용한다\n",
    "\n",
    "### 2차원 이산형 확률변수의 정의\n",
    "\n",
    "#### 결합확률분포\n",
    "2차원 확률변수에서는 1차원 확률분포 2개를 동시에 다룬다(X,Y)\n",
    "\n",
    "또한 확률변수의 움직임은 취할 수 있는 값의 조합으로 이루어진 집합과 그 확률에 의해 정해진다\n",
    "\n",
    "즉 (X,Y)가 취할 수 있는 값의 조합으로 이루어진 집합을\n",
    "\n",
    "$$\\{ (x_{i},y_{y})|i=1,2,...;j=1,2,... \\}$$\n",
    "\n",
    "라고 하면 확률은 X와 Y가 각각 취할 수 있는 값의 조합에 관해서 정의할 수 있고, 확률변수 X가 $x_{i}$, 확률변수 Y가 $y_{j}$를 취하는 확률은\n",
    "\n",
    "$$P(X=x_{i}, Y = y_{j}  (i=1,2,...;j=1,2,...)$$\n",
    "\n",
    "라고 나타낼 수 있다\n",
    "\n",
    "이와같이 확률변수 (X,Y)의 움직임을 동시에 고려한 분포를 **결합확률분포(joint probability distribution)**  또는 **결합분포** 라고 한다\n",
    "\n",
    "\n"
   ]
  },
  {
   "cell_type": "markdown",
   "id": "161a7df7-9d6e-49d4-b973-d29fb0c68261",
   "metadata": {},
   "source": [
    "지금껏 했던 것처럼 불공정한 주사위 X,Y로 했을 때에는 공분산이 0이 나오기 때문에(무관계) A의 눈과 B의 눈을 더한것을 X, A의 눈을 Y로한 2차원 확률분포를 생각해 본다\n",
    "\n",
    "$$P(X=x,Y=y) = f_{XY}(x,y)$$\n",
    "\n",
    "를 만족하는 함수 $f_{XY}(x,y)$ 를 **결합확률함수(joint probability function)** 라고 한다\n",
    "\n",
    "이 경우 결합확률함수는\n",
    "\n",
    "$$f_{XY}(x,y) = \\left\\{\n",
    "            \\begin{array} \\\\\n",
    "                \\frac{y(x-y)}{441} & (y\\in \\{1,2,3,4,5,6\\},x-y\\in\\{1,2,3,4,5,6\\}) \\\\\n",
    "                0 & \\mbox{otherwise}\n",
    "            \\end{array}\n",
    "        \\right.$$"
   ]
  },
  {
   "cell_type": "markdown",
   "id": "0a97698a-0847-4511-894b-e2573c6cd1dd",
   "metadata": {},
   "source": [
    "#### 확률의 성질\n",
    "\n",
    "2차원 이산형 확률변수도 1차원의 경우와 마찬가지로 확률은 반드시 0 이상이어야 하며 전체 확률은 1이 되어야 한다.\n",
    "\n",
    "따라서 2차원 이산형 확률변수는 확률의 성질로서 다음 두 가지 식을 만족해야 한다\n",
    "\n",
    "$$f_{XY}(X-{i},y_{j}) \\geq 0$$\n",
    "\n",
    "$$\\sum_{i}\\sum_{j}f_{XY}(X-{i},y_{j}) = 1$$"
   ]
  },
  {
   "cell_type": "code",
   "execution_count": 13,
   "id": "c9a808cb-8db6-461a-9465-2a274922f845",
   "metadata": {},
   "outputs": [],
   "source": [
    "x_set = np.arange(2,13)\n",
    "y_set = np.arange(1,7)"
   ]
  },
  {
   "cell_type": "code",
   "execution_count": 14,
   "id": "37bf23cb-15d5-4295-bd1c-0df95a667209",
   "metadata": {},
   "outputs": [],
   "source": [
    "# 결합확률함수\n",
    "def f_XY(x,y):\n",
    "    if 1<= y <=6 and 1 <= x-y <= 6:\n",
    "        return y * (x-y) / 441\n",
    "    else:\n",
    "        return 0\n",
    "\n",
    "# 확률변수 (X,Y)의 움직임을 결정하는 요소들로 구성된 리스트\n",
    "XY = [x_set,y_set,f_XY]"
   ]
  },
  {
   "cell_type": "code",
   "execution_count": 15,
   "id": "69a56d73-2466-4af9-aeb3-d70f5a567049",
   "metadata": {},
   "outputs": [
    {
     "data": {
      "image/png": "[encoded data removed]",
      "text/plain": [
       "<Figure size 720x576 with 2 Axes>"
      ]
     },
     "metadata": {
      "needs_background": "light"
     },
     "output_type": "display_data"
    }
   ],
   "source": [
    "prob = np.array([[f_XY(x_i,y_j) for y_j in y_set] for x_i in x_set])\n",
    "\n",
    "fig = plt.figure(figsize=(10,8))\n",
    "ax = fig.add_subplot(111)\n",
    "\n",
    "c = ax.pcolor(prob)\n",
    "ax.set_xticks(np.arange(prob.shape[1]) + 0.5, minor=False)\n",
    "ax.set_yticks(np.arange(prob.shape[0]) + 0.5, minor=False)\n",
    "ax.set_xticklabels(np.arange(1,7),minor=False)\n",
    "ax.set_yticklabels(np.arange(2,13),minor=False)\n",
    "# y축을 내림차순의 숫자가 되게 하여, 위 아래를 역전시킨다\n",
    "ax.invert_yaxis()\n",
    "# x축 눈금을 그래프 위쪽에 표시\n",
    "ax.xaxis.tick_top()\n",
    "fig.colorbar(c,ax=ax)\n",
    "plt.show()"
   ]
  },
  {
   "cell_type": "code",
   "execution_count": 16,
   "id": "0a0cb0bb-623d-4441-b79a-4a1f64d74b64",
   "metadata": {},
   "outputs": [
    {
     "data": {
      "text/plain": [
       "True"
      ]
     },
     "execution_count": 16,
     "metadata": {},
     "output_type": "execute_result"
    }
   ],
   "source": [
    "# 확률의 성질\n",
    "# 모든 확률은 0 이상이고, 모든 확률의 합은 1\n",
    "np.all(prob >= 0)"
   ]
  },
  {
   "cell_type": "code",
   "execution_count": 17,
   "id": "0da7eb1e-1655-43e6-a227-399ee0fbf7ed",
   "metadata": {},
   "outputs": [
    {
     "data": {
      "text/plain": [
       "1.0"
      ]
     },
     "execution_count": 17,
     "metadata": {},
     "output_type": "execute_result"
    }
   ],
   "source": [
    "np.sum(prob)"
   ]
  },
  {
   "cell_type": "markdown",
   "id": "516f953a-d16c-4cda-80db-b440af29f13b",
   "metadata": {},
   "source": [
    "#### 주변확률분포\n",
    "\n",
    "확률변수(X,Y)는 결합확률분포에 의해 동시에 정의되지만, 개별 확률변수에만 흥미가 있을 수 있다.\n",
    "\n",
    "예를 들면, 확률변수 X만의 움직임, 즉 확률변수 X의 확률함수를 알고 싶은 상황\n",
    "\n",
    "이럴 때 확률변수 X의 확률함수$f_{X}(x)$는 결합확률함수 $f_{XY}$에서 Y가 취할 수 있는 값 모두를 대입한 다음 모두 더한\n",
    "\n",
    "$$f_{X}(x) = \\sum_{k}{f_{XY}(x,y_{k})}$$\n",
    "\n",
    "로 구할 수 있다.\n",
    "\n",
    "이와 같이 얻은 $f_{X}(x)$를 X의 **주변확률분포(marginal probability distribution)** 이라 하고, 간단히 X의 **주변분포** 라고도 표현한다"
   ]
  },
  {
   "cell_type": "code",
   "execution_count": 18,
   "id": "a3a5a6ce-d543-4f0e-8cb5-ca64b4c8ecb1",
   "metadata": {},
   "outputs": [],
   "source": [
    "def f_X(x):\n",
    "    return np.sum([f_XY(x,y_k) for y_k in y_set])"
   ]
  },
  {
   "cell_type": "code",
   "execution_count": 20,
   "id": "03fd7c6c-7e0d-4ada-9907-dae1fc929806",
   "metadata": {},
   "outputs": [],
   "source": [
    "def f_Y(y):\n",
    "    return np.sum([f_XY(x_k,y) for x_k in x_set])"
   ]
  },
  {
   "cell_type": "markdown",
   "id": "de3430f1-50e7-42ae-86fc-9b6b9db676be",
   "metadata": {},
   "source": [
    "주변분포를 구해보면, X와 Y를 각각 독립이라고 생각할 수 있다"
   ]
  },
  {
   "cell_type": "code",
   "execution_count": 24,
   "id": "4d2c7ec7-7d3a-4d1f-9556-802fd686d27b",
   "metadata": {},
   "outputs": [
    {
     "data": {
      "text/plain": [
       "[array([ 2,  3,  4,  5,  6,  7,  8,  9, 10, 11, 12]),\n",
       " <function __main__.f_X(x)>]"
      ]
     },
     "execution_count": 24,
     "metadata": {},
     "output_type": "execute_result"
    }
   ],
   "source": [
    "X = [x_set, f_X]\n",
    "Y = [y_set,f_Y]"
   ]
  },
  {
   "cell_type": "code",
   "execution_count": 25,
   "id": "519b800e-6c6a-4d5d-9e37-c3674b72dcf7",
   "metadata": {},
   "outputs": [
    {
     "data": {
      "image/png": "[encoded data removed]",
      "text/plain": [
       "<Figure size 864x288 with 2 Axes>"
      ]
     },
     "metadata": {
      "needs_background": "light"
     },
     "output_type": "display_data"
    }
   ],
   "source": [
    "prob_x = np.array([f_X(x_k) for x_k in x_set])\n",
    "prob_y = np.array([f_Y(y_k) for y_k in y_set])\n",
    "\n",
    "fig = plt.figure(figsize=(12,4))\n",
    "ax1 = fig.add_subplot(121)\n",
    "ax2 = fig.add_subplot(122)\n",
    "\n",
    "ax1.bar(x_set,prob_x)\n",
    "ax1.set_title('X_marginal probability distribution')\n",
    "ax1.set_xlabel('X-value')\n",
    "ax1.set_ylabel('probability')\n",
    "ax1.set_xticks(x_set)\n",
    "\n",
    "ax2.bar(y_set,prob_y)\n",
    "ax2.set_title('Y_marginal probability distribution')\n",
    "ax2.set_xlabel('Y_value')\n",
    "ax2.set_ylabel('probability')\n",
    "\n",
    "plt.show()"
   ]
  },
  {
   "cell_type": "markdown",
   "id": "b2b5dd62-9ed4-4d95-b148-aa0f9183e463",
   "metadata": {},
   "source": [
    "### 2차원 이산형 확률변수의 지표\n",
    "\n",
    "#### 기댓값\n",
    "\n",
    "X의 기댓값\n",
    "\n",
    "$$\\mu_{X} = E(X) = \\sum_{i}\\sum_{j}{x_{i}f_{XY}(x_{i},y_{i})}$$"
   ]
  },
  {
   "cell_type": "code",
   "execution_count": null,
   "id": "af389923-8882-4463-9047-d656b1db0b22",
   "metadata": {},
   "outputs": [],
   "source": [
    "np.sum([x_i*f_XY(x_i,y_j) for x_i in x_set for y_j in y_set])"
   ]
  },
  {
   "cell_type": "markdown",
   "id": "24b81326-273f-4de2-a4e4-ba3ad158f51b",
   "metadata": {},
   "source": [
    "X,Y의 함수 $g(X,Y)$의 기댓값을 정의하면\n",
    "\n",
    "$$E(g(X,Y)) = \\sum_{i}\\sum_{j}{g(x_{i},y_{i})f_{XY}(x_{i},y_{i})}$$"
   ]
  },
  {
   "cell_type": "code",
   "execution_count": 28,
   "id": "b45d3366-843f-445e-be66-b6b7c2326075",
   "metadata": {},
   "outputs": [],
   "source": [
    "def E(XY,g):\n",
    "    x_set, y_set, f_XY = XY\n",
    "    return np.sum([g(x_i,y_j)*f_XY(x_i,y_j) for x_i in x_set for y_j in y_set])"
   ]
  },
  {
   "cell_type": "code",
   "execution_count": 29,
   "id": "0d481a8a-60ed-4046-b273-3ecc832abf61",
   "metadata": {},
   "outputs": [
    {
     "data": {
      "text/plain": [
       "8.666666666666666"
      ]
     },
     "execution_count": 29,
     "metadata": {},
     "output_type": "execute_result"
    }
   ],
   "source": [
    "mean_X = E(XY,lambda x, y : x)\n",
    "mean_X"
   ]
  },
  {
   "cell_type": "code",
   "execution_count": 30,
   "id": "fc9f264a-db6c-4ad7-a584-03f427d23911",
   "metadata": {},
   "outputs": [
    {
     "data": {
      "text/plain": [
       "4.333333333333333"
      ]
     },
     "execution_count": 30,
     "metadata": {},
     "output_type": "execute_result"
    }
   ],
   "source": [
    "mean_Y = E(XY, lambda x, y : y)\n",
    "mean_Y"
   ]
  },
  {
   "cell_type": "markdown",
   "id": "05b76fa3-38fc-40b2-9c0d-d825afc2b75b",
   "metadata": {},
   "source": [
    "기댓값에는 선형성이 있다.\n",
    "\n",
    "그것은 확률변수가 2차원이 되더라도 마찬가지\n",
    "\n",
    "$$E(aX + bY) = aE(X) + bE(Y)$$"
   ]
  },
  {
   "cell_type": "code",
   "execution_count": 31,
   "id": "30f5f18a-1fdb-4828-9598-36558013568b",
   "metadata": {},
   "outputs": [],
   "source": [
    "a,b = 2,3"
   ]
  },
  {
   "cell_type": "code",
   "execution_count": 32,
   "id": "d25a919a-2dc0-4304-8736-1732d65f7c3d",
   "metadata": {},
   "outputs": [
    {
     "data": {
      "text/plain": [
       "30.333333333333332"
      ]
     },
     "execution_count": 32,
     "metadata": {},
     "output_type": "execute_result"
    }
   ],
   "source": [
    "E(XY, lambda x,y : a*x + b*y)"
   ]
  },
  {
   "cell_type": "code",
   "execution_count": 33,
   "id": "965ab372-dfa0-4d58-a587-58fa4e0eaffb",
   "metadata": {},
   "outputs": [
    {
     "data": {
      "text/plain": [
       "30.333333333333332"
      ]
     },
     "execution_count": 33,
     "metadata": {},
     "output_type": "execute_result"
    }
   ],
   "source": [
    "a*mean_X + b*mean_Y"
   ]
  },
  {
   "cell_type": "markdown",
   "id": "535c66e7-3f50-444e-bc11-e95e4451be3d",
   "metadata": {},
   "source": [
    "#### 분산\n",
    "\n",
    "$$\\sigma_{X}^{2} = V(X) = \\sum_{i}\\sum_{j}{(x_{i} - \\mu_{X})^{2}f_{XY}(x_{i},y_{j})}$$"
   ]
  },
  {
   "cell_type": "code",
   "execution_count": 36,
   "id": "6904a5f9-5528-4b13-af93-33027ec878b4",
   "metadata": {},
   "outputs": [
    {
     "data": {
      "text/plain": [
       "4.444444444444444"
      ]
     },
     "execution_count": 36,
     "metadata": {},
     "output_type": "execute_result"
    }
   ],
   "source": [
    "np.sum([(x_i-mean_X)**2 * f_XY(x_i,y_j) for x_i in x_set for y_j in y_set])"
   ]
  },
  {
   "cell_type": "markdown",
   "id": "3e642956-972e-49c9-8da9-c7ba14f62f66",
   "metadata": {},
   "source": [
    "일반적으로 X와 Y의 함수 g(X,Y)의 분산을 구할 수 있고, 수식은 다음과 같다\n",
    "\n",
    "$$V(g(X,Y)) = \\sum_{i}\\sum_{j}(g(x_{i},y_{j}) - E(g(X,Y)))^{2}f_{XY}(x_{i},y_{j})$$"
   ]
  },
  {
   "cell_type": "code",
   "execution_count": 37,
   "id": "c369c3f2-9c18-435b-bf53-eb2722d79e01",
   "metadata": {},
   "outputs": [],
   "source": [
    "def V(XY,g):\n",
    "    x_set,y_set,f_XY = XY\n",
    "    mean = E(XY,g)\n",
    "    return np.sum([(g(x_i,y_j)-mean)**2*f_XY(x_i,y_j) for x_i in x_set for y_j in y_set])"
   ]
  },
  {
   "cell_type": "code",
   "execution_count": 40,
   "id": "c5ceeaa9-4775-44db-a062-04c93894c86a",
   "metadata": {},
   "outputs": [
    {
     "data": {
      "text/plain": [
       "4.444444444444444"
      ]
     },
     "execution_count": 40,
     "metadata": {},
     "output_type": "execute_result"
    }
   ],
   "source": [
    "var_X = V(XY, g=lambda x, y : x)\n",
    "var_X"
   ]
  },
  {
   "cell_type": "code",
   "execution_count": 41,
   "id": "5224f193-b897-444a-878b-97424aa5b9ed",
   "metadata": {},
   "outputs": [
    {
     "data": {
      "text/plain": [
       "2.2222222222222223"
      ]
     },
     "execution_count": 41,
     "metadata": {},
     "output_type": "execute_result"
    }
   ],
   "source": [
    "var_Y = V(XY, g=lambda x, y : y)\n",
    "var_Y"
   ]
  },
  {
   "cell_type": "markdown",
   "id": "94e16bc4-361c-4f5c-aae9-236a33634061",
   "metadata": {},
   "source": [
    "#### 공분산\n",
    "\n",
    "공분산을 사용하여 2개의 확률변수 X,Y 사이에 어느 정도 상관이 있는지 알 수 있다\n",
    "\n",
    "$$\\sigma_{XY} = Cov(X,Y) = \\sum_{i}\\sum_{j}{(x_{i} - \\mu_{X})(y_{j} - \\mu_{Y})f_{XY}(x_{i},y_{j})}$$"
   ]
  },
  {
   "cell_type": "code",
   "execution_count": 44,
   "id": "dbb2ceda-b579-4a22-b670-4e9647cf1148",
   "metadata": {},
   "outputs": [],
   "source": [
    "def Cov(XY):\n",
    "    x_set, y_set, f_XY = XY\n",
    "    mean_X = E(XY, lambda x, y: x)\n",
    "    mean_Y = E(XY, lambda x, y: y)\n",
    "    return np.sum([(x_i-mean_X)*(y_j-mean_Y)*f_XY(x_i,y_j) for x_i in x_set for y_j in y_set])"
   ]
  },
  {
   "cell_type": "code",
   "execution_count": 45,
   "id": "d943f613-9450-408a-99fd-032f0481070c",
   "metadata": {},
   "outputs": [
    {
     "data": {
      "text/plain": [
       "2.222222222222222"
      ]
     },
     "execution_count": 45,
     "metadata": {},
     "output_type": "execute_result"
    }
   ],
   "source": [
    "cov_xy = Cov(XY)\n",
    "cov_xy"
   ]
  },
  {
   "cell_type": "markdown",
   "id": "b8016f87-1088-4375-a4c7-83732f76cf2a",
   "metadata": {},
   "source": [
    "분산과 공분산에 관해서는 다음 공식이 성립한다\n",
    "\n",
    "a,b를 실수, X, Y를 확률변수로 했을 때\n",
    "\n",
    "$$V(aX + bY) = a^{2}V(X) + b^{2}V(Y) + 2abCov(X,Y)$$\n",
    "\n",
    "가 성립"
   ]
  },
  {
   "cell_type": "code",
   "execution_count": 46,
   "id": "c7286a3e-94d6-4620-927a-9d17e50f570e",
   "metadata": {},
   "outputs": [
    {
     "data": {
      "text/plain": [
       "64.44444444444444"
      ]
     },
     "execution_count": 46,
     "metadata": {},
     "output_type": "execute_result"
    }
   ],
   "source": [
    "# V(2X + 3Y) = 4V(X) + 9V(Y) + 12Cov(X, Y)를 확인해 보자\n",
    "\n",
    "V(XY, lambda x, y: a*x + b*y)"
   ]
  },
  {
   "cell_type": "code",
   "execution_count": 47,
   "id": "6c8750d2-f451-420a-b16b-1bb898c6665b",
   "metadata": {},
   "outputs": [
    {
     "data": {
      "text/plain": [
       "64.44444444444443"
      ]
     },
     "execution_count": 47,
     "metadata": {},
     "output_type": "execute_result"
    }
   ],
   "source": [
    "a**2*var_X + b**2*var_Y + 2*a*b * cov_xy"
   ]
  },
  {
   "cell_type": "markdown",
   "id": "d341d2b3-b6f3-43d8-92b7-6cccf1ff8b84",
   "metadata": {},
   "source": [
    "#### 상관계수\n",
    "\n",
    "확률변수의 상관계수는 데이터의 상관계수와 마찬가지로 공분산을 각가의 표준편차로 나누어 구한다.\n",
    "\n",
    "상관계수의 기호는 $\\rho$를 사용한다\n",
    "\n",
    "$$\\rho_{XY} = \\rho(X,Y) = \\frac{\\sigma_{XY}}{\\sigma_{X}\\sigma_{Y}}$$"
   ]
  },
  {
   "cell_type": "code",
   "execution_count": null,
   "id": "40eef256-9713-4a2c-bb91-8db32100ad67",
   "metadata": {},
   "outputs": [],
   "source": [
    "cov_xy = np.sqr"
   ]
  }
 ],
 "metadata": {
  "kernelspec": {
   "display_name": "Python Multi",
   "language": "python",
   "name": "multi"
  },
  "language_info": {
   "codemirror_mode": {
    "name": "ipython",
    "version": 3
   },
   "file_extension": ".py",
   "mimetype": "text/x-python",
   "name": "python",
   "nbconvert_exporter": "python",
   "pygments_lexer": "ipython3",
   "version": "3.7.6"
  }
 },
 "nbformat": 4,
 "nbformat_minor": 5
}
