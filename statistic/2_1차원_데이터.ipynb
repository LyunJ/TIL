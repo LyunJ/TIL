{
 "cells": [
  {
   "cell_type": "code",
   "execution_count": 1,
   "id": "7c00745c-eaf4-4837-b66e-83045591f24b",
   "metadata": {},
   "outputs": [],
   "source": [
    "import numpy as np\n",
    "import pandas as pd\n",
    "\n",
    "# 출력을 소수점 이하 3자리로 제한\n",
    "%precision 3\n",
    "# DataFrame의 출력을 소수점 이하 3자리로 제한\n",
    "pd.set_option('precision',3)"
   ]
  },
  {
   "cell_type": "markdown",
   "id": "7cb76577-ce67-4449-9f55-90dce45cbd32",
   "metadata": {},
   "source": [
    "## 변수 초기화"
   ]
  },
  {
   "cell_type": "code",
   "execution_count": 2,
   "id": "aa6ef9da-65d9-4f48-96e4-dcce42ca0496",
   "metadata": {},
   "outputs": [
    {
     "data": {
      "text/html": [
       "<div>\n",
       "<style scoped>\n",
       "    .dataframe tbody tr th:only-of-type {\n",
       "        vertical-align: middle;\n",
       "    }\n",
       "\n",
       "    .dataframe tbody tr th {\n",
       "        vertical-align: top;\n",
       "    }\n",
       "\n",
       "    .dataframe thead th {\n",
       "        text-align: right;\n",
       "    }\n",
       "</style>\n",
       "<table border=\"1\" class=\"dataframe\">\n",
       "  <thead>\n",
       "    <tr style=\"text-align: right;\">\n",
       "      <th></th>\n",
       "      <th>english</th>\n",
       "      <th>mathematics</th>\n",
       "    </tr>\n",
       "    <tr>\n",
       "      <th>student number</th>\n",
       "      <th></th>\n",
       "      <th></th>\n",
       "    </tr>\n",
       "  </thead>\n",
       "  <tbody>\n",
       "    <tr>\n",
       "      <th>1</th>\n",
       "      <td>42</td>\n",
       "      <td>65</td>\n",
       "    </tr>\n",
       "    <tr>\n",
       "      <th>2</th>\n",
       "      <td>69</td>\n",
       "      <td>80</td>\n",
       "    </tr>\n",
       "    <tr>\n",
       "      <th>3</th>\n",
       "      <td>56</td>\n",
       "      <td>63</td>\n",
       "    </tr>\n",
       "    <tr>\n",
       "      <th>4</th>\n",
       "      <td>41</td>\n",
       "      <td>63</td>\n",
       "    </tr>\n",
       "    <tr>\n",
       "      <th>5</th>\n",
       "      <td>57</td>\n",
       "      <td>76</td>\n",
       "    </tr>\n",
       "  </tbody>\n",
       "</table>\n",
       "</div>"
      ],
      "text/plain": [
       "                english  mathematics\n",
       "student number                      \n",
       "1                    42           65\n",
       "2                    69           80\n",
       "3                    56           63\n",
       "4                    41           63\n",
       "5                    57           76"
      ]
     },
     "execution_count": 2,
     "metadata": {},
     "output_type": "execute_result"
    }
   ],
   "source": [
    "df = pd.read_csv('python_stat_sample-master/data/ch2_scores_em.csv',index_col = 'student number')\n",
    "\n",
    "# df의 처음 5행을 표시\n",
    "df.head()"
   ]
  },
  {
   "cell_type": "code",
   "execution_count": 3,
   "id": "6143a99f-dbf2-4209-ad6c-124f9fd4fe97",
   "metadata": {},
   "outputs": [
    {
     "data": {
      "text/plain": [
       "array([42, 69, 56, 41, 57, 48, 65, 49, 65, 58], dtype=int64)"
      ]
     },
     "execution_count": 3,
     "metadata": {},
     "output_type": "execute_result"
    }
   ],
   "source": [
    "scores = np.array(df['english'])[:10]\n",
    "scores"
   ]
  },
  {
   "cell_type": "code",
   "execution_count": 8,
   "id": "7d16d3a9-5a7e-4e42-8cb7-391a08b7cb2d",
   "metadata": {},
   "outputs": [
    {
     "data": {
      "text/html": [
       "<div>\n",
       "<style scoped>\n",
       "    .dataframe tbody tr th:only-of-type {\n",
       "        vertical-align: middle;\n",
       "    }\n",
       "\n",
       "    .dataframe tbody tr th {\n",
       "        vertical-align: top;\n",
       "    }\n",
       "\n",
       "    .dataframe thead th {\n",
       "        text-align: right;\n",
       "    }\n",
       "</style>\n",
       "<table border=\"1\" class=\"dataframe\">\n",
       "  <thead>\n",
       "    <tr style=\"text-align: right;\">\n",
       "      <th></th>\n",
       "      <th>scores</th>\n",
       "    </tr>\n",
       "    <tr>\n",
       "      <th>student</th>\n",
       "      <th></th>\n",
       "    </tr>\n",
       "  </thead>\n",
       "  <tbody>\n",
       "    <tr>\n",
       "      <th>A</th>\n",
       "      <td>42</td>\n",
       "    </tr>\n",
       "    <tr>\n",
       "      <th>B</th>\n",
       "      <td>69</td>\n",
       "    </tr>\n",
       "    <tr>\n",
       "      <th>C</th>\n",
       "      <td>56</td>\n",
       "    </tr>\n",
       "    <tr>\n",
       "      <th>D</th>\n",
       "      <td>41</td>\n",
       "    </tr>\n",
       "    <tr>\n",
       "      <th>E</th>\n",
       "      <td>57</td>\n",
       "    </tr>\n",
       "    <tr>\n",
       "      <th>F</th>\n",
       "      <td>48</td>\n",
       "    </tr>\n",
       "    <tr>\n",
       "      <th>G</th>\n",
       "      <td>65</td>\n",
       "    </tr>\n",
       "    <tr>\n",
       "      <th>H</th>\n",
       "      <td>49</td>\n",
       "    </tr>\n",
       "    <tr>\n",
       "      <th>I</th>\n",
       "      <td>65</td>\n",
       "    </tr>\n",
       "    <tr>\n",
       "      <th>J</th>\n",
       "      <td>58</td>\n",
       "    </tr>\n",
       "  </tbody>\n",
       "</table>\n",
       "</div>"
      ],
      "text/plain": [
       "         scores\n",
       "student        \n",
       "A            42\n",
       "B            69\n",
       "C            56\n",
       "D            41\n",
       "E            57\n",
       "F            48\n",
       "G            65\n",
       "H            49\n",
       "I            65\n",
       "J            58"
      ]
     },
     "execution_count": 8,
     "metadata": {},
     "output_type": "execute_result"
    }
   ],
   "source": [
    "scores_df = pd.DataFrame({'scores':scores},index = pd.Index(['A','B','C','D','E','F','G','H','I','J'], name = 'student'))\n",
    "scores_df"
   ]
  },
  {
   "cell_type": "markdown",
   "id": "b93345b1-ec6d-4115-bd0f-ddef915168ba",
   "metadata": {},
   "source": [
    "## 중앙값\n",
    "데이터를 크기 순서대로 나열할 때 정확하게 중앙에 위치한 값\n",
    "\n",
    "- 중앙값은 평균값에 비해 이상값에 강하다(크게 튀는 값이 있으면 평균값은 대표값이 될 수 없음)\n",
    "- 데이터의 개수 n이 홀수라면 (n+1)/2번째 데이터가 중앙값\n",
    "- 데이터의 개수 n이 짝수라면 n/2번째와 n/2+1번째 데이터의 평균이 중앙값"
   ]
  },
  {
   "cell_type": "code",
   "execution_count": 9,
   "id": "4b647aa1-16ac-44e9-95c1-13ad16abf3c0",
   "metadata": {},
   "outputs": [
    {
     "data": {
      "text/plain": [
       "array([41, 42, 48, 49, 56, 57, 58, 65, 65, 69], dtype=int64)"
      ]
     },
     "execution_count": 9,
     "metadata": {},
     "output_type": "execute_result"
    }
   ],
   "source": [
    "# 순서대로 나열\n",
    "sorted_scores = np.sort(scores)\n",
    "sorted_scores"
   ]
  },
  {
   "cell_type": "code",
   "execution_count": 10,
   "id": "d57f0e45-58b0-46ea-b65f-f8a3de3124af",
   "metadata": {},
   "outputs": [
    {
     "data": {
      "text/plain": [
       "56.5"
      ]
     },
     "execution_count": 10,
     "metadata": {},
     "output_type": "execute_result"
    }
   ],
   "source": [
    "np.median(scores)"
   ]
  },
  {
   "cell_type": "code",
   "execution_count": 12,
   "id": "9e8b28ad-f5a9-4d52-bae3-689cd3fe7f32",
   "metadata": {},
   "outputs": [
    {
     "data": {
      "text/plain": [
       "scores    56.5\n",
       "dtype: float64"
      ]
     },
     "execution_count": 12,
     "metadata": {},
     "output_type": "execute_result"
    }
   ],
   "source": [
    "scores_df.median()"
   ]
  },
  {
   "cell_type": "markdown",
   "id": "b0137699-6d96-45d8-9710-c2199d9463d6",
   "metadata": {},
   "source": [
    "## 최빈값\n",
    "데이터에서 가장 많이 나타나는 값\n",
    "질적 데이터의 대푯값을 구할 때 사용되는 지표\n",
    "\n",
    "* 도수분포표를 도입하면 양적 데이터에서도 최빈값을 자연스럽게 정의할 수 있다"
   ]
  },
  {
   "cell_type": "code",
   "execution_count": 14,
   "id": "c1d445cb-140f-42f6-a7ff-9337aba1e584",
   "metadata": {},
   "outputs": [
    {
     "data": {
      "text/plain": [
       "0    1\n",
       "dtype: int64"
      ]
     },
     "execution_count": 14,
     "metadata": {},
     "output_type": "execute_result"
    }
   ],
   "source": [
    "pd.Series([1,1,1,2,2,3]).mode()"
   ]
  },
  {
   "cell_type": "markdown",
   "id": "b989baf8-d1fd-43d7-a8a6-bcdd5ce5cea2",
   "metadata": {},
   "source": [
    "# 데이터의 산포도 지표\n",
    "\n",
    "## 분산과 표준편차\n",
    "\n",
    "### 편차(Deviation)\n",
    "편차는 각 데이터가 평균으로 부터 얼마나 떨어져 있는가를 나타내는 지표이다"
   ]
  },
  {
   "cell_type": "code",
   "execution_count": 19,
   "id": "9da0170a-2c79-4e87-8cf6-87d870d17388",
   "metadata": {},
   "outputs": [
    {
     "data": {
      "text/plain": [
       "array([-13.,  14.,   1., -14.,   2.,  -7.,  10.,  -6.,  10.,   3.])"
      ]
     },
     "execution_count": 19,
     "metadata": {},
     "output_type": "execute_result"
    }
   ],
   "source": [
    "mean = np.mean(scores)\n",
    "deviation = scores - mean\n",
    "deviation"
   ]
  },
  {
   "cell_type": "code",
   "execution_count": null,
   "id": "a4a74d2c-0397-4270-9688-79facdda031c",
   "metadata": {},
   "outputs": [],
   "source": []
  },
  {
   "cell_type": "code",
   "execution_count": null,
   "id": "4fc2f76d-cceb-4f5d-ab00-11a2c0fab718",
   "metadata": {},
   "outputs": [],
   "source": []
  }
 ],
 "metadata": {
  "kernelspec": {
   "display_name": "Python Multi",
   "language": "python",
   "name": "multi"
  },
  "language_info": {
   "codemirror_mode": {
    "name": "ipython",
    "version": 3
   },
   "file_extension": ".py",
   "mimetype": "text/x-python",
   "name": "python",
   "nbconvert_exporter": "python",
   "pygments_lexer": "ipython3",
   "version": "3.7.6"
  }
 },
 "nbformat": 4,
 "nbformat_minor": 5
}
