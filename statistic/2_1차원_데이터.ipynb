{
 "cells": [
  {
   "cell_type": "code",
   "execution_count": 1,
   "id": "7c00745c-eaf4-4837-b66e-83045591f24b",
   "metadata": {},
   "outputs": [],
   "source": [
    "import numpy as np\n",
    "import pandas as pd\n",
    "\n",
    "# 출력을 소수점 이하 3자리로 제한\n",
    "%precision 3\n",
    "# DataFrame의 출력을 소수점 이하 3자리로 제한\n",
    "pd.set_option('precision',3)"
   ]
  },
  {
   "cell_type": "markdown",
   "id": "7cb76577-ce67-4449-9f55-90dce45cbd32",
   "metadata": {},
   "source": [
    "## 변수 초기화"
   ]
  },
  {
   "cell_type": "code",
   "execution_count": 2,
   "id": "aa6ef9da-65d9-4f48-96e4-dcce42ca0496",
   "metadata": {},
   "outputs": [
    {
     "data": {
      "text/html": [
       "<div>\n",
       "<style scoped>\n",
       "    .dataframe tbody tr th:only-of-type {\n",
       "        vertical-align: middle;\n",
       "    }\n",
       "\n",
       "    .dataframe tbody tr th {\n",
       "        vertical-align: top;\n",
       "    }\n",
       "\n",
       "    .dataframe thead th {\n",
       "        text-align: right;\n",
       "    }\n",
       "</style>\n",
       "<table border=\"1\" class=\"dataframe\">\n",
       "  <thead>\n",
       "    <tr style=\"text-align: right;\">\n",
       "      <th></th>\n",
       "      <th>english</th>\n",
       "      <th>mathematics</th>\n",
       "    </tr>\n",
       "    <tr>\n",
       "      <th>student number</th>\n",
       "      <th></th>\n",
       "      <th></th>\n",
       "    </tr>\n",
       "  </thead>\n",
       "  <tbody>\n",
       "    <tr>\n",
       "      <th>1</th>\n",
       "      <td>42</td>\n",
       "      <td>65</td>\n",
       "    </tr>\n",
       "    <tr>\n",
       "      <th>2</th>\n",
       "      <td>69</td>\n",
       "      <td>80</td>\n",
       "    </tr>\n",
       "    <tr>\n",
       "      <th>3</th>\n",
       "      <td>56</td>\n",
       "      <td>63</td>\n",
       "    </tr>\n",
       "    <tr>\n",
       "      <th>4</th>\n",
       "      <td>41</td>\n",
       "      <td>63</td>\n",
       "    </tr>\n",
       "    <tr>\n",
       "      <th>5</th>\n",
       "      <td>57</td>\n",
       "      <td>76</td>\n",
       "    </tr>\n",
       "  </tbody>\n",
       "</table>\n",
       "</div>"
      ],
      "text/plain": [
       "                english  mathematics\n",
       "student number                      \n",
       "1                    42           65\n",
       "2                    69           80\n",
       "3                    56           63\n",
       "4                    41           63\n",
       "5                    57           76"
      ]
     },
     "execution_count": 2,
     "metadata": {},
     "output_type": "execute_result"
    }
   ],
   "source": [
    "df = pd.read_csv('python_stat_sample-master/data/ch2_scores_em.csv',index_col = 'student number')\n",
    "\n",
    "# df의 처음 5행을 표시\n",
    "df.head()"
   ]
  },
  {
   "cell_type": "code",
   "execution_count": 3,
   "id": "6143a99f-dbf2-4209-ad6c-124f9fd4fe97",
   "metadata": {},
   "outputs": [
    {
     "data": {
      "text/plain": [
       "array([42, 69, 56, 41, 57, 48, 65, 49, 65, 58], dtype=int64)"
      ]
     },
     "execution_count": 3,
     "metadata": {},
     "output_type": "execute_result"
    }
   ],
   "source": [
    "scores = np.array(df['english'])[:10]\n",
    "scores"
   ]
  },
  {
   "cell_type": "code",
   "execution_count": 4,
   "id": "7d16d3a9-5a7e-4e42-8cb7-391a08b7cb2d",
   "metadata": {},
   "outputs": [
    {
     "data": {
      "text/html": [
       "<div>\n",
       "<style scoped>\n",
       "    .dataframe tbody tr th:only-of-type {\n",
       "        vertical-align: middle;\n",
       "    }\n",
       "\n",
       "    .dataframe tbody tr th {\n",
       "        vertical-align: top;\n",
       "    }\n",
       "\n",
       "    .dataframe thead th {\n",
       "        text-align: right;\n",
       "    }\n",
       "</style>\n",
       "<table border=\"1\" class=\"dataframe\">\n",
       "  <thead>\n",
       "    <tr style=\"text-align: right;\">\n",
       "      <th></th>\n",
       "      <th>scores</th>\n",
       "    </tr>\n",
       "    <tr>\n",
       "      <th>student</th>\n",
       "      <th></th>\n",
       "    </tr>\n",
       "  </thead>\n",
       "  <tbody>\n",
       "    <tr>\n",
       "      <th>A</th>\n",
       "      <td>42</td>\n",
       "    </tr>\n",
       "    <tr>\n",
       "      <th>B</th>\n",
       "      <td>69</td>\n",
       "    </tr>\n",
       "    <tr>\n",
       "      <th>C</th>\n",
       "      <td>56</td>\n",
       "    </tr>\n",
       "    <tr>\n",
       "      <th>D</th>\n",
       "      <td>41</td>\n",
       "    </tr>\n",
       "    <tr>\n",
       "      <th>E</th>\n",
       "      <td>57</td>\n",
       "    </tr>\n",
       "    <tr>\n",
       "      <th>F</th>\n",
       "      <td>48</td>\n",
       "    </tr>\n",
       "    <tr>\n",
       "      <th>G</th>\n",
       "      <td>65</td>\n",
       "    </tr>\n",
       "    <tr>\n",
       "      <th>H</th>\n",
       "      <td>49</td>\n",
       "    </tr>\n",
       "    <tr>\n",
       "      <th>I</th>\n",
       "      <td>65</td>\n",
       "    </tr>\n",
       "    <tr>\n",
       "      <th>J</th>\n",
       "      <td>58</td>\n",
       "    </tr>\n",
       "  </tbody>\n",
       "</table>\n",
       "</div>"
      ],
      "text/plain": [
       "         scores\n",
       "student        \n",
       "A            42\n",
       "B            69\n",
       "C            56\n",
       "D            41\n",
       "E            57\n",
       "F            48\n",
       "G            65\n",
       "H            49\n",
       "I            65\n",
       "J            58"
      ]
     },
     "execution_count": 4,
     "metadata": {},
     "output_type": "execute_result"
    }
   ],
   "source": [
    "scores_df = pd.DataFrame({'scores':scores},index = pd.Index(['A','B','C','D','E','F','G','H','I','J'], name = 'student'))\n",
    "scores_df"
   ]
  },
  {
   "cell_type": "markdown",
   "id": "b93345b1-ec6d-4115-bd0f-ddef915168ba",
   "metadata": {},
   "source": [
    "## 중앙값\n",
    "데이터를 크기 순서대로 나열할 때 정확하게 중앙에 위치한 값\n",
    "\n",
    "- 중앙값은 평균값에 비해 이상값에 강하다(크게 튀는 값이 있으면 평균값은 대표값이 될 수 없음)\n",
    "- 데이터의 개수 n이 홀수라면 (n+1)/2번째 데이터가 중앙값\n",
    "- 데이터의 개수 n이 짝수라면 n/2번째와 n/2+1번째 데이터의 평균이 중앙값"
   ]
  },
  {
   "cell_type": "code",
   "execution_count": 5,
   "id": "4b647aa1-16ac-44e9-95c1-13ad16abf3c0",
   "metadata": {},
   "outputs": [
    {
     "data": {
      "text/plain": [
       "array([41, 42, 48, 49, 56, 57, 58, 65, 65, 69], dtype=int64)"
      ]
     },
     "execution_count": 5,
     "metadata": {},
     "output_type": "execute_result"
    }
   ],
   "source": [
    "# 순서대로 나열\n",
    "sorted_scores = np.sort(scores)\n",
    "sorted_scores"
   ]
  },
  {
   "cell_type": "code",
   "execution_count": 6,
   "id": "d57f0e45-58b0-46ea-b65f-f8a3de3124af",
   "metadata": {},
   "outputs": [
    {
     "data": {
      "text/plain": [
       "56.5"
      ]
     },
     "execution_count": 6,
     "metadata": {},
     "output_type": "execute_result"
    }
   ],
   "source": [
    "np.median(scores)"
   ]
  },
  {
   "cell_type": "code",
   "execution_count": 7,
   "id": "9e8b28ad-f5a9-4d52-bae3-689cd3fe7f32",
   "metadata": {},
   "outputs": [
    {
     "data": {
      "text/plain": [
       "scores    56.5\n",
       "dtype: float64"
      ]
     },
     "execution_count": 7,
     "metadata": {},
     "output_type": "execute_result"
    }
   ],
   "source": [
    "scores_df.median()"
   ]
  },
  {
   "cell_type": "markdown",
   "id": "b0137699-6d96-45d8-9710-c2199d9463d6",
   "metadata": {},
   "source": [
    "## 최빈값\n",
    "데이터에서 가장 많이 나타나는 값\n",
    "질적 데이터의 대푯값을 구할 때 사용되는 지표\n",
    "\n",
    "* 도수분포표를 도입하면 양적 데이터에서도 최빈값을 자연스럽게 정의할 수 있다"
   ]
  },
  {
   "cell_type": "code",
   "execution_count": 8,
   "id": "c1d445cb-140f-42f6-a7ff-9337aba1e584",
   "metadata": {},
   "outputs": [
    {
     "data": {
      "text/plain": [
       "0    1\n",
       "dtype: int64"
      ]
     },
     "execution_count": 8,
     "metadata": {},
     "output_type": "execute_result"
    }
   ],
   "source": [
    "pd.Series([1,1,1,2,2,3]).mode()"
   ]
  },
  {
   "cell_type": "markdown",
   "id": "b989baf8-d1fd-43d7-a8a6-bcdd5ce5cea2",
   "metadata": {},
   "source": [
    "# 데이터의 산포도 지표\n",
    "\n",
    "## 분산과 표준편차\n",
    "\n",
    "### 편차(Deviation)\n",
    "편차는 각 데이터가 평균으로 부터 얼마나 떨어져 있는가를 나타내는 지표이다"
   ]
  },
  {
   "cell_type": "code",
   "execution_count": 9,
   "id": "9da0170a-2c79-4e87-8cf6-87d870d17388",
   "metadata": {},
   "outputs": [
    {
     "data": {
      "text/plain": [
       "array([-13.,  14.,   1., -14.,   2.,  -7.,  10.,  -6.,  10.,   3.])"
      ]
     },
     "execution_count": 9,
     "metadata": {},
     "output_type": "execute_result"
    }
   ],
   "source": [
    "mean = np.mean(scores)\n",
    "deviation = scores - mean\n",
    "deviation"
   ]
  },
  {
   "cell_type": "code",
   "execution_count": 10,
   "id": "a4a74d2c-0397-4270-9688-79facdda031c",
   "metadata": {},
   "outputs": [
    {
     "data": {
      "text/plain": [
       "array([-5.,  5.,  3., -1., -4.,  1.,  2., -2., -3.,  4.])"
      ]
     },
     "execution_count": 10,
     "metadata": {},
     "output_type": "execute_result"
    }
   ],
   "source": [
    "another_scores = [50,60,58,54,51,56,57,53,52,59]\n",
    "another_mean = np.mean(another_scores)\n",
    "another_deviation = another_scores-another_mean\n",
    "another_deviation"
   ]
  },
  {
   "cell_type": "markdown",
   "id": "fdabb0d5-b3a2-42ea-9efc-980ce1bb7b58",
   "metadata": {},
   "source": [
    "### 분산(variance)\n",
    "편차를 이용하는 것은 바람직한 생각이지만, 편차의 평군이 항상 0이 되므로 잘 사용하지 않음\n",
    "따라서 편차의 제곱의 평균을 사용함\n",
    "\n",
    "표본분산은 n으로 나누는 것이고 불편분산은 n-1로 나눈다\n",
    "\n",
    "모집단의 분산값은 불편분산과 같으므로 통계에서 대부분은 불편분산이다\n"
   ]
  },
  {
   "cell_type": "code",
   "execution_count": 11,
   "id": "9bf1e6d4-fe5d-44a5-8d98-902ae0bd65a2",
   "metadata": {},
   "outputs": [
    {
     "data": {
      "text/plain": [
       "86.0"
      ]
     },
     "execution_count": 11,
     "metadata": {},
     "output_type": "execute_result"
    }
   ],
   "source": [
    "np.mean(deviation ** 2)"
   ]
  },
  {
   "cell_type": "code",
   "execution_count": 12,
   "id": "14344cd5-9f5b-4d7f-b84e-23fe3276cf3a",
   "metadata": {},
   "outputs": [
    {
     "data": {
      "text/plain": [
       "86.0"
      ]
     },
     "execution_count": 12,
     "metadata": {},
     "output_type": "execute_result"
    }
   ],
   "source": [
    "# numpy는 표본분산\n",
    "np.var(scores)\n"
   ]
  },
  {
   "cell_type": "code",
   "execution_count": 13,
   "id": "ee163544-25ee-4700-bdd0-2e9212cf0b5e",
   "metadata": {},
   "outputs": [
    {
     "data": {
      "text/plain": [
       "scores    95.556\n",
       "dtype: float64"
      ]
     },
     "execution_count": 13,
     "metadata": {},
     "output_type": "execute_result"
    }
   ],
   "source": [
    "# pandas는 불편분산\n",
    "scores_df.var()"
   ]
  },
  {
   "cell_type": "code",
   "execution_count": 14,
   "id": "cfb6e63d-4705-417a-a05c-ff8eff7a8da5",
   "metadata": {},
   "outputs": [
    {
     "data": {
      "text/plain": [
       "scores    86.0\n",
       "dtype: float64"
      ]
     },
     "execution_count": 14,
     "metadata": {},
     "output_type": "execute_result"
    }
   ],
   "source": [
    "# ddof 파라미터를 0으로 바꾸면 표본분산을 계산할 수 있다\n",
    "scores_df.var(ddof=0)"
   ]
  },
  {
   "cell_type": "markdown",
   "id": "99c3e36c-6bed-4d13-a8bf-154a8e422c30",
   "metadata": {},
   "source": [
    "### 표준편차(standard deviation)\n",
    "분산은 평균이나 원 데이터와 같은 단위를 사용하지 않는다\n",
    "\n",
    "예를 들면 시험점수는 몇 점, 시험점수의 평균은 평균 몇 점처럼 표현을 하지만 분산은 (원 점수 - 평균점수)^2 이기 때문에 같은 단위를 사용할 수 없다\n",
    "\n",
    "원래의 데이터와 동일한 단위를 쓰는 산포도의 지표를 얻기 위해 분산에 제곱근을 취한 표준편차를 사용한다"
   ]
  },
  {
   "cell_type": "code",
   "execution_count": 15,
   "id": "bd4878f2-ebcf-4477-8f4f-6fd2913875db",
   "metadata": {},
   "outputs": [
    {
     "data": {
      "text/plain": [
       "9.273618495495704"
      ]
     },
     "execution_count": 15,
     "metadata": {},
     "output_type": "execute_result"
    }
   ],
   "source": [
    "np.sqrt(np.var(scores,ddof=0))"
   ]
  },
  {
   "cell_type": "code",
   "execution_count": 16,
   "id": "4192f324-87f1-48f8-833c-1786b42089bc",
   "metadata": {},
   "outputs": [
    {
     "data": {
      "text/plain": [
       "9.273618495495704"
      ]
     },
     "execution_count": 16,
     "metadata": {},
     "output_type": "execute_result"
    }
   ],
   "source": [
    "np.std(scores,ddof=0)"
   ]
  },
  {
   "cell_type": "markdown",
   "id": "752c608d-2350-48e9-8209-43b8d2d1d37d",
   "metadata": {},
   "source": [
    "표준편차는 1 시그마라는 단위가 되어 평균에 더하거나 뺌으로서 시그마 구간을 만든다\n",
    "- 평균 +- 1시그마 == 1시그마 구간\n",
    "- 평균 +- 2시그마 == 2시그마 구간\n",
    "- 평균 +- 3시그마 == 3시그마 구간\n"
   ]
  },
  {
   "cell_type": "markdown",
   "id": "67c2e91e-36db-4363-bbb4-6a641f0762dc",
   "metadata": {},
   "source": [
    "## 범위와 사분위 범위\n",
    "\n",
    "### 사분위 범위(Interquartile range)\n",
    "범위는 최대값과 최소값만 보기 때문에 큰 이상값이 하나라도 있으면 범위도 크게 변화한다.\n",
    "\n",
    "따라서 데이터의 상위소%에 위치하는 값과 하위수%에 위치하는 값의 차이를 취하는 방법을 사용한다\n",
    "\n",
    "- Q1 == 25%\n",
    "- Q2 == 50%\n",
    "- Q3 == 75%\n",
    "- IQR == Q3 - Q1"
   ]
  },
  {
   "cell_type": "code",
   "execution_count": 17,
   "id": "b9b3e2a9-f156-4b4b-a6f0-d5eee90d0af6",
   "metadata": {},
   "outputs": [
    {
     "data": {
      "text/plain": [
       "15.0"
      ]
     },
     "execution_count": 17,
     "metadata": {},
     "output_type": "execute_result"
    }
   ],
   "source": [
    "scores_Q1 = np.percentile(scores,25)\n",
    "scores_Q3 = np.percentile(scores,75)\n",
    "scores_IQR = scores_Q3 - scores_Q1\n",
    "scores_IQR"
   ]
  },
  {
   "cell_type": "markdown",
   "id": "24b7b8bd-fc11-4cf0-8fbd-a5efa49c69f8",
   "metadata": {},
   "source": [
    "## 데이터의 지표 정리"
   ]
  },
  {
   "cell_type": "code",
   "execution_count": 18,
   "id": "1f422f60-34f0-4138-8792-ed4ef3b18782",
   "metadata": {},
   "outputs": [
    {
     "data": {
      "text/plain": [
       "count    10.000\n",
       "mean     55.000\n",
       "std       9.775\n",
       "min      41.000\n",
       "25%      48.250\n",
       "50%      56.500\n",
       "75%      63.250\n",
       "max      69.000\n",
       "dtype: float64"
      ]
     },
     "execution_count": 18,
     "metadata": {},
     "output_type": "execute_result"
    }
   ],
   "source": [
    "pd.Series(scores).describe()"
   ]
  },
  {
   "cell_type": "markdown",
   "id": "8fc24cb9-b9bf-423c-8d91-d6bc7cd88342",
   "metadata": {},
   "source": [
    "## 데이터의 정규화\n",
    "\n",
    "### 표준화\n",
    "데이터에서 평균을 빼고 표준편차로 나누는 작업을 표준화(standardization)라고 하며 ,\n",
    "\n",
    "표준화된 데이터를 **표준화 변량(standardized data)** 이나 **Z점수(z-score)** 라고 한다\n",
    "\n",
    "**표준화된 데이터는 평균이 0, 표준편차가 1이다**\n",
    "\n",
    "$z_i=\\frac{x_{i}-\\overline{x}}{S}$"
   ]
  },
  {
   "cell_type": "code",
   "execution_count": 19,
   "id": "f9ed16d1-f8da-490a-8867-69cb24517caa",
   "metadata": {},
   "outputs": [
    {
     "data": {
      "text/plain": [
       "array([-1.402,  1.51 ,  0.108, -1.51 ,  0.216, -0.755,  1.078, -0.647,\n",
       "        1.078,  0.323])"
      ]
     },
     "execution_count": 19,
     "metadata": {},
     "output_type": "execute_result"
    }
   ],
   "source": [
    "z = (scores - np.mean(scores))/np.std(scores)\n",
    "z"
   ]
  },
  {
   "cell_type": "code",
   "execution_count": 21,
   "id": "9b143c7a-4a45-42a9-b10d-3ac31853b349",
   "metadata": {},
   "outputs": [
    {
     "data": {
      "text/plain": [
       "(-0.0, 1.0)"
      ]
     },
     "execution_count": 21,
     "metadata": {},
     "output_type": "execute_result"
    }
   ],
   "source": [
    "# \n",
    "np.mean(z).round(2),np.std(z).round(2)"
   ]
  },
  {
   "cell_type": "markdown",
   "id": "779852da-2a44-4c5c-9f9d-b0a413676171",
   "metadata": {},
   "source": [
    "### 편찻값\n",
    "평균이 50, 표준편차가 10이 되도록 정규화한 값을 말한다\n",
    "\n",
    "$z_{i} = 50 + 10*\\frac{x_{i}-\\overline{x}}{S}$"
   ]
  },
  {
   "cell_type": "code",
   "execution_count": 23,
   "id": "203a5dc2-b13c-4c1a-acda-e35868e93a9e",
   "metadata": {},
   "outputs": [
    {
     "data": {
      "text/plain": [
       "array([35.982, 65.097, 51.078, 34.903, 52.157, 42.452, 60.783, 43.53 ,\n",
       "       60.783, 53.235])"
      ]
     },
     "execution_count": 23,
     "metadata": {},
     "output_type": "execute_result"
    }
   ],
   "source": [
    "z = 50 + 10*(scores - np.mean(scores))/np.std(scores)\n",
    "z"
   ]
  },
  {
   "cell_type": "code",
   "execution_count": 24,
   "id": "8c4177c0-a209-458a-acf2-adef519bd74e",
   "metadata": {},
   "outputs": [
    {
     "data": {
      "text/html": [
       "<div>\n",
       "<style scoped>\n",
       "    .dataframe tbody tr th:only-of-type {\n",
       "        vertical-align: middle;\n",
       "    }\n",
       "\n",
       "    .dataframe tbody tr th {\n",
       "        vertical-align: top;\n",
       "    }\n",
       "\n",
       "    .dataframe thead th {\n",
       "        text-align: right;\n",
       "    }\n",
       "</style>\n",
       "<table border=\"1\" class=\"dataframe\">\n",
       "  <thead>\n",
       "    <tr style=\"text-align: right;\">\n",
       "      <th></th>\n",
       "      <th>scores</th>\n",
       "      <th>deviation value</th>\n",
       "    </tr>\n",
       "    <tr>\n",
       "      <th>student</th>\n",
       "      <th></th>\n",
       "      <th></th>\n",
       "    </tr>\n",
       "  </thead>\n",
       "  <tbody>\n",
       "    <tr>\n",
       "      <th>A</th>\n",
       "      <td>42</td>\n",
       "      <td>35.982</td>\n",
       "    </tr>\n",
       "    <tr>\n",
       "      <th>B</th>\n",
       "      <td>69</td>\n",
       "      <td>65.097</td>\n",
       "    </tr>\n",
       "    <tr>\n",
       "      <th>C</th>\n",
       "      <td>56</td>\n",
       "      <td>51.078</td>\n",
       "    </tr>\n",
       "    <tr>\n",
       "      <th>D</th>\n",
       "      <td>41</td>\n",
       "      <td>34.903</td>\n",
       "    </tr>\n",
       "    <tr>\n",
       "      <th>E</th>\n",
       "      <td>57</td>\n",
       "      <td>52.157</td>\n",
       "    </tr>\n",
       "    <tr>\n",
       "      <th>F</th>\n",
       "      <td>48</td>\n",
       "      <td>42.452</td>\n",
       "    </tr>\n",
       "    <tr>\n",
       "      <th>G</th>\n",
       "      <td>65</td>\n",
       "      <td>60.783</td>\n",
       "    </tr>\n",
       "    <tr>\n",
       "      <th>H</th>\n",
       "      <td>49</td>\n",
       "      <td>43.530</td>\n",
       "    </tr>\n",
       "    <tr>\n",
       "      <th>I</th>\n",
       "      <td>65</td>\n",
       "      <td>60.783</td>\n",
       "    </tr>\n",
       "    <tr>\n",
       "      <th>J</th>\n",
       "      <td>58</td>\n",
       "      <td>53.235</td>\n",
       "    </tr>\n",
       "  </tbody>\n",
       "</table>\n",
       "</div>"
      ],
      "text/plain": [
       "         scores  deviation value\n",
       "student                         \n",
       "A            42           35.982\n",
       "B            69           65.097\n",
       "C            56           51.078\n",
       "D            41           34.903\n",
       "E            57           52.157\n",
       "F            48           42.452\n",
       "G            65           60.783\n",
       "H            49           43.530\n",
       "I            65           60.783\n",
       "J            58           53.235"
      ]
     },
     "execution_count": 24,
     "metadata": {},
     "output_type": "execute_result"
    }
   ],
   "source": [
    "scores_df['deviation value'] = z\n",
    "scores_df"
   ]
  },
  {
   "cell_type": "markdown",
   "id": "a8d0027e-c4eb-434f-96ba-8842ec9605b3",
   "metadata": {},
   "source": [
    "## 1차원 데이터의 시각화"
   ]
  },
  {
   "cell_type": "code",
   "execution_count": 25,
   "id": "f6824a5a-9a6b-4fd7-8868-6abdcdf87bd4",
   "metadata": {},
   "outputs": [
    {
     "data": {
      "text/plain": [
       "count    50.00\n",
       "mean     58.38\n",
       "std       9.80\n",
       "min      37.00\n",
       "25%      54.00\n",
       "50%      57.50\n",
       "75%      65.00\n",
       "max      79.00\n",
       "dtype: float64"
      ]
     },
     "execution_count": 25,
     "metadata": {},
     "output_type": "execute_result"
    }
   ],
   "source": [
    "english_scores = np.array(df['english'])\n",
    "\n",
    "pd.Series(english_scores).describe()"
   ]
  },
  {
   "cell_type": "markdown",
   "id": "4fbfcdac-8318-4a33-8250-0d750dee41d8",
   "metadata": {},
   "source": [
    "### 도수분포표\n",
    "데이터가 취하는 값을 몇 개의 구간으로 나누고, 각 구간에 몇 개의 데이터가 들어가는가를 세서 표로 정리한 것이 **도수분포표(frequency distribution)** 이다\n",
    "\n",
    "0~100점의 시험점수를 10점씩 10개의 구간으로 나눈다고 하자\n",
    "\n",
    "계급(Class) : (예, 0 ~ 10점, 11 ~ 20점) 계급폭으로 나뉜 구간\n",
    "\n",
    "도수(frequency) : 각 계급에 속한 학생 수\n",
    "계급폭 : 10점\n",
    "계급수 : 10개"
   ]
  },
  {
   "cell_type": "code",
   "execution_count": 26,
   "id": "d64e037d-4784-4b39-a1eb-e91eb4f8abeb",
   "metadata": {},
   "outputs": [
    {
     "data": {
      "text/plain": [
       "array([ 0,  0,  0,  2,  8, 16, 18,  6,  0,  0], dtype=int64)"
      ]
     },
     "execution_count": 26,
     "metadata": {},
     "output_type": "execute_result"
    }
   ],
   "source": [
    "#도수분포표\n",
    "freq,_ = np.histogram(english_scores,bins=10,range=(0,100))\n",
    "freq"
   ]
  },
  {
   "cell_type": "code",
   "execution_count": 28,
   "id": "a77147e8-1d4a-4240-b407-5c6279ca81ef",
   "metadata": {},
   "outputs": [
    {
     "data": {
      "text/html": [
       "<div>\n",
       "<style scoped>\n",
       "    .dataframe tbody tr th:only-of-type {\n",
       "        vertical-align: middle;\n",
       "    }\n",
       "\n",
       "    .dataframe tbody tr th {\n",
       "        vertical-align: top;\n",
       "    }\n",
       "\n",
       "    .dataframe thead th {\n",
       "        text-align: right;\n",
       "    }\n",
       "</style>\n",
       "<table border=\"1\" class=\"dataframe\">\n",
       "  <thead>\n",
       "    <tr style=\"text-align: right;\">\n",
       "      <th></th>\n",
       "      <th>frequency</th>\n",
       "    </tr>\n",
       "    <tr>\n",
       "      <th>class</th>\n",
       "      <th></th>\n",
       "    </tr>\n",
       "  </thead>\n",
       "  <tbody>\n",
       "    <tr>\n",
       "      <th>0~10</th>\n",
       "      <td>0</td>\n",
       "    </tr>\n",
       "    <tr>\n",
       "      <th>10~20</th>\n",
       "      <td>0</td>\n",
       "    </tr>\n",
       "    <tr>\n",
       "      <th>20~30</th>\n",
       "      <td>0</td>\n",
       "    </tr>\n",
       "    <tr>\n",
       "      <th>30~40</th>\n",
       "      <td>2</td>\n",
       "    </tr>\n",
       "    <tr>\n",
       "      <th>40~50</th>\n",
       "      <td>8</td>\n",
       "    </tr>\n",
       "    <tr>\n",
       "      <th>50~60</th>\n",
       "      <td>16</td>\n",
       "    </tr>\n",
       "    <tr>\n",
       "      <th>60~70</th>\n",
       "      <td>18</td>\n",
       "    </tr>\n",
       "    <tr>\n",
       "      <th>70~80</th>\n",
       "      <td>6</td>\n",
       "    </tr>\n",
       "    <tr>\n",
       "      <th>80~90</th>\n",
       "      <td>0</td>\n",
       "    </tr>\n",
       "    <tr>\n",
       "      <th>90~100</th>\n",
       "      <td>0</td>\n",
       "    </tr>\n",
       "  </tbody>\n",
       "</table>\n",
       "</div>"
      ],
      "text/plain": [
       "        frequency\n",
       "class            \n",
       "0~10            0\n",
       "10~20           0\n",
       "20~30           0\n",
       "30~40           2\n",
       "40~50           8\n",
       "50~60          16\n",
       "60~70          18\n",
       "70~80           6\n",
       "80~90           0\n",
       "90~100          0"
      ]
     },
     "execution_count": 28,
     "metadata": {},
     "output_type": "execute_result"
    }
   ],
   "source": [
    "# DataFrame으로 결과를 정리\n",
    "# 0~10,10~20,... 이라는 문자열 리스트를 작성\n",
    "freq_class = [f'{i}~{i+10}' for i in range(0,100,10)]\n",
    "\n",
    "#freq_class를 인덱스로 DataFrame을 작성\n",
    "freq_dist_df = pd.DataFrame({'frequency':freq},index=pd.Index(freq_class,name='class'))\n",
    "freq_dist_df"
   ]
  },
  {
   "cell_type": "markdown",
   "id": "c748afb7-841f-49b0-bee9-bab7d6c2a7b9",
   "metadata": {},
   "source": [
    "50 ~ 70점 사이에 몰려있다는 것을 알 수 있다"
   ]
  },
  {
   "cell_type": "markdown",
   "id": "61d3ebd4-8786-463e-b7db-cc340cf21d5c",
   "metadata": {},
   "source": [
    "**계급값** 은 각 계급을 대표하는 값으로, 계급의 중앙값이 이용된다.\n",
    "60~70의 계급이면 계급값은 65점"
   ]
  },
  {
   "cell_type": "code",
   "execution_count": 29,
   "id": "f4a345ab-0c63-4e30-ad3d-e2b4c96d8eca",
   "metadata": {},
   "outputs": [
    {
     "data": {
      "text/plain": [
       "[5, 15, 25, 35, 45, 55, 65, 75, 85, 95]"
      ]
     },
     "execution_count": 29,
     "metadata": {},
     "output_type": "execute_result"
    }
   ],
   "source": [
    "class_value = [(i+(i+10))//2 for i in range(0,100,10)]\n",
    "class_value"
   ]
  },
  {
   "cell_type": "markdown",
   "id": "a3b4f992-1872-4786-854e-b88032c7d3f2",
   "metadata": {},
   "source": [
    "**상대도수** 는 전체 데이터에 대해서 해당 계급의 데이터가 어느 정도의 비율을 차지하고 있는지를 나타낸다"
   ]
  },
  {
   "cell_type": "code",
   "execution_count": 30,
   "id": "46077a80-af01-4bf3-8d3b-f3a2c5147b8a",
   "metadata": {},
   "outputs": [
    {
     "data": {
      "text/plain": [
       "array([0.  , 0.  , 0.  , 0.04, 0.16, 0.32, 0.36, 0.12, 0.  , 0.  ])"
      ]
     },
     "execution_count": 30,
     "metadata": {},
     "output_type": "execute_result"
    }
   ],
   "source": [
    "rel_freq = freq / freq.sum()\n",
    "rel_freq"
   ]
  },
  {
   "cell_type": "markdown",
   "id": "e3002761-aebd-4923-8f74-bb59b0b03424",
   "metadata": {},
   "source": [
    "**누적상대도수** 는 해당 계급까지의 상대도수의 합을 나타낸다."
   ]
  },
  {
   "cell_type": "code",
   "execution_count": 32,
   "id": "d7f7c8c3-aa22-4429-9574-1ee6ca2314f2",
   "metadata": {},
   "outputs": [
    {
     "data": {
      "text/plain": [
       "array([0.  , 0.  , 0.  , 0.04, 0.2 , 0.52, 0.88, 1.  , 1.  , 1.  ])"
      ]
     },
     "execution_count": 32,
     "metadata": {},
     "output_type": "execute_result"
    }
   ],
   "source": [
    "cum_rel_freq = np.cumsum(rel_freq)\n",
    "cum_rel_freq"
   ]
  },
  {
   "cell_type": "markdown",
   "id": "20d4fbb3-7f5d-44bb-94a9-1dd15bd5439f",
   "metadata": {},
   "source": [
    "계급값과 상대도수와 누적상대도수를 도수분포표에 추가해보자"
   ]
  },
  {
   "cell_type": "code",
   "execution_count": 38,
   "id": "ab4d3d83-b10b-4dbb-ae48-c1fd30c0d7fc",
   "metadata": {},
   "outputs": [
    {
     "data": {
      "text/html": [
       "<div>\n",
       "<style scoped>\n",
       "    .dataframe tbody tr th:only-of-type {\n",
       "        vertical-align: middle;\n",
       "    }\n",
       "\n",
       "    .dataframe tbody tr th {\n",
       "        vertical-align: top;\n",
       "    }\n",
       "\n",
       "    .dataframe thead th {\n",
       "        text-align: right;\n",
       "    }\n",
       "</style>\n",
       "<table border=\"1\" class=\"dataframe\">\n",
       "  <thead>\n",
       "    <tr style=\"text-align: right;\">\n",
       "      <th></th>\n",
       "      <th>class value</th>\n",
       "      <th>frequency</th>\n",
       "      <th>relative frequency</th>\n",
       "      <th>cumulative relative frequency</th>\n",
       "    </tr>\n",
       "    <tr>\n",
       "      <th>class</th>\n",
       "      <th></th>\n",
       "      <th></th>\n",
       "      <th></th>\n",
       "      <th></th>\n",
       "    </tr>\n",
       "  </thead>\n",
       "  <tbody>\n",
       "    <tr>\n",
       "      <th>0~10</th>\n",
       "      <td>5</td>\n",
       "      <td>0</td>\n",
       "      <td>0.00</td>\n",
       "      <td>0.00</td>\n",
       "    </tr>\n",
       "    <tr>\n",
       "      <th>10~20</th>\n",
       "      <td>15</td>\n",
       "      <td>0</td>\n",
       "      <td>0.00</td>\n",
       "      <td>0.00</td>\n",
       "    </tr>\n",
       "    <tr>\n",
       "      <th>20~30</th>\n",
       "      <td>25</td>\n",
       "      <td>0</td>\n",
       "      <td>0.00</td>\n",
       "      <td>0.00</td>\n",
       "    </tr>\n",
       "    <tr>\n",
       "      <th>30~40</th>\n",
       "      <td>35</td>\n",
       "      <td>2</td>\n",
       "      <td>0.04</td>\n",
       "      <td>0.04</td>\n",
       "    </tr>\n",
       "    <tr>\n",
       "      <th>40~50</th>\n",
       "      <td>45</td>\n",
       "      <td>8</td>\n",
       "      <td>0.16</td>\n",
       "      <td>0.20</td>\n",
       "    </tr>\n",
       "    <tr>\n",
       "      <th>50~60</th>\n",
       "      <td>55</td>\n",
       "      <td>16</td>\n",
       "      <td>0.32</td>\n",
       "      <td>0.52</td>\n",
       "    </tr>\n",
       "    <tr>\n",
       "      <th>60~70</th>\n",
       "      <td>65</td>\n",
       "      <td>18</td>\n",
       "      <td>0.36</td>\n",
       "      <td>0.88</td>\n",
       "    </tr>\n",
       "    <tr>\n",
       "      <th>70~80</th>\n",
       "      <td>75</td>\n",
       "      <td>6</td>\n",
       "      <td>0.12</td>\n",
       "      <td>1.00</td>\n",
       "    </tr>\n",
       "    <tr>\n",
       "      <th>80~90</th>\n",
       "      <td>85</td>\n",
       "      <td>0</td>\n",
       "      <td>0.00</td>\n",
       "      <td>1.00</td>\n",
       "    </tr>\n",
       "    <tr>\n",
       "      <th>90~100</th>\n",
       "      <td>95</td>\n",
       "      <td>0</td>\n",
       "      <td>0.00</td>\n",
       "      <td>1.00</td>\n",
       "    </tr>\n",
       "  </tbody>\n",
       "</table>\n",
       "</div>"
      ],
      "text/plain": [
       "        class value  frequency  relative frequency  \\\n",
       "class                                                \n",
       "0~10              5          0                0.00   \n",
       "10~20            15          0                0.00   \n",
       "20~30            25          0                0.00   \n",
       "30~40            35          2                0.04   \n",
       "40~50            45          8                0.16   \n",
       "50~60            55         16                0.32   \n",
       "60~70            65         18                0.36   \n",
       "70~80            75          6                0.12   \n",
       "80~90            85          0                0.00   \n",
       "90~100           95          0                0.00   \n",
       "\n",
       "        cumulative relative frequency  \n",
       "class                                  \n",
       "0~10                             0.00  \n",
       "10~20                            0.00  \n",
       "20~30                            0.00  \n",
       "30~40                            0.04  \n",
       "40~50                            0.20  \n",
       "50~60                            0.52  \n",
       "60~70                            0.88  \n",
       "70~80                            1.00  \n",
       "80~90                            1.00  \n",
       "90~100                           1.00  "
      ]
     },
     "execution_count": 38,
     "metadata": {},
     "output_type": "execute_result"
    }
   ],
   "source": [
    "freq_dist_df['class value'] = class_value\n",
    "freq_dist_df['relative frequency'] = rel_freq\n",
    "freq_dist_df['cumulative relative frequency'] = cum_rel_freq\n",
    "freq_dist_df = freq_dist_df[['class value','frequency','relative frequency','cumulative relative frequency']]\n",
    "\n",
    "freq_dist_df"
   ]
  },
  {
   "cell_type": "markdown",
   "id": "2cf1e207-691c-4c7d-8b61-45f6aa6af0bd",
   "metadata": {},
   "source": [
    "#### 최빈값 재검토\n",
    "**도수분포표를 사용한 최빈값은 최대가 되는 계급의 계급값으로 정의된다**\n",
    "\n",
    "도수분포표를 통해 60~70인 계급의 도수가 최대이므로 이 데이터의 최댓값은 65점이다"
   ]
  },
  {
   "cell_type": "code",
   "execution_count": 46,
   "id": "b46ad3b9-4bd9-4fac-a614-48392df99ce6",
   "metadata": {},
   "outputs": [
    {
     "data": {
      "text/plain": [
       "65"
      ]
     },
     "execution_count": 46,
     "metadata": {},
     "output_type": "execute_result"
    }
   ],
   "source": [
    "freq_dist_df.loc[freq_dist_df['frequency'].idxmax(),'class value']"
   ]
  },
  {
   "cell_type": "markdown",
   "id": "849696ef-95dd-4a32-b2fb-80090fad983c",
   "metadata": {},
   "source": [
    "최빈값으 도수분포표를 만드는 방법에 의존한다\n",
    "\n",
    "예를들어 계급폭을 4점으로 하여 도수분포표를 계산하면 최빈값은 66점이 나온다"
   ]
  },
  {
   "cell_type": "markdown",
   "id": "e81fcd89-4c3e-45b7-978a-9b23acf45617",
   "metadata": {},
   "source": [
    "## 히스토그램\n",
    "**도수분포표를 막대그래프로 나타낸 것**"
   ]
  },
  {
   "cell_type": "code",
   "execution_count": 47,
   "id": "6c93dac9-1bab-4c3e-bf24-fb4ac8a785e6",
   "metadata": {},
   "outputs": [],
   "source": [
    "import matplotlib.pyplot as plt\n",
    "\n",
    "%matplotlib inline"
   ]
  },
  {
   "cell_type": "markdown",
   "id": "2aa2a89e-3f3e-42e9-be92-2c7d53334892",
   "metadata": {},
   "source": [
    "히스토그램은 hist 메서드로 그린다"
   ]
  },
  {
   "cell_type": "code",
   "execution_count": 50,
   "id": "9dc8cd14-6f7f-495d-b4d7-6d0f825f15b1",
   "metadata": {},
   "outputs": [
    {
     "name": "stdout",
     "output_type": "stream",
     "text": [
      "[ 0.  0.  0.  2.  8. 16. 18.  6.  0.  0.] [  0.  10.  20.  30.  40.  50.  60.  70.  80.  90. 100.] Rectangle(xy=(50, 0), width=10, height=16, angle=0)\n"
     ]
    },
    {
     "data": {
      "image/png": "[encoded data removed]",
      "text/plain": [
       "<Figure size 720x432 with 1 Axes>"
      ]
     },
     "metadata": {
      "needs_background": "light"
     },
     "output_type": "display_data"
    }
   ],
   "source": [
    "# 캔버스를 생성\n",
    "# figsize(가로,세로) 2차원 평면의 크기 설정\n",
    "fig = plt.figure(figsize=(10,6))\n",
    "# 캔버스 위에 그래프를 그리기 위한 영역을 지정\n",
    "#인수는 영역을 1*1개 지정, 하나의 영역에 그린다는 것을 의미\n",
    "ax = fig.add_subplot(111)\n",
    "\n",
    "# 계급수를 10으로 하여 히스토그램을 그림\n",
    "# freq : 구간별 도수 정보\n",
    "# bins : 계급 리스트\n",
    "# patches : 그래프의 모양(type : BarContainer)\n",
    "freq,bins,patches = ax.hist(english_scores, bins=10, range=(0,100))\n",
    "print(freq,bins,patches[5])\n",
    "# X축에 레이블 부여\n",
    "ax.set_xlabel('score')\n",
    "# Y축에 레이블 부여\n",
    "ax.set_ylabel('person number')\n",
    "# X축을 0,10,20,...,100 눈금으로 구분\n",
    "ax.set_xticks(np.linspace(0,100,10+1))\n",
    "# Y축을 0,1,2...의 눈금으로 구분\n",
    "ax.set_yticks(np.arange(0,freq.max()+1))\n",
    "# 그래프 표시\n",
    "plt.show()"
   ]
  },
  {
   "cell_type": "markdown",
   "id": "8cf13abb-7164-4bd5-8956-6aa0e33fdf12",
   "metadata": {},
   "source": [
    "계급수를 늘리면 더 세부적인 데이터의 분포를 볼 수 있다"
   ]
  },
  {
   "cell_type": "code",
   "execution_count": 55,
   "id": "4eb770a7-dfe1-4704-8be1-fd0e2ca5d361",
   "metadata": {},
   "outputs": [
    {
     "data": {
      "image/png": "[encoded data removed]",
      "text/plain": [
       "<Figure size 720x432 with 1 Axes>"
      ]
     },
     "metadata": {
      "needs_background": "light"
     },
     "output_type": "display_data"
    }
   ],
   "source": [
    "fig = plt.figure(figsize=(10,6))\n",
    "ax = fig.add_subplot(111)\n",
    "freq,_,_ = ax.hist(english_scores,bins=25,range=(0,100))\n",
    "ax.set_xlabel('score')\n",
    "ax.set_ylabel('person number')\n",
    "ax.set_xticks(np.linspace(0,100,25+1))\n",
    "ax.set_yticks(np.arange(0,freq.max()+1))\n",
    "plt.show()"
   ]
  },
  {
   "cell_type": "markdown",
   "id": "64445a07-0305-411e-abc7-41759947a1be",
   "metadata": {},
   "source": [
    "상대도수의 히스토그램을 누적상대도수의 꺾은선 그래프와 함께 그립니다"
   ]
  },
  {
   "cell_type": "code",
   "execution_count": 71,
   "id": "70aa754a-56d6-4a67-b64d-d235773aa81a",
   "metadata": {},
   "outputs": [
    {
     "data": {
      "image/png": "[encoded data removed]",
      "text/plain": [
       "<Figure size 720x432 with 2 Axes>"
      ]
     },
     "metadata": {
      "needs_background": "light"
     },
     "output_type": "display_data"
    }
   ],
   "source": [
    "fig = plt.figure(figsize=(10,6))\n",
    "ax1 = fig.add_subplot(111)\n",
    "# Y축의 스케일이 다른 그래프를 ax1과 동일한 영역에 생성\n",
    "# X축만 공유하고 Y축은 공유하지 않음\n",
    "ax2=ax1.twinx()\n",
    "\n",
    "#상대도수의 히스토그램으로 하기 위해서는, 각각의 도수를 데이터의 수로 나눌 필요가 있음\n",
    "# 이것은 hist의 인수 weight를 지정하면 실현 가능\n",
    "# np.ones_like(x) : x와 같은 길이의 ndarray를 만들되, 모든 원소의 값은 1\n",
    "# weights : 1/n로 구성된 ndarray\n",
    "# weights를 hist메서드의 weights값으로 넣음으로서 도수값이 (각각의 도수*각각의 가중치)의 값들로 모두 치환됨\n",
    "weights = np.ones_like(english_scores) / len(english_scores)\n",
    "rel_freq,_,_ = ax1.hist(english_scores,bins=25,range=(0,100),weights=weights)\n",
    "\n",
    "cum_rel_freq = np.cumsum(rel_freq)\n",
    "class_value = [(i+(i+4))//2 for i in range(0,100,4)]\n",
    "# 꺾은선 그래프를 그림\n",
    "# 인수 ls를 '--'fh gkaus wjatjsdl rmfuwla\n",
    "# 인수 marker를 'o'으로 하면 데이터 점을 그림\n",
    "# 인수 color를 'gray'로 하면 회색으로 지정\n",
    "ax2.plot(class_value, cum_rel_freq, ls='--', marker='o', color='gray')\n",
    "# 꺾은선 그래프의 눈금선을 제거\n",
    "ax2.grid(visible=False)\n",
    "\n",
    "ax1.set_xlabel('score')\n",
    "ax1.set_ylabel('relative frequency')\n",
    "ax2.set_ylabel('cumulative relattive frequency')\n",
    "ax1.set_xticks(np.linspace(0,100,25+1))\n",
    "\n",
    "plt.show()"
   ]
  },
  {
   "cell_type": "markdown",
   "id": "78068e89-aee9-4674-9155-403c28cf5e48",
   "metadata": {},
   "source": [
    "## 상자그림(Box Plot)\n",
    "**상자그림은 데이터의 산포도를 표현하는 그림이다.**\n",
    "\n",
    "**상자그림을 그리면 데이터의 분포와 이상값을 시각적으로 파악할 수 있다**\n",
    "\n",
    "- 상자는 Q1부터 Q3을 나타내고, 따라서 상자의 범위는 IQR를 의미한다\n",
    "\n",
    "- 수염은 Q1-1.5IQR부터 Q3+1.5IQR을 나타낸다.\n",
    "\n",
    "- 여기에 들어가지 않은 데이터는 이상값이 된다\n",
    "\n",
    "- 중앙의 선은 중앙값을 의미한다"
   ]
  },
  {
   "cell_type": "code",
   "execution_count": 70,
   "id": "57aa8f29-ffcc-4f37-a4e8-75feaeed0b4c",
   "metadata": {},
   "outputs": [
    {
     "data": {
      "image/png": "[encoded data removed]",
      "text/plain": [
       "<Figure size 360x432 with 1 Axes>"
      ]
     },
     "metadata": {
      "needs_background": "light"
     },
     "output_type": "display_data"
    }
   ],
   "source": [
    "fig = plt.figure(figsize=(5,6))\n",
    "ax = fig.add_subplot(111)\n",
    "ax.boxplot(english_scores, labels=['english'])\n",
    "\n",
    "plt.show()"
   ]
  },
  {
   "cell_type": "code",
   "execution_count": null,
   "id": "aca9eb17-96f7-49ca-9a30-3c76be2bf606",
   "metadata": {},
   "outputs": [],
   "source": []
  }
 ],
 "metadata": {
  "kernelspec": {
   "display_name": "Python Multi",
   "language": "python",
   "name": "multi"
  },
  "language_info": {
   "codemirror_mode": {
    "name": "ipython",
    "version": 3
   },
   "file_extension": ".py",
   "mimetype": "text/x-python",
   "name": "python",
   "nbconvert_exporter": "python",
   "pygments_lexer": "ipython3",
   "version": "3.7.6"
  }
 },
 "nbformat": 4,
 "nbformat_minor": 5
}
